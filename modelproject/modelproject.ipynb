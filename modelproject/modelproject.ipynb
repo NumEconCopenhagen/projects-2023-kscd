{
 "cells": [
  {
   "attachments": {},
   "cell_type": "markdown",
   "metadata": {},
   "source": [
    "# Model Project - Cobb-Douglas Production Function"
   ]
  },
  {
   "attachments": {},
   "cell_type": "markdown",
   "metadata": {},
   "source": [
    "The Cobb-Douglas Production Function is a fundamental model within economics (macro economic to be specific) that illustrates the relationship between output and inputs in the production process. \n",
    "\n",
    "The project is presented as a \"story\" that aims to provide a more reader-friendly flow. Instead of explaining every component of the code in the begining, we will instead present and explain the code as we progress through the analysis.\n",
    "\n",
    "This approach allows readers to follow along more easily and better understand how the analysis was conducted."
   ]
  },
  {
   "attachments": {},
   "cell_type": "markdown",
   "metadata": {},
   "source": [
    "---\n",
    "## Importing Dependencies and Setting Up\n",
    "\n",
    "The imported modules in the code below are essential for mathematical computation, optimization, and symbolic algebra. The numpy library is used for numerical operations, while the scipy.optimize module provides optimization routines for solving the Cobb-Douglas model. The sympy library is employed for symbolic algebra, which can be helpful when working with analytical solutions or derivatives.\n",
    "\n",
    "To ensure the code is up to date, we use the autoreload IPython extension. This extension automatically reloads imported modules whenever the code is executed, ensuring that the latest changes are reflected in the notebook.\n",
    "\n",
    "The CobbDouglasModelClass is imported from the Cobb_Douglas module, which contains the implementation of the Cobb-Douglas model. We create an instance of the CobbDouglasModelClass to work with in the notebook."
   ]
  },
  {
   "cell_type": "code",
   "execution_count": null,
   "metadata": {},
   "outputs": [],
   "source": [
    "# Import necessary libraries\n",
    "import numpy as np\n",
    "from scipy.optimize import minimize\n",
    "\n",
    "# Enable autoreload of modules\n",
    "%load_ext autoreload\n",
    "%autoreload 2\n",
    "\n",
    "# Import the CobbDouglasModelClass\n",
    "from Cobb_Douglas import CobbDouglasModelClass\n",
    "\n",
    "# Create an instance of the CobbDouglasModelClass\n",
    "model = CobbDouglasModelClass()"
   ]
  },
  {
   "attachments": {},
   "cell_type": "markdown",
   "metadata": {},
   "source": [
    "---\n",
    "# Model Description\n",
    "The Cobb-Douglas production function is a widely used economic model that describes the relationship between inputs (capital and labor) and output in the production process. It assumes that output is a result of a constant elasticity of substitution production technology."
   ]
  },
  {
   "cell_type": "markdown",
   "metadata": {},
   "source": [
    "## Numerical solution"
   ]
  },
  {
   "cell_type": "markdown",
   "metadata": {},
   "source": [
    "You can always solve a model numerically. \n",
    "\n",
    "Define first the set of parameters you need. \n",
    "\n",
    "Then choose one of the optimization algorithms that we have gone through in the lectures based on what you think is most fitting for your model.\n",
    "\n",
    "Are there any problems with convergence? Does the model converge for all starting values? Make a lot of testing to figure these things out. "
   ]
  },
  {
   "cell_type": "markdown",
   "metadata": {},
   "source": [
    "# Further analysis"
   ]
  },
  {
   "cell_type": "markdown",
   "metadata": {},
   "source": [
    "Make detailed vizualizations of how your model changes with parameter values. \n",
    "\n",
    "Try to make an extension of the model. "
   ]
  },
  {
   "cell_type": "markdown",
   "metadata": {},
   "source": [
    "# Conclusion"
   ]
  },
  {
   "cell_type": "markdown",
   "metadata": {},
   "source": [
    "Add concise conclusion. "
   ]
  }
 ],
 "metadata": {
  "kernelspec": {
   "display_name": "base",
   "language": "python",
   "name": "python3"
  },
  "language_info": {
   "codemirror_mode": {
    "name": "ipython",
    "version": 3
   },
   "file_extension": ".py",
   "mimetype": "text/x-python",
   "name": "python",
   "nbconvert_exporter": "python",
   "pygments_lexer": "ipython3",
   "version": "3.9.10"
  },
  "toc-autonumbering": true,
  "vscode": {
   "interpreter": {
    "hash": "47ef90cdf3004d3f859f1fb202523c65c07ba7c22eefd261b181f4744e2d0403"
   }
  }
 },
 "nbformat": 4,
 "nbformat_minor": 4
}
