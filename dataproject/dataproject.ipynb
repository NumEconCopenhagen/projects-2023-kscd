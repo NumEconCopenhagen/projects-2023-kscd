{
 "cells": [
  {
   "attachments": {},
   "cell_type": "markdown",
   "metadata": {},
   "source": [
    "# Data Project - Gender Disparities in Employment and Unemployment Across Danish Industries\n",
    "---"
   ]
  },
  {
   "attachments": {},
   "cell_type": "markdown",
   "metadata": {},
   "source": [
    "Gross unemployment rate is an important economic indicator that measures the percentage of the labor force that is unemployed and actively seeking work. In this project, we will focus on analyzing the gross unemployment rate in Denmark across different industries. By doing so, we aim to identify patterns and trends in the labor market that can help inform policy decisions and support efforts to reduce unemployment in the country. Specifically, we will explore how the gender gap in unemployment rates varies across different industries, and whether certain industries are more prone to higher levels of unemployment than others. To accomplish this, we will use data from Statistics Denmark and visualize our findings using interactive plots.\n",
    "\n",
    "The project is presented as a \"story\" that aims to provide a more reader-friendly flow. Instead of importing all the necessary data at once and explaining it in detail, we visualize the area of interest and import the relevant data as we progress through the analysis.\n",
    "\n",
    "This approach allows readers to follow along more easily and better understand how the analysis was conducted."
   ]
  },
  {
   "attachments": {},
   "cell_type": "markdown",
   "metadata": {},
   "source": [
    "---\n",
    "## Necesities\n",
    "\n",
    "The imported modules in the code below will allow for general calculations, using the Statistics Denmark API to retrieve data, and creating interactive plots. The numpy and pandas libraries are used for data manipulation and analysis, while the dstapi module is used to retrieve data from the Statistics Denmark API. The matplotlib and plotly libraries are used to create visualizations of the data.\n",
    "\n",
    "Furthermore for consistency sake, all figures are interactive. To select/deselect parts of the graphs simply use the legends.\n",
    "\n",
    ">NOTE: This project uses DstAPI, which requires further installtion. See ReadMe for installtion guide"
   ]
  },
  {
   "cell_type": "code",
   "execution_count": 1,
   "metadata": {},
   "outputs": [],
   "source": [
    "# For general Calculations and libraries\n",
    "import numpy as np\n",
    "import pandas as pd\n",
    "\n",
    "# For using Statistics Denmark API\n",
    "from dstapi import DstApi\n",
    "\n",
    "# For interactive plots\n",
    "import matplotlib.pyplot as plt\n",
    "import plotly.express as px\n",
    "import plotly.graph_objs as go"
   ]
  },
  {
   "attachments": {},
   "cell_type": "markdown",
   "metadata": {},
   "source": [
    "---\n",
    "## Gender disparity in gross unemployment (2007-2022)\n",
    "\n",
    "To start with, we want to find data on gross unemployment in Denmark for the period 2007-2022. For this, data from table AULP01 is being used, which comes from the DST API and shows the number of \"Full-time unemployed persons in per cent of the labor force by region, age and sex\". The data is a register-based unemployment statistic, where a monthly total count is made of the gross unemployed registered in the unemployment funds and the public job centers in Denmark but is calculated in this table as the annual unemployment rate. A table summary is drawn up from this data, which can be seen below. After this, the parameters are defined where it is chosen to examine the gross unemployment for the whole of Denmark and for all ages, but with a division within gender, as it is this parameter that we want to examine the relationship on. This therefore means that with the \"drop\" function we remove the data division for area and age, as the focus is instead on gender, where the other parameters are therefore not investigated in this project. Data is sorted by time, where the unemployment percentages are also converted from being strings to floats. This can be displayed as an unemployment table, which is also seen below. In addition to this table, a graphical illustration of the gross unemployment rates for each men and women as well as the total rate is made as an interactive plot, which is seen as Figure 1 below."
   ]
  },
  {
   "cell_type": "code",
   "execution_count": 2,
   "metadata": {},
   "outputs": [
    {
     "name": "stdout",
     "output_type": "stream",
     "text": [
      "Table AULP01: Full-time unemployed persons in per cent of the labour force by region, age, sex and time\n",
      "Last update: 2023-04-14T08:00:00\n"
     ]
    },
    {
     "data": {
      "text/html": [
       "<div>\n",
       "<style scoped>\n",
       "    .dataframe tbody tr th:only-of-type {\n",
       "        vertical-align: middle;\n",
       "    }\n",
       "\n",
       "    .dataframe tbody tr th {\n",
       "        vertical-align: top;\n",
       "    }\n",
       "\n",
       "    .dataframe thead th {\n",
       "        text-align: right;\n",
       "    }\n",
       "</style>\n",
       "<table border=\"1\" class=\"dataframe\">\n",
       "  <thead>\n",
       "    <tr style=\"text-align: right;\">\n",
       "      <th></th>\n",
       "      <th>variable name</th>\n",
       "      <th># values</th>\n",
       "      <th>First value</th>\n",
       "      <th>First value label</th>\n",
       "      <th>Last value</th>\n",
       "      <th>Last value label</th>\n",
       "      <th>Time variable</th>\n",
       "    </tr>\n",
       "  </thead>\n",
       "  <tbody>\n",
       "    <tr>\n",
       "      <th>0</th>\n",
       "      <td>OMRÅDE</td>\n",
       "      <td>117</td>\n",
       "      <td>000</td>\n",
       "      <td>All Denmark</td>\n",
       "      <td>997</td>\n",
       "      <td>Abroad</td>\n",
       "      <td>False</td>\n",
       "    </tr>\n",
       "    <tr>\n",
       "      <th>1</th>\n",
       "      <td>ALDER</td>\n",
       "      <td>10</td>\n",
       "      <td>TOT</td>\n",
       "      <td>Age, total</td>\n",
       "      <td>6099</td>\n",
       "      <td>60 year and over</td>\n",
       "      <td>False</td>\n",
       "    </tr>\n",
       "    <tr>\n",
       "      <th>2</th>\n",
       "      <td>KØN</td>\n",
       "      <td>3</td>\n",
       "      <td>TOT</td>\n",
       "      <td>Total</td>\n",
       "      <td>K</td>\n",
       "      <td>Women</td>\n",
       "      <td>False</td>\n",
       "    </tr>\n",
       "    <tr>\n",
       "      <th>3</th>\n",
       "      <td>Tid</td>\n",
       "      <td>16</td>\n",
       "      <td>2007</td>\n",
       "      <td>2007</td>\n",
       "      <td>2022</td>\n",
       "      <td>2022</td>\n",
       "      <td>True</td>\n",
       "    </tr>\n",
       "  </tbody>\n",
       "</table>\n",
       "</div>"
      ],
      "text/plain": [
       "  variable name  # values First value First value label Last value  \\\n",
       "0        OMRÅDE       117         000       All Denmark        997   \n",
       "1         ALDER        10         TOT        Age, total       6099   \n",
       "2           KØN         3         TOT             Total          K   \n",
       "3           Tid        16        2007              2007       2022   \n",
       "\n",
       "   Last value label  Time variable  \n",
       "0            Abroad          False  \n",
       "1  60 year and over          False  \n",
       "2             Women          False  \n",
       "3              2022           True  "
      ]
     },
     "execution_count": 2,
     "metadata": {},
     "output_type": "execute_result"
    }
   ],
   "source": [
    "# Searching for gross unemployment data through DST API\n",
    "gross_unemployment_dst = DstApi('AULP01')\n",
    "\n",
    "# Creating and displaying the a summary of the gross unemployment data\n",
    "summary_gross_unemployment = gross_unemployment_dst.tablesummary(language='en')\n",
    "summary_gross_unemployment"
   ]
  },
  {
   "cell_type": "code",
   "execution_count": 3,
   "metadata": {},
   "outputs": [
    {
     "data": {
      "text/html": [
       "<div>\n",
       "<style scoped>\n",
       "    .dataframe tbody tr th:only-of-type {\n",
       "        vertical-align: middle;\n",
       "    }\n",
       "\n",
       "    .dataframe tbody tr th {\n",
       "        vertical-align: top;\n",
       "    }\n",
       "\n",
       "    .dataframe thead th {\n",
       "        text-align: right;\n",
       "    }\n",
       "</style>\n",
       "<table border=\"1\" class=\"dataframe\">\n",
       "  <thead>\n",
       "    <tr style=\"text-align: right;\">\n",
       "      <th></th>\n",
       "      <th>GENDER</th>\n",
       "      <th>YEAR</th>\n",
       "      <th>GROSS UNEMPLOYMENT RATE (%)</th>\n",
       "    </tr>\n",
       "  </thead>\n",
       "  <tbody>\n",
       "    <tr>\n",
       "      <th>0</th>\n",
       "      <td>Women</td>\n",
       "      <td>2007</td>\n",
       "      <td>4.4</td>\n",
       "    </tr>\n",
       "    <tr>\n",
       "      <th>1</th>\n",
       "      <td>Men</td>\n",
       "      <td>2007</td>\n",
       "      <td>2.9</td>\n",
       "    </tr>\n",
       "    <tr>\n",
       "      <th>2</th>\n",
       "      <td>Total</td>\n",
       "      <td>2007</td>\n",
       "      <td>3.6</td>\n",
       "    </tr>\n",
       "    <tr>\n",
       "      <th>3</th>\n",
       "      <td>Women</td>\n",
       "      <td>2008</td>\n",
       "      <td>2.9</td>\n",
       "    </tr>\n",
       "    <tr>\n",
       "      <th>4</th>\n",
       "      <td>Men</td>\n",
       "      <td>2008</td>\n",
       "      <td>2.4</td>\n",
       "    </tr>\n",
       "    <tr>\n",
       "      <th>5</th>\n",
       "      <td>Total</td>\n",
       "      <td>2008</td>\n",
       "      <td>2.6</td>\n",
       "    </tr>\n",
       "  </tbody>\n",
       "</table>\n",
       "</div>"
      ],
      "text/plain": [
       "  GENDER  YEAR  GROSS UNEMPLOYMENT RATE (%)\n",
       "0  Women  2007                          4.4\n",
       "1    Men  2007                          2.9\n",
       "2  Total  2007                          3.6\n",
       "3  Women  2008                          2.9\n",
       "4    Men  2008                          2.4\n",
       "5  Total  2008                          2.6"
      ]
     },
     "execution_count": 3,
     "metadata": {},
     "output_type": "execute_result"
    }
   ],
   "source": [
    "# Setting parameters\n",
    "par_gross_unemployment = {\n",
    "    'table': 'AULP01',\n",
    "    'format': 'BULK',\n",
    "    'lang': 'en',\n",
    "    'variables': [\n",
    "        {'code': 'OMRÅDE', 'values': ['000']}, #000 = All of Denmark\n",
    "        {'code': 'ALDER', 'values': ['TOT']}, #TOT = Age, total\n",
    "        {'code': 'KØN', 'values': ['TOT', 'M', 'K']}, #TOT = Total, M = Men, K = Woman\n",
    "        {'code': 'Tid', 'values': ['2006<=2022']}\n",
    "    ]\n",
    "}\n",
    "\n",
    "# Fetching data based parameters set (Fetching from AUS07)\n",
    "gross_unemployment = gross_unemployment_dst.get_data(params=par_gross_unemployment)\n",
    "\n",
    "# Removing the 'OMRÅDE' and 'ALDER' columns\n",
    "gross_unemployment = gross_unemployment.drop(['OMRÅDE', 'ALDER'], axis=1)\n",
    "\n",
    "# Sort the DataFrame by date\n",
    "gross_unemployment = gross_unemployment.sort_values('TID')\n",
    "\n",
    "# Renaming the columns\n",
    "gross_unemployment.rename(columns=\n",
    "                          {'KØN':'GENDER',\n",
    "                          'TID':'YEAR',\n",
    "                          'INDHOLD':'GROSS UNEMPLOYMENT RATE (%)'},\n",
    "                          inplace=True\n",
    "                    )\n",
    "\n",
    "# Convert pct. into floats\n",
    "gross_unemployment['GROSS UNEMPLOYMENT RATE (%)'] = pd.to_numeric(gross_unemployment['GROSS UNEMPLOYMENT RATE (%)'])\n",
    "\n",
    "# Displaying gross unemployment table\n",
    "gross_unemployment.head(6)"
   ]
  },
  {
   "cell_type": "code",
   "execution_count": 4,
   "metadata": {},
   "outputs": [
    {
     "data": {
      "application/vnd.plotly.v1+json": {
       "config": {
        "plotlyServerURL": "https://plot.ly"
       },
       "data": [
        {
         "hovertemplate": "<extra></extra>",
         "legendgroup": "",
         "line": {
          "color": "#636efa",
          "dash": "solid"
         },
         "marker": {
          "symbol": "circle"
         },
         "mode": "lines",
         "name": "",
         "orientation": "v",
         "showlegend": false,
         "type": "scatter",
         "xaxis": "x",
         "yaxis": "y"
        },
        {
         "line": {
          "color": "blue"
         },
         "mode": "lines",
         "name": "Men",
         "type": "scatter",
         "x": [
          2007,
          2008,
          2009,
          2010,
          2011,
          2012,
          2013,
          2014,
          2015,
          2016,
          2017,
          2018,
          2019,
          2020,
          2021,
          2022
         ],
         "y": [
          2.9,
          2.4,
          5.5,
          6.9,
          6.2,
          6.1,
          5.7,
          4.8,
          4.4,
          3.9,
          4,
          3.6,
          3.4,
          4.5,
          3.5,
          2.4
         ]
        },
        {
         "line": {
          "color": "green"
         },
         "mode": "lines",
         "name": "Total",
         "type": "scatter",
         "x": [
          2007,
          2008,
          2009,
          2010,
          2011,
          2012,
          2013,
          2014,
          2015,
          2016,
          2017,
          2018,
          2019,
          2020,
          2021,
          2022
         ],
         "y": [
          3.6,
          2.6,
          4.8,
          6.1,
          5.9,
          6,
          5.8,
          5,
          4.5,
          4.1,
          4.2,
          3.8,
          3.7,
          4.6,
          3.6,
          2.6
         ]
        },
        {
         "line": {
          "color": "red"
         },
         "mode": "lines",
         "name": "Women",
         "type": "scatter",
         "x": [
          2007,
          2008,
          2009,
          2010,
          2011,
          2012,
          2013,
          2014,
          2015,
          2016,
          2017,
          2018,
          2019,
          2020,
          2021,
          2022
         ],
         "y": [
          4.4,
          2.9,
          4.1,
          5.1,
          5.7,
          6,
          5.8,
          5.2,
          4.8,
          4.4,
          4.4,
          4.1,
          3.9,
          4.7,
          3.7,
          2.8
         ]
        }
       ],
       "layout": {
        "annotations": [
         {
          "font": {
           "size": 10
          },
          "showarrow": false,
          "text": "Source: Statistics Denmark AULP01",
          "x": 0,
          "xref": "paper",
          "y": 0,
          "yref": "paper"
         }
        ],
        "height": 500,
        "hovermode": "x unified",
        "legend": {
         "tracegroupgap": 0
        },
        "margin": {
         "b": 50,
         "l": 50,
         "pad": 4,
         "r": 50,
         "t": 50
        },
        "template": {
         "data": {
          "bar": [
           {
            "error_x": {
             "color": "#2a3f5f"
            },
            "error_y": {
             "color": "#2a3f5f"
            },
            "marker": {
             "line": {
              "color": "#E5ECF6",
              "width": 0.5
             },
             "pattern": {
              "fillmode": "overlay",
              "size": 10,
              "solidity": 0.2
             }
            },
            "type": "bar"
           }
          ],
          "barpolar": [
           {
            "marker": {
             "line": {
              "color": "#E5ECF6",
              "width": 0.5
             },
             "pattern": {
              "fillmode": "overlay",
              "size": 10,
              "solidity": 0.2
             }
            },
            "type": "barpolar"
           }
          ],
          "carpet": [
           {
            "aaxis": {
             "endlinecolor": "#2a3f5f",
             "gridcolor": "white",
             "linecolor": "white",
             "minorgridcolor": "white",
             "startlinecolor": "#2a3f5f"
            },
            "baxis": {
             "endlinecolor": "#2a3f5f",
             "gridcolor": "white",
             "linecolor": "white",
             "minorgridcolor": "white",
             "startlinecolor": "#2a3f5f"
            },
            "type": "carpet"
           }
          ],
          "choropleth": [
           {
            "colorbar": {
             "outlinewidth": 0,
             "ticks": ""
            },
            "type": "choropleth"
           }
          ],
          "contour": [
           {
            "colorbar": {
             "outlinewidth": 0,
             "ticks": ""
            },
            "colorscale": [
             [
              0,
              "#0d0887"
             ],
             [
              0.1111111111111111,
              "#46039f"
             ],
             [
              0.2222222222222222,
              "#7201a8"
             ],
             [
              0.3333333333333333,
              "#9c179e"
             ],
             [
              0.4444444444444444,
              "#bd3786"
             ],
             [
              0.5555555555555556,
              "#d8576b"
             ],
             [
              0.6666666666666666,
              "#ed7953"
             ],
             [
              0.7777777777777778,
              "#fb9f3a"
             ],
             [
              0.8888888888888888,
              "#fdca26"
             ],
             [
              1,
              "#f0f921"
             ]
            ],
            "type": "contour"
           }
          ],
          "contourcarpet": [
           {
            "colorbar": {
             "outlinewidth": 0,
             "ticks": ""
            },
            "type": "contourcarpet"
           }
          ],
          "heatmap": [
           {
            "colorbar": {
             "outlinewidth": 0,
             "ticks": ""
            },
            "colorscale": [
             [
              0,
              "#0d0887"
             ],
             [
              0.1111111111111111,
              "#46039f"
             ],
             [
              0.2222222222222222,
              "#7201a8"
             ],
             [
              0.3333333333333333,
              "#9c179e"
             ],
             [
              0.4444444444444444,
              "#bd3786"
             ],
             [
              0.5555555555555556,
              "#d8576b"
             ],
             [
              0.6666666666666666,
              "#ed7953"
             ],
             [
              0.7777777777777778,
              "#fb9f3a"
             ],
             [
              0.8888888888888888,
              "#fdca26"
             ],
             [
              1,
              "#f0f921"
             ]
            ],
            "type": "heatmap"
           }
          ],
          "heatmapgl": [
           {
            "colorbar": {
             "outlinewidth": 0,
             "ticks": ""
            },
            "colorscale": [
             [
              0,
              "#0d0887"
             ],
             [
              0.1111111111111111,
              "#46039f"
             ],
             [
              0.2222222222222222,
              "#7201a8"
             ],
             [
              0.3333333333333333,
              "#9c179e"
             ],
             [
              0.4444444444444444,
              "#bd3786"
             ],
             [
              0.5555555555555556,
              "#d8576b"
             ],
             [
              0.6666666666666666,
              "#ed7953"
             ],
             [
              0.7777777777777778,
              "#fb9f3a"
             ],
             [
              0.8888888888888888,
              "#fdca26"
             ],
             [
              1,
              "#f0f921"
             ]
            ],
            "type": "heatmapgl"
           }
          ],
          "histogram": [
           {
            "marker": {
             "pattern": {
              "fillmode": "overlay",
              "size": 10,
              "solidity": 0.2
             }
            },
            "type": "histogram"
           }
          ],
          "histogram2d": [
           {
            "colorbar": {
             "outlinewidth": 0,
             "ticks": ""
            },
            "colorscale": [
             [
              0,
              "#0d0887"
             ],
             [
              0.1111111111111111,
              "#46039f"
             ],
             [
              0.2222222222222222,
              "#7201a8"
             ],
             [
              0.3333333333333333,
              "#9c179e"
             ],
             [
              0.4444444444444444,
              "#bd3786"
             ],
             [
              0.5555555555555556,
              "#d8576b"
             ],
             [
              0.6666666666666666,
              "#ed7953"
             ],
             [
              0.7777777777777778,
              "#fb9f3a"
             ],
             [
              0.8888888888888888,
              "#fdca26"
             ],
             [
              1,
              "#f0f921"
             ]
            ],
            "type": "histogram2d"
           }
          ],
          "histogram2dcontour": [
           {
            "colorbar": {
             "outlinewidth": 0,
             "ticks": ""
            },
            "colorscale": [
             [
              0,
              "#0d0887"
             ],
             [
              0.1111111111111111,
              "#46039f"
             ],
             [
              0.2222222222222222,
              "#7201a8"
             ],
             [
              0.3333333333333333,
              "#9c179e"
             ],
             [
              0.4444444444444444,
              "#bd3786"
             ],
             [
              0.5555555555555556,
              "#d8576b"
             ],
             [
              0.6666666666666666,
              "#ed7953"
             ],
             [
              0.7777777777777778,
              "#fb9f3a"
             ],
             [
              0.8888888888888888,
              "#fdca26"
             ],
             [
              1,
              "#f0f921"
             ]
            ],
            "type": "histogram2dcontour"
           }
          ],
          "mesh3d": [
           {
            "colorbar": {
             "outlinewidth": 0,
             "ticks": ""
            },
            "type": "mesh3d"
           }
          ],
          "parcoords": [
           {
            "line": {
             "colorbar": {
              "outlinewidth": 0,
              "ticks": ""
             }
            },
            "type": "parcoords"
           }
          ],
          "pie": [
           {
            "automargin": true,
            "type": "pie"
           }
          ],
          "scatter": [
           {
            "fillpattern": {
             "fillmode": "overlay",
             "size": 10,
             "solidity": 0.2
            },
            "type": "scatter"
           }
          ],
          "scatter3d": [
           {
            "line": {
             "colorbar": {
              "outlinewidth": 0,
              "ticks": ""
             }
            },
            "marker": {
             "colorbar": {
              "outlinewidth": 0,
              "ticks": ""
             }
            },
            "type": "scatter3d"
           }
          ],
          "scattercarpet": [
           {
            "marker": {
             "colorbar": {
              "outlinewidth": 0,
              "ticks": ""
             }
            },
            "type": "scattercarpet"
           }
          ],
          "scattergeo": [
           {
            "marker": {
             "colorbar": {
              "outlinewidth": 0,
              "ticks": ""
             }
            },
            "type": "scattergeo"
           }
          ],
          "scattergl": [
           {
            "marker": {
             "colorbar": {
              "outlinewidth": 0,
              "ticks": ""
             }
            },
            "type": "scattergl"
           }
          ],
          "scattermapbox": [
           {
            "marker": {
             "colorbar": {
              "outlinewidth": 0,
              "ticks": ""
             }
            },
            "type": "scattermapbox"
           }
          ],
          "scatterpolar": [
           {
            "marker": {
             "colorbar": {
              "outlinewidth": 0,
              "ticks": ""
             }
            },
            "type": "scatterpolar"
           }
          ],
          "scatterpolargl": [
           {
            "marker": {
             "colorbar": {
              "outlinewidth": 0,
              "ticks": ""
             }
            },
            "type": "scatterpolargl"
           }
          ],
          "scatterternary": [
           {
            "marker": {
             "colorbar": {
              "outlinewidth": 0,
              "ticks": ""
             }
            },
            "type": "scatterternary"
           }
          ],
          "surface": [
           {
            "colorbar": {
             "outlinewidth": 0,
             "ticks": ""
            },
            "colorscale": [
             [
              0,
              "#0d0887"
             ],
             [
              0.1111111111111111,
              "#46039f"
             ],
             [
              0.2222222222222222,
              "#7201a8"
             ],
             [
              0.3333333333333333,
              "#9c179e"
             ],
             [
              0.4444444444444444,
              "#bd3786"
             ],
             [
              0.5555555555555556,
              "#d8576b"
             ],
             [
              0.6666666666666666,
              "#ed7953"
             ],
             [
              0.7777777777777778,
              "#fb9f3a"
             ],
             [
              0.8888888888888888,
              "#fdca26"
             ],
             [
              1,
              "#f0f921"
             ]
            ],
            "type": "surface"
           }
          ],
          "table": [
           {
            "cells": {
             "fill": {
              "color": "#EBF0F8"
             },
             "line": {
              "color": "white"
             }
            },
            "header": {
             "fill": {
              "color": "#C8D4E3"
             },
             "line": {
              "color": "white"
             }
            },
            "type": "table"
           }
          ]
         },
         "layout": {
          "annotationdefaults": {
           "arrowcolor": "#2a3f5f",
           "arrowhead": 0,
           "arrowwidth": 1
          },
          "autotypenumbers": "strict",
          "coloraxis": {
           "colorbar": {
            "outlinewidth": 0,
            "ticks": ""
           }
          },
          "colorscale": {
           "diverging": [
            [
             0,
             "#8e0152"
            ],
            [
             0.1,
             "#c51b7d"
            ],
            [
             0.2,
             "#de77ae"
            ],
            [
             0.3,
             "#f1b6da"
            ],
            [
             0.4,
             "#fde0ef"
            ],
            [
             0.5,
             "#f7f7f7"
            ],
            [
             0.6,
             "#e6f5d0"
            ],
            [
             0.7,
             "#b8e186"
            ],
            [
             0.8,
             "#7fbc41"
            ],
            [
             0.9,
             "#4d9221"
            ],
            [
             1,
             "#276419"
            ]
           ],
           "sequential": [
            [
             0,
             "#0d0887"
            ],
            [
             0.1111111111111111,
             "#46039f"
            ],
            [
             0.2222222222222222,
             "#7201a8"
            ],
            [
             0.3333333333333333,
             "#9c179e"
            ],
            [
             0.4444444444444444,
             "#bd3786"
            ],
            [
             0.5555555555555556,
             "#d8576b"
            ],
            [
             0.6666666666666666,
             "#ed7953"
            ],
            [
             0.7777777777777778,
             "#fb9f3a"
            ],
            [
             0.8888888888888888,
             "#fdca26"
            ],
            [
             1,
             "#f0f921"
            ]
           ],
           "sequentialminus": [
            [
             0,
             "#0d0887"
            ],
            [
             0.1111111111111111,
             "#46039f"
            ],
            [
             0.2222222222222222,
             "#7201a8"
            ],
            [
             0.3333333333333333,
             "#9c179e"
            ],
            [
             0.4444444444444444,
             "#bd3786"
            ],
            [
             0.5555555555555556,
             "#d8576b"
            ],
            [
             0.6666666666666666,
             "#ed7953"
            ],
            [
             0.7777777777777778,
             "#fb9f3a"
            ],
            [
             0.8888888888888888,
             "#fdca26"
            ],
            [
             1,
             "#f0f921"
            ]
           ]
          },
          "colorway": [
           "#636efa",
           "#EF553B",
           "#00cc96",
           "#ab63fa",
           "#FFA15A",
           "#19d3f3",
           "#FF6692",
           "#B6E880",
           "#FF97FF",
           "#FECB52"
          ],
          "font": {
           "color": "#2a3f5f"
          },
          "geo": {
           "bgcolor": "white",
           "lakecolor": "white",
           "landcolor": "#E5ECF6",
           "showlakes": true,
           "showland": true,
           "subunitcolor": "white"
          },
          "hoverlabel": {
           "align": "left"
          },
          "hovermode": "closest",
          "mapbox": {
           "style": "light"
          },
          "paper_bgcolor": "white",
          "plot_bgcolor": "#E5ECF6",
          "polar": {
           "angularaxis": {
            "gridcolor": "white",
            "linecolor": "white",
            "ticks": ""
           },
           "bgcolor": "#E5ECF6",
           "radialaxis": {
            "gridcolor": "white",
            "linecolor": "white",
            "ticks": ""
           }
          },
          "scene": {
           "xaxis": {
            "backgroundcolor": "#E5ECF6",
            "gridcolor": "white",
            "gridwidth": 2,
            "linecolor": "white",
            "showbackground": true,
            "ticks": "",
            "zerolinecolor": "white"
           },
           "yaxis": {
            "backgroundcolor": "#E5ECF6",
            "gridcolor": "white",
            "gridwidth": 2,
            "linecolor": "white",
            "showbackground": true,
            "ticks": "",
            "zerolinecolor": "white"
           },
           "zaxis": {
            "backgroundcolor": "#E5ECF6",
            "gridcolor": "white",
            "gridwidth": 2,
            "linecolor": "white",
            "showbackground": true,
            "ticks": "",
            "zerolinecolor": "white"
           }
          },
          "shapedefaults": {
           "line": {
            "color": "#2a3f5f"
           }
          },
          "ternary": {
           "aaxis": {
            "gridcolor": "white",
            "linecolor": "white",
            "ticks": ""
           },
           "baxis": {
            "gridcolor": "white",
            "linecolor": "white",
            "ticks": ""
           },
           "bgcolor": "#E5ECF6",
           "caxis": {
            "gridcolor": "white",
            "linecolor": "white",
            "ticks": ""
           }
          },
          "title": {
           "x": 0.05
          },
          "xaxis": {
           "automargin": true,
           "gridcolor": "white",
           "linecolor": "white",
           "ticks": "",
           "title": {
            "standoff": 15
           },
           "zerolinecolor": "white",
           "zerolinewidth": 2
          },
          "yaxis": {
           "automargin": true,
           "gridcolor": "white",
           "linecolor": "white",
           "ticks": "",
           "title": {
            "standoff": 15
           },
           "zerolinecolor": "white",
           "zerolinewidth": 2
          }
         }
        },
        "title": {
         "font": {
          "size": 20
         },
         "text": "Figure 1: Gross Unemployment as a pct. of the labor force by gender in Denmark",
         "x": 0.5
        },
        "width": 1000,
        "xaxis": {
         "anchor": "y",
         "domain": [
          0,
          1
         ],
         "dtick": 1,
         "tickmode": "linear",
         "title": {
          "text": ""
         }
        },
        "yaxis": {
         "anchor": "x",
         "domain": [
          0,
          1
         ],
         "title": {
          "text": "Gross Unemployment Rate (%)"
         }
        }
       }
      }
     },
     "metadata": {},
     "output_type": "display_data"
    }
   ],
   "source": [
    "# Define colors for each line\n",
    "colors = {'Total': 'green', 'Men': 'blue', 'Women': 'red'}\n",
    "\n",
    "# Group the data by the 'TOTAL GROSS EMPLOYMENT AND SEX' column\n",
    "grouped = gross_unemployment.groupby('GENDER')\n",
    "\n",
    "# Create a figure object\n",
    "fig_1 = px.line(title='Figure 1: Gross Unemployment as a pct. of the labor force by gender in Denmark')\n",
    "\n",
    "# Loop through the grouped data and add each group to the figure with the defined color\n",
    "for name, group in grouped:\n",
    "    fig_1.add_scatter(x=group['YEAR'], y=group['GROSS UNEMPLOYMENT RATE (%)'], mode='lines', name=name, line=dict(color=colors[name]))\n",
    "\n",
    "# Update the layout of the figure\n",
    "fig_1.update_layout(xaxis_title='', yaxis_title='Gross Unemployment Rate (%)', title_font=dict(size=20), \n",
    "                  title_x=0.5, margin=dict(l=50, r=50, b=50, t=50, pad=4), hovermode='x unified',\n",
    "                  xaxis=dict(tickmode='linear', dtick=1),\n",
    "                  height = 500, width = 1000)\n",
    "\n",
    "# Add a text box for the source\n",
    "fig_1.add_annotation(text='Source: Statistics Denmark AULP01', xref='paper', yref='paper', x=0, y=0, showarrow=False, font=dict(size=10))\n",
    "\n",
    "# Show the interactive plot\n",
    "fig_1.show()"
   ]
  },
  {
   "attachments": {},
   "cell_type": "markdown",
   "metadata": {},
   "source": [
    "We look at Figure 1 men's and women's gross unemployment rate in percentage, where gross unemployment in 2007 and 2008 is seen to be decreasing, where in 2009 and 2010 it rises sharply, but worst for men. However, unemployment gradually falls in the years after the financial crisis as there is more confidence in the economy and activity increases. This increase slows down in 2020, which is primarily due to the corona epidemic, where unemployment is seen to rise until 2021, when it falls again and is seen to be at its lowest since 2008. \n",
    "\n",
    "With a new figure, we now want to illustrate the differences more clearly in gross unemployment between men and women in Denmark. We also call this the Gender Unemployment Gap and is found as the difference between the gross unemployment rates for women and men. In addition, a horizontal line is inserted at a Gender Unemployment Gap of zero to more clearly show when the trends reverse during the period. This is drawn as an interactive plot and can be seen below as Figure 2."
   ]
  },
  {
   "cell_type": "code",
   "execution_count": 5,
   "metadata": {},
   "outputs": [
    {
     "data": {
      "application/vnd.plotly.v1+json": {
       "config": {
        "plotlyServerURL": "https://plot.ly"
       },
       "data": [
        {
         "hovertemplate": "YEAR=%{x}<br>GENDER UNEMPLOYMENT GAP (%)=%{y}<extra></extra>",
         "legendgroup": "",
         "line": {
          "color": "#636efa",
          "dash": "solid"
         },
         "marker": {
          "symbol": "circle"
         },
         "mode": "lines",
         "name": "",
         "orientation": "v",
         "showlegend": false,
         "type": "scatter",
         "x": [
          2007,
          2008,
          2009,
          2010,
          2011,
          2012,
          2013,
          2014,
          2015,
          2016,
          2017,
          2018,
          2019,
          2020,
          2021,
          2022
         ],
         "xaxis": "x",
         "y": [
          1.5000000000000004,
          0.5,
          -1.4000000000000004,
          -1.8000000000000007,
          -0.5,
          -0.09999999999999964,
          0.09999999999999964,
          0.40000000000000036,
          0.39999999999999947,
          0.5000000000000004,
          0.40000000000000036,
          0.49999999999999956,
          0.5,
          0.20000000000000018,
          0.20000000000000018,
          0.3999999999999999
         ],
         "yaxis": "y"
        }
       ],
       "layout": {
        "annotations": [
         {
          "font": {
           "size": 10
          },
          "showarrow": false,
          "text": "Source: Statistics Denmark AULP01",
          "x": 0,
          "xref": "paper",
          "y": 0,
          "yref": "paper"
         }
        ],
        "height": 500,
        "hovermode": "x unified",
        "legend": {
         "tracegroupgap": 0
        },
        "margin": {
         "b": 50,
         "l": 50,
         "pad": 4,
         "r": 50,
         "t": 50
        },
        "shapes": [
         {
          "line": {
           "color": "black",
           "width": 0.5
          },
          "type": "line",
          "x0": 2007,
          "x1": 2022,
          "y0": 0,
          "y1": 0
         }
        ],
        "template": {
         "data": {
          "bar": [
           {
            "error_x": {
             "color": "#2a3f5f"
            },
            "error_y": {
             "color": "#2a3f5f"
            },
            "marker": {
             "line": {
              "color": "#E5ECF6",
              "width": 0.5
             },
             "pattern": {
              "fillmode": "overlay",
              "size": 10,
              "solidity": 0.2
             }
            },
            "type": "bar"
           }
          ],
          "barpolar": [
           {
            "marker": {
             "line": {
              "color": "#E5ECF6",
              "width": 0.5
             },
             "pattern": {
              "fillmode": "overlay",
              "size": 10,
              "solidity": 0.2
             }
            },
            "type": "barpolar"
           }
          ],
          "carpet": [
           {
            "aaxis": {
             "endlinecolor": "#2a3f5f",
             "gridcolor": "white",
             "linecolor": "white",
             "minorgridcolor": "white",
             "startlinecolor": "#2a3f5f"
            },
            "baxis": {
             "endlinecolor": "#2a3f5f",
             "gridcolor": "white",
             "linecolor": "white",
             "minorgridcolor": "white",
             "startlinecolor": "#2a3f5f"
            },
            "type": "carpet"
           }
          ],
          "choropleth": [
           {
            "colorbar": {
             "outlinewidth": 0,
             "ticks": ""
            },
            "type": "choropleth"
           }
          ],
          "contour": [
           {
            "colorbar": {
             "outlinewidth": 0,
             "ticks": ""
            },
            "colorscale": [
             [
              0,
              "#0d0887"
             ],
             [
              0.1111111111111111,
              "#46039f"
             ],
             [
              0.2222222222222222,
              "#7201a8"
             ],
             [
              0.3333333333333333,
              "#9c179e"
             ],
             [
              0.4444444444444444,
              "#bd3786"
             ],
             [
              0.5555555555555556,
              "#d8576b"
             ],
             [
              0.6666666666666666,
              "#ed7953"
             ],
             [
              0.7777777777777778,
              "#fb9f3a"
             ],
             [
              0.8888888888888888,
              "#fdca26"
             ],
             [
              1,
              "#f0f921"
             ]
            ],
            "type": "contour"
           }
          ],
          "contourcarpet": [
           {
            "colorbar": {
             "outlinewidth": 0,
             "ticks": ""
            },
            "type": "contourcarpet"
           }
          ],
          "heatmap": [
           {
            "colorbar": {
             "outlinewidth": 0,
             "ticks": ""
            },
            "colorscale": [
             [
              0,
              "#0d0887"
             ],
             [
              0.1111111111111111,
              "#46039f"
             ],
             [
              0.2222222222222222,
              "#7201a8"
             ],
             [
              0.3333333333333333,
              "#9c179e"
             ],
             [
              0.4444444444444444,
              "#bd3786"
             ],
             [
              0.5555555555555556,
              "#d8576b"
             ],
             [
              0.6666666666666666,
              "#ed7953"
             ],
             [
              0.7777777777777778,
              "#fb9f3a"
             ],
             [
              0.8888888888888888,
              "#fdca26"
             ],
             [
              1,
              "#f0f921"
             ]
            ],
            "type": "heatmap"
           }
          ],
          "heatmapgl": [
           {
            "colorbar": {
             "outlinewidth": 0,
             "ticks": ""
            },
            "colorscale": [
             [
              0,
              "#0d0887"
             ],
             [
              0.1111111111111111,
              "#46039f"
             ],
             [
              0.2222222222222222,
              "#7201a8"
             ],
             [
              0.3333333333333333,
              "#9c179e"
             ],
             [
              0.4444444444444444,
              "#bd3786"
             ],
             [
              0.5555555555555556,
              "#d8576b"
             ],
             [
              0.6666666666666666,
              "#ed7953"
             ],
             [
              0.7777777777777778,
              "#fb9f3a"
             ],
             [
              0.8888888888888888,
              "#fdca26"
             ],
             [
              1,
              "#f0f921"
             ]
            ],
            "type": "heatmapgl"
           }
          ],
          "histogram": [
           {
            "marker": {
             "pattern": {
              "fillmode": "overlay",
              "size": 10,
              "solidity": 0.2
             }
            },
            "type": "histogram"
           }
          ],
          "histogram2d": [
           {
            "colorbar": {
             "outlinewidth": 0,
             "ticks": ""
            },
            "colorscale": [
             [
              0,
              "#0d0887"
             ],
             [
              0.1111111111111111,
              "#46039f"
             ],
             [
              0.2222222222222222,
              "#7201a8"
             ],
             [
              0.3333333333333333,
              "#9c179e"
             ],
             [
              0.4444444444444444,
              "#bd3786"
             ],
             [
              0.5555555555555556,
              "#d8576b"
             ],
             [
              0.6666666666666666,
              "#ed7953"
             ],
             [
              0.7777777777777778,
              "#fb9f3a"
             ],
             [
              0.8888888888888888,
              "#fdca26"
             ],
             [
              1,
              "#f0f921"
             ]
            ],
            "type": "histogram2d"
           }
          ],
          "histogram2dcontour": [
           {
            "colorbar": {
             "outlinewidth": 0,
             "ticks": ""
            },
            "colorscale": [
             [
              0,
              "#0d0887"
             ],
             [
              0.1111111111111111,
              "#46039f"
             ],
             [
              0.2222222222222222,
              "#7201a8"
             ],
             [
              0.3333333333333333,
              "#9c179e"
             ],
             [
              0.4444444444444444,
              "#bd3786"
             ],
             [
              0.5555555555555556,
              "#d8576b"
             ],
             [
              0.6666666666666666,
              "#ed7953"
             ],
             [
              0.7777777777777778,
              "#fb9f3a"
             ],
             [
              0.8888888888888888,
              "#fdca26"
             ],
             [
              1,
              "#f0f921"
             ]
            ],
            "type": "histogram2dcontour"
           }
          ],
          "mesh3d": [
           {
            "colorbar": {
             "outlinewidth": 0,
             "ticks": ""
            },
            "type": "mesh3d"
           }
          ],
          "parcoords": [
           {
            "line": {
             "colorbar": {
              "outlinewidth": 0,
              "ticks": ""
             }
            },
            "type": "parcoords"
           }
          ],
          "pie": [
           {
            "automargin": true,
            "type": "pie"
           }
          ],
          "scatter": [
           {
            "fillpattern": {
             "fillmode": "overlay",
             "size": 10,
             "solidity": 0.2
            },
            "type": "scatter"
           }
          ],
          "scatter3d": [
           {
            "line": {
             "colorbar": {
              "outlinewidth": 0,
              "ticks": ""
             }
            },
            "marker": {
             "colorbar": {
              "outlinewidth": 0,
              "ticks": ""
             }
            },
            "type": "scatter3d"
           }
          ],
          "scattercarpet": [
           {
            "marker": {
             "colorbar": {
              "outlinewidth": 0,
              "ticks": ""
             }
            },
            "type": "scattercarpet"
           }
          ],
          "scattergeo": [
           {
            "marker": {
             "colorbar": {
              "outlinewidth": 0,
              "ticks": ""
             }
            },
            "type": "scattergeo"
           }
          ],
          "scattergl": [
           {
            "marker": {
             "colorbar": {
              "outlinewidth": 0,
              "ticks": ""
             }
            },
            "type": "scattergl"
           }
          ],
          "scattermapbox": [
           {
            "marker": {
             "colorbar": {
              "outlinewidth": 0,
              "ticks": ""
             }
            },
            "type": "scattermapbox"
           }
          ],
          "scatterpolar": [
           {
            "marker": {
             "colorbar": {
              "outlinewidth": 0,
              "ticks": ""
             }
            },
            "type": "scatterpolar"
           }
          ],
          "scatterpolargl": [
           {
            "marker": {
             "colorbar": {
              "outlinewidth": 0,
              "ticks": ""
             }
            },
            "type": "scatterpolargl"
           }
          ],
          "scatterternary": [
           {
            "marker": {
             "colorbar": {
              "outlinewidth": 0,
              "ticks": ""
             }
            },
            "type": "scatterternary"
           }
          ],
          "surface": [
           {
            "colorbar": {
             "outlinewidth": 0,
             "ticks": ""
            },
            "colorscale": [
             [
              0,
              "#0d0887"
             ],
             [
              0.1111111111111111,
              "#46039f"
             ],
             [
              0.2222222222222222,
              "#7201a8"
             ],
             [
              0.3333333333333333,
              "#9c179e"
             ],
             [
              0.4444444444444444,
              "#bd3786"
             ],
             [
              0.5555555555555556,
              "#d8576b"
             ],
             [
              0.6666666666666666,
              "#ed7953"
             ],
             [
              0.7777777777777778,
              "#fb9f3a"
             ],
             [
              0.8888888888888888,
              "#fdca26"
             ],
             [
              1,
              "#f0f921"
             ]
            ],
            "type": "surface"
           }
          ],
          "table": [
           {
            "cells": {
             "fill": {
              "color": "#EBF0F8"
             },
             "line": {
              "color": "white"
             }
            },
            "header": {
             "fill": {
              "color": "#C8D4E3"
             },
             "line": {
              "color": "white"
             }
            },
            "type": "table"
           }
          ]
         },
         "layout": {
          "annotationdefaults": {
           "arrowcolor": "#2a3f5f",
           "arrowhead": 0,
           "arrowwidth": 1
          },
          "autotypenumbers": "strict",
          "coloraxis": {
           "colorbar": {
            "outlinewidth": 0,
            "ticks": ""
           }
          },
          "colorscale": {
           "diverging": [
            [
             0,
             "#8e0152"
            ],
            [
             0.1,
             "#c51b7d"
            ],
            [
             0.2,
             "#de77ae"
            ],
            [
             0.3,
             "#f1b6da"
            ],
            [
             0.4,
             "#fde0ef"
            ],
            [
             0.5,
             "#f7f7f7"
            ],
            [
             0.6,
             "#e6f5d0"
            ],
            [
             0.7,
             "#b8e186"
            ],
            [
             0.8,
             "#7fbc41"
            ],
            [
             0.9,
             "#4d9221"
            ],
            [
             1,
             "#276419"
            ]
           ],
           "sequential": [
            [
             0,
             "#0d0887"
            ],
            [
             0.1111111111111111,
             "#46039f"
            ],
            [
             0.2222222222222222,
             "#7201a8"
            ],
            [
             0.3333333333333333,
             "#9c179e"
            ],
            [
             0.4444444444444444,
             "#bd3786"
            ],
            [
             0.5555555555555556,
             "#d8576b"
            ],
            [
             0.6666666666666666,
             "#ed7953"
            ],
            [
             0.7777777777777778,
             "#fb9f3a"
            ],
            [
             0.8888888888888888,
             "#fdca26"
            ],
            [
             1,
             "#f0f921"
            ]
           ],
           "sequentialminus": [
            [
             0,
             "#0d0887"
            ],
            [
             0.1111111111111111,
             "#46039f"
            ],
            [
             0.2222222222222222,
             "#7201a8"
            ],
            [
             0.3333333333333333,
             "#9c179e"
            ],
            [
             0.4444444444444444,
             "#bd3786"
            ],
            [
             0.5555555555555556,
             "#d8576b"
            ],
            [
             0.6666666666666666,
             "#ed7953"
            ],
            [
             0.7777777777777778,
             "#fb9f3a"
            ],
            [
             0.8888888888888888,
             "#fdca26"
            ],
            [
             1,
             "#f0f921"
            ]
           ]
          },
          "colorway": [
           "#636efa",
           "#EF553B",
           "#00cc96",
           "#ab63fa",
           "#FFA15A",
           "#19d3f3",
           "#FF6692",
           "#B6E880",
           "#FF97FF",
           "#FECB52"
          ],
          "font": {
           "color": "#2a3f5f"
          },
          "geo": {
           "bgcolor": "white",
           "lakecolor": "white",
           "landcolor": "#E5ECF6",
           "showlakes": true,
           "showland": true,
           "subunitcolor": "white"
          },
          "hoverlabel": {
           "align": "left"
          },
          "hovermode": "closest",
          "mapbox": {
           "style": "light"
          },
          "paper_bgcolor": "white",
          "plot_bgcolor": "#E5ECF6",
          "polar": {
           "angularaxis": {
            "gridcolor": "white",
            "linecolor": "white",
            "ticks": ""
           },
           "bgcolor": "#E5ECF6",
           "radialaxis": {
            "gridcolor": "white",
            "linecolor": "white",
            "ticks": ""
           }
          },
          "scene": {
           "xaxis": {
            "backgroundcolor": "#E5ECF6",
            "gridcolor": "white",
            "gridwidth": 2,
            "linecolor": "white",
            "showbackground": true,
            "ticks": "",
            "zerolinecolor": "white"
           },
           "yaxis": {
            "backgroundcolor": "#E5ECF6",
            "gridcolor": "white",
            "gridwidth": 2,
            "linecolor": "white",
            "showbackground": true,
            "ticks": "",
            "zerolinecolor": "white"
           },
           "zaxis": {
            "backgroundcolor": "#E5ECF6",
            "gridcolor": "white",
            "gridwidth": 2,
            "linecolor": "white",
            "showbackground": true,
            "ticks": "",
            "zerolinecolor": "white"
           }
          },
          "shapedefaults": {
           "line": {
            "color": "#2a3f5f"
           }
          },
          "ternary": {
           "aaxis": {
            "gridcolor": "white",
            "linecolor": "white",
            "ticks": ""
           },
           "baxis": {
            "gridcolor": "white",
            "linecolor": "white",
            "ticks": ""
           },
           "bgcolor": "#E5ECF6",
           "caxis": {
            "gridcolor": "white",
            "linecolor": "white",
            "ticks": ""
           }
          },
          "title": {
           "x": 0.05
          },
          "xaxis": {
           "automargin": true,
           "gridcolor": "white",
           "linecolor": "white",
           "ticks": "",
           "title": {
            "standoff": 15
           },
           "zerolinecolor": "white",
           "zerolinewidth": 2
          },
          "yaxis": {
           "automargin": true,
           "gridcolor": "white",
           "linecolor": "white",
           "ticks": "",
           "title": {
            "standoff": 15
           },
           "zerolinecolor": "white",
           "zerolinewidth": 2
          }
         }
        },
        "title": {
         "font": {
          "size": 20
         },
         "text": "Figure 2: Gender Unemployment Gap in Denmark (female unemployment - male unemployment)",
         "x": 0.5
        },
        "width": 1000,
        "xaxis": {
         "anchor": "y",
         "domain": [
          0,
          1
         ],
         "dtick": 1,
         "tick0": 2007,
         "tickmode": "linear",
         "title": {
          "text": ""
         }
        },
        "yaxis": {
         "anchor": "x",
         "domain": [
          0,
          1
         ],
         "title": {
          "text": "Gender Unemployment Gap (%)"
         }
        }
       }
      }
     },
     "metadata": {},
     "output_type": "display_data"
    }
   ],
   "source": [
    "# Calculating difference between male and female gross unemployment rates\n",
    "male_unemployment = gross_unemployment[gross_unemployment['GENDER'] == 'Men']\n",
    "female_unemployment = gross_unemployment[gross_unemployment['GENDER'] == 'Women']\n",
    "\n",
    "gender_gap = female_unemployment[['YEAR']].copy()\n",
    "gender_gap['GENDER UNEMPLOYMENT GAP (%)'] = female_unemployment['GROSS UNEMPLOYMENT RATE (%)'].values - male_unemployment['GROSS UNEMPLOYMENT RATE (%)'].values\n",
    "\n",
    "# Creating the plotly figure object\n",
    "fig_2 = px.line(gender_gap, x='YEAR', y='GENDER UNEMPLOYMENT GAP (%)', title='Figure 2: Gender Unemployment Gap in Denmark (female unemployment - male unemployment)')\n",
    "\n",
    "# Updating the layout\n",
    "fig_2.update_layout(xaxis_title='', yaxis_title='Gender Unemployment Gap (%)', title_font=dict(size=20), \n",
    "                  title_x=0.5, margin=dict(l=50, r=50, b=50, t=50, pad=4), hovermode='x unified',\n",
    "                  xaxis=dict(tickmode='linear', tick0=2007, dtick=1),\n",
    "                  height = 500, width = 1000)\n",
    "\n",
    "# Adding horizontal line for y=0\n",
    "fig_2.add_shape(type='line', x0=2007, y0=0, x1=2022, y1=0, line=dict(color='black', width=0.5))\n",
    "\n",
    "# Adding text box for source\n",
    "fig_2.add_annotation(text='Source: Statistics Denmark AULP01', xref='paper', yref='paper', x=0, y=0, showarrow=False, font=dict(size=10))\n",
    "\n",
    "# Show the interactive plot\n",
    "fig_2.show()"
   ]
  },
  {
   "attachments": {},
   "cell_type": "markdown",
   "metadata": {},
   "source": [
    "In Figure 2, we can easily see the differences between the development of gross unemployment between men and women. A positive Gender Unemployment Gap refers to higher unemployment among women, where a negative gap means that men's unemployment is higher than women's. Unemployment in 2007 and 2008 is seen to be greatest among women, where the difference was respectively 1.5% and 0.5% compared to the men in the same period. In 2009, a shift in this development can be seen, where unemployment was significantly higher among men, which it can be seen to be until 2012. Here, the difference in inequality was between 0.5-1.8% in this period and indicates that the industries where most men are employed have been hardest hit by the financial crisis. In 2013, women's unemployment is again seen to be higher than men's, but where we also see a smaller difference between them, and where they follow each other's trends in development to a much greater extent, as the Gender Unemployment Gap is relatively stable in the following years."
   ]
  },
  {
   "attachments": {},
   "cell_type": "markdown",
   "metadata": {},
   "source": [
    "---\n",
    "## Gender disparity analysis for Danish industries (2008-2022)\n",
    "\n",
    "Based on this inequality in unemployment between men and women, we want to find a correlation between the development of unemployment and real GDP, as we have a hypothesis that there will be a correlation. For this, data from table NAN1 is being used, which comes from the DST API and shows \"Demand and supply by transaction and price unit\". Here the column called Period-to-period real growth (pct.) is searched for and selected, as this is the one, we want to use. A table is made which shows a summary of the GDP data, where the parameters included are then defined. A fetching based on parameter seen from NAN1 is performed and the 'TRANSACT' and 'PRICE UNIT' columns are removed. Data is sorted by time, where the unemployment percentages are also converted from being strings to floats. This is shown as a table where you can see the percentage developments from year to year. However, a more visual illustration of this is desired. Therefore, a bar trade is made for GDP growth and a line trace for the gender unemployment gap. Next, we want to divide periods with vertical lines, which illustrate cyclical changes. Cyclical changes are defined here as a recession of less than 1.5% and economic climate is higher than 1.5%. To see if there should be a correlation between Real GDP Growth and Gender Unemployment Gap, both data are plotted on the same graph, which can be seen as Figure 3.\n",
    "\n",
    ">NOTE Missing data for 2007"
   ]
  },
  {
   "cell_type": "code",
   "execution_count": 6,
   "metadata": {},
   "outputs": [
    {
     "name": "stdout",
     "output_type": "stream",
     "text": [
      "Table NAN1: Demand and supply by transaction, price unit and time\n",
      "Last update: 2023-03-31T08:00:00\n"
     ]
    },
    {
     "data": {
      "text/html": [
       "<div>\n",
       "<style scoped>\n",
       "    .dataframe tbody tr th:only-of-type {\n",
       "        vertical-align: middle;\n",
       "    }\n",
       "\n",
       "    .dataframe tbody tr th {\n",
       "        vertical-align: top;\n",
       "    }\n",
       "\n",
       "    .dataframe thead th {\n",
       "        text-align: right;\n",
       "    }\n",
       "</style>\n",
       "<table border=\"1\" class=\"dataframe\">\n",
       "  <thead>\n",
       "    <tr style=\"text-align: right;\">\n",
       "      <th></th>\n",
       "      <th>variable name</th>\n",
       "      <th># values</th>\n",
       "      <th>First value</th>\n",
       "      <th>First value label</th>\n",
       "      <th>Last value</th>\n",
       "      <th>Last value label</th>\n",
       "      <th>Time variable</th>\n",
       "    </tr>\n",
       "  </thead>\n",
       "  <tbody>\n",
       "    <tr>\n",
       "      <th>0</th>\n",
       "      <td>TRANSAKT</td>\n",
       "      <td>31</td>\n",
       "      <td>B1GQK</td>\n",
       "      <td>B.1*g Gross domestic product</td>\n",
       "      <td>EMPM_DC</td>\n",
       "      <td>Total employment (1,000 persons)</td>\n",
       "      <td>False</td>\n",
       "    </tr>\n",
       "    <tr>\n",
       "      <th>1</th>\n",
       "      <td>PRISENHED</td>\n",
       "      <td>6</td>\n",
       "      <td>V_M</td>\n",
       "      <td>Current prices, (bill. DKK.)</td>\n",
       "      <td>LAN_C</td>\n",
       "      <td>Pr. capita, 2010-prices, chained values, (1000...</td>\n",
       "      <td>False</td>\n",
       "    </tr>\n",
       "    <tr>\n",
       "      <th>2</th>\n",
       "      <td>Tid</td>\n",
       "      <td>57</td>\n",
       "      <td>1966</td>\n",
       "      <td>1966</td>\n",
       "      <td>2022</td>\n",
       "      <td>2022</td>\n",
       "      <td>True</td>\n",
       "    </tr>\n",
       "  </tbody>\n",
       "</table>\n",
       "</div>"
      ],
      "text/plain": [
       "  variable name  # values First value             First value label  \\\n",
       "0      TRANSAKT        31       B1GQK  B.1*g Gross domestic product   \n",
       "1     PRISENHED         6         V_M  Current prices, (bill. DKK.)   \n",
       "2           Tid        57        1966                          1966   \n",
       "\n",
       "  Last value                                   Last value label  Time variable  \n",
       "0    EMPM_DC                   Total employment (1,000 persons)          False  \n",
       "1      LAN_C  Pr. capita, 2010-prices, chained values, (1000...          False  \n",
       "2       2022                                               2022           True  "
      ]
     },
     "execution_count": 6,
     "metadata": {},
     "output_type": "execute_result"
    }
   ],
   "source": [
    "# Searching for GDP data through DST API\n",
    "GDP_dst = DstApi('NAN1')\n",
    "\n",
    "# Creating and displaying the a summary of the GDP data\n",
    "summary_GDP_dst = GDP_dst.tablesummary(language='en')\n",
    "summary_GDP_dst"
   ]
  },
  {
   "cell_type": "code",
   "execution_count": 7,
   "metadata": {},
   "outputs": [
    {
     "data": {
      "text/html": [
       "<div>\n",
       "<style scoped>\n",
       "    .dataframe tbody tr th:only-of-type {\n",
       "        vertical-align: middle;\n",
       "    }\n",
       "\n",
       "    .dataframe tbody tr th {\n",
       "        vertical-align: top;\n",
       "    }\n",
       "\n",
       "    .dataframe thead th {\n",
       "        text-align: right;\n",
       "    }\n",
       "</style>\n",
       "<table border=\"1\" class=\"dataframe\">\n",
       "  <thead>\n",
       "    <tr style=\"text-align: right;\">\n",
       "      <th></th>\n",
       "      <th>YEAR</th>\n",
       "      <th>REAL GROWTH IN GDP (%)</th>\n",
       "    </tr>\n",
       "  </thead>\n",
       "  <tbody>\n",
       "    <tr>\n",
       "      <th>0</th>\n",
       "      <td>2007</td>\n",
       "      <td>0.9</td>\n",
       "    </tr>\n",
       "    <tr>\n",
       "      <th>1</th>\n",
       "      <td>2008</td>\n",
       "      <td>-0.5</td>\n",
       "    </tr>\n",
       "    <tr>\n",
       "      <th>2</th>\n",
       "      <td>2009</td>\n",
       "      <td>-4.9</td>\n",
       "    </tr>\n",
       "    <tr>\n",
       "      <th>3</th>\n",
       "      <td>2010</td>\n",
       "      <td>1.9</td>\n",
       "    </tr>\n",
       "    <tr>\n",
       "      <th>4</th>\n",
       "      <td>2011</td>\n",
       "      <td>1.3</td>\n",
       "    </tr>\n",
       "  </tbody>\n",
       "</table>\n",
       "</div>"
      ],
      "text/plain": [
       "   YEAR  REAL GROWTH IN GDP (%)\n",
       "0  2007                     0.9\n",
       "1  2008                    -0.5\n",
       "2  2009                    -4.9\n",
       "3  2010                     1.9\n",
       "4  2011                     1.3"
      ]
     },
     "execution_count": 7,
     "metadata": {},
     "output_type": "execute_result"
    }
   ],
   "source": [
    "# Setting parameters\n",
    "par_GDP = {\n",
    "    'table': 'NAN1',\n",
    "    'format': 'BULK',\n",
    "    'lang': 'en',\n",
    "    'variables': [\n",
    "        {'code': 'TRANSAKT', 'values': ['B1GQK']},\n",
    "        {'code': 'PRISENHED', 'values': ['L_V']}, #L_V = Period-to-period real growth (pct.)\n",
    "        {'code': 'Tid', 'values': ['>2006<=2022']}\n",
    "    ]\n",
    "}\n",
    "\n",
    "# Fetching data based parameters set (Fetching from NAN1)\n",
    "GDP = GDP_dst.get_data(params=par_GDP)\n",
    "\n",
    "# Removing the 'TRANSAKT' and 'PRISENHED' columns\n",
    "GDP = GDP.drop(['TRANSAKT', 'PRISENHED'], axis=1)\n",
    "\n",
    "# Renaming the columns\n",
    "GDP.rename(columns=\n",
    "                {'TID':'YEAR',\n",
    "                'INDHOLD':'REAL GROWTH IN GDP (%)'},\n",
    "                inplace=True\n",
    "            )\n",
    "\n",
    "# Convert pct. into floats\n",
    "GDP['REAL GROWTH IN GDP (%)'] = pd.to_numeric(GDP['REAL GROWTH IN GDP (%)'])\n",
    "\n",
    "# Sort the DataFrame by date\n",
    "GDP = GDP.sort_values('YEAR')\n",
    "\n",
    "# Displaying GDP tabel\n",
    "GDP.head(5)"
   ]
  },
  {
   "cell_type": "code",
   "execution_count": 8,
   "metadata": {},
   "outputs": [
    {
     "data": {
      "application/vnd.plotly.v1+json": {
       "config": {
        "plotlyServerURL": "https://plot.ly"
       },
       "data": [
        {
         "name": "Real GDP Growth",
         "type": "bar",
         "x": [
          2007,
          2008,
          2009,
          2010,
          2011,
          2012,
          2013,
          2014,
          2015,
          2016,
          2017,
          2018,
          2019,
          2020,
          2021,
          2022
         ],
         "y": [
          0.9,
          -0.5,
          -4.9,
          1.9,
          1.3,
          0.2,
          0.9,
          1.6,
          2.3,
          3.2,
          2.8,
          2,
          1.5,
          -2,
          4.9,
          3.8
         ]
        },
        {
         "line": {
          "color": "red"
         },
         "mode": "lines",
         "name": "Gender Unemployment Gap",
         "type": "scatter",
         "x": [
          2007,
          2008,
          2009,
          2010,
          2011,
          2012,
          2013,
          2014,
          2015,
          2016,
          2017,
          2018,
          2019,
          2020,
          2021,
          2022
         ],
         "y": [
          1.5000000000000004,
          0.5,
          -1.4000000000000004,
          -1.8000000000000007,
          -0.5,
          -0.09999999999999964,
          0.09999999999999964,
          0.40000000000000036,
          0.39999999999999947,
          0.5000000000000004,
          0.40000000000000036,
          0.49999999999999956,
          0.5,
          0.20000000000000018,
          0.20000000000000018,
          0.3999999999999999
         ]
        }
       ],
       "layout": {
        "annotations": [
         {
          "font": {
           "size": 10
          },
          "showarrow": false,
          "text": "Remark: Data for GDP from 2019 to 2022 are preliminary data. Magenta lines indicate change in economy at 1.5%.",
          "x": 0,
          "xref": "paper",
          "y": 0.04,
          "yref": "paper"
         },
         {
          "font": {
           "size": 10
          },
          "showarrow": false,
          "text": "Source: Statistics Denmark AULP01 & NAN1",
          "x": 0,
          "xref": "paper",
          "y": 0,
          "yref": "paper"
         }
        ],
        "height": 700,
        "shapes": [
         {
          "line": {
           "color": "magenta"
          },
          "type": "line",
          "x0": 2009.5,
          "x1": 2009.5,
          "xref": "x",
          "y0": 0,
          "y1": 1,
          "yref": "paper"
         },
         {
          "line": {
           "color": "magenta"
          },
          "type": "line",
          "x0": 2010.5,
          "x1": 2010.5,
          "xref": "x",
          "y0": 0,
          "y1": 1,
          "yref": "paper"
         },
         {
          "line": {
           "color": "magenta"
          },
          "type": "line",
          "x0": 2013.5,
          "x1": 2013.5,
          "xref": "x",
          "y0": 0,
          "y1": 1,
          "yref": "paper"
         },
         {
          "line": {
           "color": "magenta"
          },
          "type": "line",
          "x0": 2018.5,
          "x1": 2018.5,
          "xref": "x",
          "y0": 0,
          "y1": 1,
          "yref": "paper"
         },
         {
          "line": {
           "color": "magenta"
          },
          "type": "line",
          "x0": 2020.5,
          "x1": 2020.5,
          "xref": "x",
          "y0": 0,
          "y1": 1,
          "yref": "paper"
         }
        ],
        "template": {
         "data": {
          "bar": [
           {
            "error_x": {
             "color": "#2a3f5f"
            },
            "error_y": {
             "color": "#2a3f5f"
            },
            "marker": {
             "line": {
              "color": "#E5ECF6",
              "width": 0.5
             },
             "pattern": {
              "fillmode": "overlay",
              "size": 10,
              "solidity": 0.2
             }
            },
            "type": "bar"
           }
          ],
          "barpolar": [
           {
            "marker": {
             "line": {
              "color": "#E5ECF6",
              "width": 0.5
             },
             "pattern": {
              "fillmode": "overlay",
              "size": 10,
              "solidity": 0.2
             }
            },
            "type": "barpolar"
           }
          ],
          "carpet": [
           {
            "aaxis": {
             "endlinecolor": "#2a3f5f",
             "gridcolor": "white",
             "linecolor": "white",
             "minorgridcolor": "white",
             "startlinecolor": "#2a3f5f"
            },
            "baxis": {
             "endlinecolor": "#2a3f5f",
             "gridcolor": "white",
             "linecolor": "white",
             "minorgridcolor": "white",
             "startlinecolor": "#2a3f5f"
            },
            "type": "carpet"
           }
          ],
          "choropleth": [
           {
            "colorbar": {
             "outlinewidth": 0,
             "ticks": ""
            },
            "type": "choropleth"
           }
          ],
          "contour": [
           {
            "colorbar": {
             "outlinewidth": 0,
             "ticks": ""
            },
            "colorscale": [
             [
              0,
              "#0d0887"
             ],
             [
              0.1111111111111111,
              "#46039f"
             ],
             [
              0.2222222222222222,
              "#7201a8"
             ],
             [
              0.3333333333333333,
              "#9c179e"
             ],
             [
              0.4444444444444444,
              "#bd3786"
             ],
             [
              0.5555555555555556,
              "#d8576b"
             ],
             [
              0.6666666666666666,
              "#ed7953"
             ],
             [
              0.7777777777777778,
              "#fb9f3a"
             ],
             [
              0.8888888888888888,
              "#fdca26"
             ],
             [
              1,
              "#f0f921"
             ]
            ],
            "type": "contour"
           }
          ],
          "contourcarpet": [
           {
            "colorbar": {
             "outlinewidth": 0,
             "ticks": ""
            },
            "type": "contourcarpet"
           }
          ],
          "heatmap": [
           {
            "colorbar": {
             "outlinewidth": 0,
             "ticks": ""
            },
            "colorscale": [
             [
              0,
              "#0d0887"
             ],
             [
              0.1111111111111111,
              "#46039f"
             ],
             [
              0.2222222222222222,
              "#7201a8"
             ],
             [
              0.3333333333333333,
              "#9c179e"
             ],
             [
              0.4444444444444444,
              "#bd3786"
             ],
             [
              0.5555555555555556,
              "#d8576b"
             ],
             [
              0.6666666666666666,
              "#ed7953"
             ],
             [
              0.7777777777777778,
              "#fb9f3a"
             ],
             [
              0.8888888888888888,
              "#fdca26"
             ],
             [
              1,
              "#f0f921"
             ]
            ],
            "type": "heatmap"
           }
          ],
          "heatmapgl": [
           {
            "colorbar": {
             "outlinewidth": 0,
             "ticks": ""
            },
            "colorscale": [
             [
              0,
              "#0d0887"
             ],
             [
              0.1111111111111111,
              "#46039f"
             ],
             [
              0.2222222222222222,
              "#7201a8"
             ],
             [
              0.3333333333333333,
              "#9c179e"
             ],
             [
              0.4444444444444444,
              "#bd3786"
             ],
             [
              0.5555555555555556,
              "#d8576b"
             ],
             [
              0.6666666666666666,
              "#ed7953"
             ],
             [
              0.7777777777777778,
              "#fb9f3a"
             ],
             [
              0.8888888888888888,
              "#fdca26"
             ],
             [
              1,
              "#f0f921"
             ]
            ],
            "type": "heatmapgl"
           }
          ],
          "histogram": [
           {
            "marker": {
             "pattern": {
              "fillmode": "overlay",
              "size": 10,
              "solidity": 0.2
             }
            },
            "type": "histogram"
           }
          ],
          "histogram2d": [
           {
            "colorbar": {
             "outlinewidth": 0,
             "ticks": ""
            },
            "colorscale": [
             [
              0,
              "#0d0887"
             ],
             [
              0.1111111111111111,
              "#46039f"
             ],
             [
              0.2222222222222222,
              "#7201a8"
             ],
             [
              0.3333333333333333,
              "#9c179e"
             ],
             [
              0.4444444444444444,
              "#bd3786"
             ],
             [
              0.5555555555555556,
              "#d8576b"
             ],
             [
              0.6666666666666666,
              "#ed7953"
             ],
             [
              0.7777777777777778,
              "#fb9f3a"
             ],
             [
              0.8888888888888888,
              "#fdca26"
             ],
             [
              1,
              "#f0f921"
             ]
            ],
            "type": "histogram2d"
           }
          ],
          "histogram2dcontour": [
           {
            "colorbar": {
             "outlinewidth": 0,
             "ticks": ""
            },
            "colorscale": [
             [
              0,
              "#0d0887"
             ],
             [
              0.1111111111111111,
              "#46039f"
             ],
             [
              0.2222222222222222,
              "#7201a8"
             ],
             [
              0.3333333333333333,
              "#9c179e"
             ],
             [
              0.4444444444444444,
              "#bd3786"
             ],
             [
              0.5555555555555556,
              "#d8576b"
             ],
             [
              0.6666666666666666,
              "#ed7953"
             ],
             [
              0.7777777777777778,
              "#fb9f3a"
             ],
             [
              0.8888888888888888,
              "#fdca26"
             ],
             [
              1,
              "#f0f921"
             ]
            ],
            "type": "histogram2dcontour"
           }
          ],
          "mesh3d": [
           {
            "colorbar": {
             "outlinewidth": 0,
             "ticks": ""
            },
            "type": "mesh3d"
           }
          ],
          "parcoords": [
           {
            "line": {
             "colorbar": {
              "outlinewidth": 0,
              "ticks": ""
             }
            },
            "type": "parcoords"
           }
          ],
          "pie": [
           {
            "automargin": true,
            "type": "pie"
           }
          ],
          "scatter": [
           {
            "fillpattern": {
             "fillmode": "overlay",
             "size": 10,
             "solidity": 0.2
            },
            "type": "scatter"
           }
          ],
          "scatter3d": [
           {
            "line": {
             "colorbar": {
              "outlinewidth": 0,
              "ticks": ""
             }
            },
            "marker": {
             "colorbar": {
              "outlinewidth": 0,
              "ticks": ""
             }
            },
            "type": "scatter3d"
           }
          ],
          "scattercarpet": [
           {
            "marker": {
             "colorbar": {
              "outlinewidth": 0,
              "ticks": ""
             }
            },
            "type": "scattercarpet"
           }
          ],
          "scattergeo": [
           {
            "marker": {
             "colorbar": {
              "outlinewidth": 0,
              "ticks": ""
             }
            },
            "type": "scattergeo"
           }
          ],
          "scattergl": [
           {
            "marker": {
             "colorbar": {
              "outlinewidth": 0,
              "ticks": ""
             }
            },
            "type": "scattergl"
           }
          ],
          "scattermapbox": [
           {
            "marker": {
             "colorbar": {
              "outlinewidth": 0,
              "ticks": ""
             }
            },
            "type": "scattermapbox"
           }
          ],
          "scatterpolar": [
           {
            "marker": {
             "colorbar": {
              "outlinewidth": 0,
              "ticks": ""
             }
            },
            "type": "scatterpolar"
           }
          ],
          "scatterpolargl": [
           {
            "marker": {
             "colorbar": {
              "outlinewidth": 0,
              "ticks": ""
             }
            },
            "type": "scatterpolargl"
           }
          ],
          "scatterternary": [
           {
            "marker": {
             "colorbar": {
              "outlinewidth": 0,
              "ticks": ""
             }
            },
            "type": "scatterternary"
           }
          ],
          "surface": [
           {
            "colorbar": {
             "outlinewidth": 0,
             "ticks": ""
            },
            "colorscale": [
             [
              0,
              "#0d0887"
             ],
             [
              0.1111111111111111,
              "#46039f"
             ],
             [
              0.2222222222222222,
              "#7201a8"
             ],
             [
              0.3333333333333333,
              "#9c179e"
             ],
             [
              0.4444444444444444,
              "#bd3786"
             ],
             [
              0.5555555555555556,
              "#d8576b"
             ],
             [
              0.6666666666666666,
              "#ed7953"
             ],
             [
              0.7777777777777778,
              "#fb9f3a"
             ],
             [
              0.8888888888888888,
              "#fdca26"
             ],
             [
              1,
              "#f0f921"
             ]
            ],
            "type": "surface"
           }
          ],
          "table": [
           {
            "cells": {
             "fill": {
              "color": "#EBF0F8"
             },
             "line": {
              "color": "white"
             }
            },
            "header": {
             "fill": {
              "color": "#C8D4E3"
             },
             "line": {
              "color": "white"
             }
            },
            "type": "table"
           }
          ]
         },
         "layout": {
          "annotationdefaults": {
           "arrowcolor": "#2a3f5f",
           "arrowhead": 0,
           "arrowwidth": 1
          },
          "autotypenumbers": "strict",
          "coloraxis": {
           "colorbar": {
            "outlinewidth": 0,
            "ticks": ""
           }
          },
          "colorscale": {
           "diverging": [
            [
             0,
             "#8e0152"
            ],
            [
             0.1,
             "#c51b7d"
            ],
            [
             0.2,
             "#de77ae"
            ],
            [
             0.3,
             "#f1b6da"
            ],
            [
             0.4,
             "#fde0ef"
            ],
            [
             0.5,
             "#f7f7f7"
            ],
            [
             0.6,
             "#e6f5d0"
            ],
            [
             0.7,
             "#b8e186"
            ],
            [
             0.8,
             "#7fbc41"
            ],
            [
             0.9,
             "#4d9221"
            ],
            [
             1,
             "#276419"
            ]
           ],
           "sequential": [
            [
             0,
             "#0d0887"
            ],
            [
             0.1111111111111111,
             "#46039f"
            ],
            [
             0.2222222222222222,
             "#7201a8"
            ],
            [
             0.3333333333333333,
             "#9c179e"
            ],
            [
             0.4444444444444444,
             "#bd3786"
            ],
            [
             0.5555555555555556,
             "#d8576b"
            ],
            [
             0.6666666666666666,
             "#ed7953"
            ],
            [
             0.7777777777777778,
             "#fb9f3a"
            ],
            [
             0.8888888888888888,
             "#fdca26"
            ],
            [
             1,
             "#f0f921"
            ]
           ],
           "sequentialminus": [
            [
             0,
             "#0d0887"
            ],
            [
             0.1111111111111111,
             "#46039f"
            ],
            [
             0.2222222222222222,
             "#7201a8"
            ],
            [
             0.3333333333333333,
             "#9c179e"
            ],
            [
             0.4444444444444444,
             "#bd3786"
            ],
            [
             0.5555555555555556,
             "#d8576b"
            ],
            [
             0.6666666666666666,
             "#ed7953"
            ],
            [
             0.7777777777777778,
             "#fb9f3a"
            ],
            [
             0.8888888888888888,
             "#fdca26"
            ],
            [
             1,
             "#f0f921"
            ]
           ]
          },
          "colorway": [
           "#636efa",
           "#EF553B",
           "#00cc96",
           "#ab63fa",
           "#FFA15A",
           "#19d3f3",
           "#FF6692",
           "#B6E880",
           "#FF97FF",
           "#FECB52"
          ],
          "font": {
           "color": "#2a3f5f"
          },
          "geo": {
           "bgcolor": "white",
           "lakecolor": "white",
           "landcolor": "#E5ECF6",
           "showlakes": true,
           "showland": true,
           "subunitcolor": "white"
          },
          "hoverlabel": {
           "align": "left"
          },
          "hovermode": "closest",
          "mapbox": {
           "style": "light"
          },
          "paper_bgcolor": "white",
          "plot_bgcolor": "#E5ECF6",
          "polar": {
           "angularaxis": {
            "gridcolor": "white",
            "linecolor": "white",
            "ticks": ""
           },
           "bgcolor": "#E5ECF6",
           "radialaxis": {
            "gridcolor": "white",
            "linecolor": "white",
            "ticks": ""
           }
          },
          "scene": {
           "xaxis": {
            "backgroundcolor": "#E5ECF6",
            "gridcolor": "white",
            "gridwidth": 2,
            "linecolor": "white",
            "showbackground": true,
            "ticks": "",
            "zerolinecolor": "white"
           },
           "yaxis": {
            "backgroundcolor": "#E5ECF6",
            "gridcolor": "white",
            "gridwidth": 2,
            "linecolor": "white",
            "showbackground": true,
            "ticks": "",
            "zerolinecolor": "white"
           },
           "zaxis": {
            "backgroundcolor": "#E5ECF6",
            "gridcolor": "white",
            "gridwidth": 2,
            "linecolor": "white",
            "showbackground": true,
            "ticks": "",
            "zerolinecolor": "white"
           }
          },
          "shapedefaults": {
           "line": {
            "color": "#2a3f5f"
           }
          },
          "ternary": {
           "aaxis": {
            "gridcolor": "white",
            "linecolor": "white",
            "ticks": ""
           },
           "baxis": {
            "gridcolor": "white",
            "linecolor": "white",
            "ticks": ""
           },
           "bgcolor": "#E5ECF6",
           "caxis": {
            "gridcolor": "white",
            "linecolor": "white",
            "ticks": ""
           }
          },
          "title": {
           "x": 0.05
          },
          "xaxis": {
           "automargin": true,
           "gridcolor": "white",
           "linecolor": "white",
           "ticks": "",
           "title": {
            "standoff": 15
           },
           "zerolinecolor": "white",
           "zerolinewidth": 2
          },
          "yaxis": {
           "automargin": true,
           "gridcolor": "white",
           "linecolor": "white",
           "ticks": "",
           "title": {
            "standoff": 15
           },
           "zerolinecolor": "white",
           "zerolinewidth": 2
          }
         }
        },
        "title": {
         "font": {
          "size": 20
         },
         "text": "Figure 3: Real GDP Growth and Gender Unemployment Gap in Denmark (2007-2022)",
         "x": 0.5
        },
        "width": 1200,
        "xaxis": {
         "dtick": 1,
         "range": [
          2006.5,
          2022.5
         ],
         "showticklabels": true,
         "title": {
          "text": ""
         }
        },
        "yaxis": {
         "range": [
          -6,
          7
         ],
         "tickvals": [
          -6,
          -5,
          -4,
          -3,
          -2,
          -1,
          0,
          1,
          2,
          3,
          4,
          5,
          6,
          7
         ],
         "title": {
          "text": "Percentage"
         }
        }
       }
      }
     },
     "metadata": {},
     "output_type": "display_data"
    }
   ],
   "source": [
    "# Create a bar trace for GDP growth\n",
    "gdp_trace = go.Bar(x=GDP['YEAR'], y=GDP['REAL GROWTH IN GDP (%)'], name='Real GDP Growth')\n",
    "\n",
    "# Create a line trace for the gender unemployment gap\n",
    "gap_trace = go.Scatter(x=gender_gap['YEAR'], y=gender_gap['GENDER UNEMPLOYMENT GAP (%)'], mode='lines', name='Gender Unemployment Gap', line=dict(color='red'))\n",
    "\n",
    "# Create a list of shapes for the vertical lines\n",
    "shapes = []\n",
    "for i in range(1, len(GDP)):\n",
    "    if GDP['REAL GROWTH IN GDP (%)'][i] > 1.5 and GDP['REAL GROWTH IN GDP (%)'][i-1] <= 1.5:\n",
    "        shapes.append(dict(type='line', xref='x', yref='paper', x0=GDP['YEAR'][i-1] + 0.5, y0=0, x1=GDP['YEAR'][i-1] + 0.5, y1=1, line=dict(color='magenta')))\n",
    "    elif GDP['REAL GROWTH IN GDP (%)'][i] <= 1.5 and GDP['REAL GROWTH IN GDP (%)'][i-1] > 1.5:\n",
    "        shapes.append(dict(type='line', xref='x', yref='paper', x0=GDP['YEAR'][i-1] + 0.5, y0=0, x1=GDP['YEAR'][i-1] + 0.5, y1=1, line=dict(color='magenta')))\n",
    "\n",
    "# Define the layout\n",
    "layout = go.Layout(\n",
    "    title=dict(text='Figure 3: Real GDP Growth and Gender Unemployment Gap in Denmark (2007-2022)', x=0.5, font=dict(size=20)),\n",
    "    xaxis=dict(title='', range=[2006.5, 2022.5], showticklabels=True, dtick=1),\n",
    "    yaxis=dict(title='Percentage', range=[-6, 7], tickvals=[-6,-5, -4, -3, -2, -1, 0, 1, 2, 3, 4, 5, 6, 7]),\n",
    "    height=700, width=1200,\n",
    "    shapes=shapes,\n",
    "    annotations=[\n",
    "        dict(\n",
    "            text='Remark: Data for GDP from 2019 to 2022 are preliminary data. Magenta lines indicate change in economy at 1.5%.',\n",
    "            xref='paper', yref='paper', x=0, y=0.04, showarrow=False, font=dict(size=10)),\n",
    "        dict(\n",
    "            text='Source: Statistics Denmark AULP01 & NAN1',\n",
    "            xref='paper', yref='paper', x=0, y=0.0, showarrow=False, font=dict(size=10))\n",
    "    ]\n",
    ")\n",
    "\n",
    "# Create the figure and add the traces\n",
    "fig_3 = go.Figure(data=[gdp_trace, gap_trace], layout=layout)\n",
    "\n",
    "# Show the interactive plot\n",
    "fig_3.show()"
   ]
  },
  {
   "attachments": {},
   "cell_type": "markdown",
   "metadata": {},
   "source": [
    "Figure 3 shows both Real GDP Growth and Gender Unemployment Gap plotted. There was a economical downturn in the periods 2007-2009, 2011-2013 and 2019-2020, and economic climate in the periods 2010, 2014-2018 and 2021-2022, which is illustrated by the vertical lines. In the first period of recession, Real GDP Growth is seen to fall significantly, where Gender Unemployment is also seen to fall sharply. This decrease in Gender Unemployment reflects higher unemployment among men than among women. The inequality in unemployment between men and women is seen to normalize, where there is also a higher Real GDP Growth - despite this being defined as a period of low economic activity. In the period after from 2014-2018, there is a boom, where Gender Unemployment is again a positive sign that unemployment is higher among women than for men. Although in the years 2016 and 2017 there is a significantly higher Real GDP Growth than in 2014 and 2018, the Gender Unemployment is stable during this period. It is also largely unaffected in the period 2019-2020, when COVID-19 takes place, where inequality falls slightly. In the last period 2021-2022, a strong percentage increase in Real GDP Growth is seen, where Gender Unemployment is also seen to rise, but not to such a high degree.\n",
    "\n",
    "In addition to the visual illustration, we also want to mathematically calculate the correlation between the two variables - Real GDP Growth and Gender Unemployment Gap. This is done by first merging the GDP and Gender Gap dataframes on year, and then calculating the correlation using the function \"corr\".\n",
    "\n",
    "For this result, the following applies:\n",
    "- A positive correlation indicates that the two variables move in the same direction.\n",
    "- A negative correlation indicates that the two variables move in opposite directions.\n",
    "- A correlation close to zero indicates there is no strong relationship between the variables."
   ]
  },
  {
   "cell_type": "code",
   "execution_count": 9,
   "metadata": {},
   "outputs": [
    {
     "name": "stdout",
     "output_type": "stream",
     "text": [
      "Correlation between Real GDP Growth and Gender Unemployment Gap: 0.3599194870134143\n"
     ]
    }
   ],
   "source": [
    "# Merge the GDP and gender_gap dataframes on 'YEAR'\n",
    "merged_data = pd.merge(GDP, gender_gap, on='YEAR')\n",
    "\n",
    "# Calculate the correlation between 'REAL GROWTH IN GDP (%)' and 'GENDER UNEMPLOYMENT GAP (%)'\n",
    "correlation_fig3 = merged_data['REAL GROWTH IN GDP (%)'].corr(merged_data['GENDER UNEMPLOYMENT GAP (%)'])\n",
    "\n",
    "# Print the correlation\n",
    "print(\"Correlation between Real GDP Growth and Gender Unemployment Gap:\", correlation_fig3)"
   ]
  },
  {
   "attachments": {},
   "cell_type": "markdown",
   "metadata": {},
   "source": [
    "We find that the correlation between them is 0.36, which suggests that there is some correlation between them, but that GDP is not the only explanatory factor for this inequality in Gender Unemployment.\n",
    "\n",
    "We now want to investigate including a new factor - industry - in order to see if there should be an overrepresentation of unemployment in certain industries compared to others. It is used to calculate volatility for each industry, so that it can be ascertained which industries are extra exposed, and whether there should be a correlation between how exposed one's industry is and how high the Gender Unemployment Gap is. For this, data from table RAS300 is used, which comes from the DST API and shows the number of \"Employed (end November) by industry (DB07), socioeconomic status, age and sex\". A table is made which shows a summary of the data, where the parameters included are then defined. A fetching based on parameter set is performed and grouped based on industry, year and gender, which are added up so that the specific number can be found. The data is sorted and an extra column is added with the percentage change in total employment from year to year. The standard deviation of the 'CHANGE (%)' column for each industry and gender is then calculated and the columns for men and women are separated. Finally, there is the overall gender gap in volatility, which can now be illustrated as an interactive scatter plot using Plotly, seen as Figure 4. As before, the correlation between the overall gender gap and men's volatility for each industry is also calculated using the \"corr\" function."
   ]
  },
  {
   "cell_type": "code",
   "execution_count": 10,
   "metadata": {},
   "outputs": [
    {
     "name": "stdout",
     "output_type": "stream",
     "text": [
      "Table RAS300: Employed (end November) by industry (DB07), socioeconomic status, age, sex and time\n",
      "Last update: 2022-11-16T08:00:00\n"
     ]
    },
    {
     "data": {
      "text/html": [
       "<div>\n",
       "<style scoped>\n",
       "    .dataframe tbody tr th:only-of-type {\n",
       "        vertical-align: middle;\n",
       "    }\n",
       "\n",
       "    .dataframe tbody tr th {\n",
       "        vertical-align: top;\n",
       "    }\n",
       "\n",
       "    .dataframe thead th {\n",
       "        text-align: right;\n",
       "    }\n",
       "</style>\n",
       "<table border=\"1\" class=\"dataframe\">\n",
       "  <thead>\n",
       "    <tr style=\"text-align: right;\">\n",
       "      <th></th>\n",
       "      <th>variable name</th>\n",
       "      <th># values</th>\n",
       "      <th>First value</th>\n",
       "      <th>First value label</th>\n",
       "      <th>Last value</th>\n",
       "      <th>Last value label</th>\n",
       "      <th>Time variable</th>\n",
       "    </tr>\n",
       "  </thead>\n",
       "  <tbody>\n",
       "    <tr>\n",
       "      <th>0</th>\n",
       "      <td>BRANCHE07</td>\n",
       "      <td>140</td>\n",
       "      <td>TOT</td>\n",
       "      <td>TOT Industry, total</td>\n",
       "      <td>99999</td>\n",
       "      <td>99999 Activity not stated</td>\n",
       "      <td>False</td>\n",
       "    </tr>\n",
       "    <tr>\n",
       "      <th>1</th>\n",
       "      <td>SOCIO</td>\n",
       "      <td>8</td>\n",
       "      <td>05</td>\n",
       "      <td>Self-employed</td>\n",
       "      <td>40</td>\n",
       "      <td>Employees, not specified</td>\n",
       "      <td>False</td>\n",
       "    </tr>\n",
       "    <tr>\n",
       "      <th>2</th>\n",
       "      <td>ALDER</td>\n",
       "      <td>13</td>\n",
       "      <td>-15</td>\n",
       "      <td>Under 16 years</td>\n",
       "      <td>67-</td>\n",
       "      <td>67 years and over</td>\n",
       "      <td>False</td>\n",
       "    </tr>\n",
       "    <tr>\n",
       "      <th>3</th>\n",
       "      <td>KØN</td>\n",
       "      <td>3</td>\n",
       "      <td>TOT</td>\n",
       "      <td>Total</td>\n",
       "      <td>K</td>\n",
       "      <td>Women</td>\n",
       "      <td>False</td>\n",
       "    </tr>\n",
       "    <tr>\n",
       "      <th>4</th>\n",
       "      <td>Tid</td>\n",
       "      <td>14</td>\n",
       "      <td>2008</td>\n",
       "      <td>2008</td>\n",
       "      <td>2021</td>\n",
       "      <td>2021</td>\n",
       "      <td>True</td>\n",
       "    </tr>\n",
       "  </tbody>\n",
       "</table>\n",
       "</div>"
      ],
      "text/plain": [
       "  variable name  # values First value    First value label Last value  \\\n",
       "0     BRANCHE07       140         TOT  TOT Industry, total      99999   \n",
       "1         SOCIO         8          05        Self-employed         40   \n",
       "2         ALDER        13         -15       Under 16 years        67-   \n",
       "3           KØN         3         TOT                Total          K   \n",
       "4           Tid        14        2008                 2008       2021   \n",
       "\n",
       "            Last value label  Time variable  \n",
       "0  99999 Activity not stated          False  \n",
       "1   Employees, not specified          False  \n",
       "2          67 years and over          False  \n",
       "3                      Women          False  \n",
       "4                       2021           True  "
      ]
     },
     "execution_count": 10,
     "metadata": {},
     "output_type": "execute_result"
    }
   ],
   "source": [
    "# Searching for GDP data through DST API\n",
    "employment_dst = DstApi('RAS300')\n",
    "\n",
    "# Creating and displaying the a summary of the GDP data\n",
    "summary_employment = employment_dst.tablesummary(language='en')\n",
    "summary_employment"
   ]
  },
  {
   "cell_type": "code",
   "execution_count": 11,
   "metadata": {},
   "outputs": [
    {
     "data": {
      "text/html": [
       "<div>\n",
       "<style scoped>\n",
       "    .dataframe tbody tr th:only-of-type {\n",
       "        vertical-align: middle;\n",
       "    }\n",
       "\n",
       "    .dataframe tbody tr th {\n",
       "        vertical-align: top;\n",
       "    }\n",
       "\n",
       "    .dataframe thead th {\n",
       "        text-align: right;\n",
       "    }\n",
       "</style>\n",
       "<table border=\"1\" class=\"dataframe\">\n",
       "  <thead>\n",
       "    <tr style=\"text-align: right;\">\n",
       "      <th></th>\n",
       "      <th>INDUSTRY</th>\n",
       "      <th>YEAR</th>\n",
       "      <th>GENDER</th>\n",
       "      <th>NUMBER OF EMPLOYEES</th>\n",
       "      <th>CHANGE (%)</th>\n",
       "    </tr>\n",
       "  </thead>\n",
       "  <tbody>\n",
       "    <tr>\n",
       "      <th>3</th>\n",
       "      <td>Agriculture, forestry and fishing</td>\n",
       "      <td>2009</td>\n",
       "      <td>Men</td>\n",
       "      <td>59129</td>\n",
       "      <td>-2.157761</td>\n",
       "    </tr>\n",
       "    <tr>\n",
       "      <th>4</th>\n",
       "      <td>Agriculture, forestry and fishing</td>\n",
       "      <td>2009</td>\n",
       "      <td>Total</td>\n",
       "      <td>74414</td>\n",
       "      <td>-3.077745</td>\n",
       "    </tr>\n",
       "    <tr>\n",
       "      <th>5</th>\n",
       "      <td>Agriculture, forestry and fishing</td>\n",
       "      <td>2009</td>\n",
       "      <td>Women</td>\n",
       "      <td>15285</td>\n",
       "      <td>-6.479442</td>\n",
       "    </tr>\n",
       "    <tr>\n",
       "      <th>6</th>\n",
       "      <td>Agriculture, forestry and fishing</td>\n",
       "      <td>2010</td>\n",
       "      <td>Men</td>\n",
       "      <td>56889</td>\n",
       "      <td>-3.788327</td>\n",
       "    </tr>\n",
       "    <tr>\n",
       "      <th>7</th>\n",
       "      <td>Agriculture, forestry and fishing</td>\n",
       "      <td>2010</td>\n",
       "      <td>Total</td>\n",
       "      <td>71090</td>\n",
       "      <td>-4.466901</td>\n",
       "    </tr>\n",
       "    <tr>\n",
       "      <th>8</th>\n",
       "      <td>Agriculture, forestry and fishing</td>\n",
       "      <td>2010</td>\n",
       "      <td>Women</td>\n",
       "      <td>14201</td>\n",
       "      <td>-7.091920</td>\n",
       "    </tr>\n",
       "  </tbody>\n",
       "</table>\n",
       "</div>"
      ],
      "text/plain": [
       "                            INDUSTRY  YEAR GENDER  NUMBER OF EMPLOYEES  \\\n",
       "3  Agriculture, forestry and fishing  2009    Men                59129   \n",
       "4  Agriculture, forestry and fishing  2009  Total                74414   \n",
       "5  Agriculture, forestry and fishing  2009  Women                15285   \n",
       "6  Agriculture, forestry and fishing  2010    Men                56889   \n",
       "7  Agriculture, forestry and fishing  2010  Total                71090   \n",
       "8  Agriculture, forestry and fishing  2010  Women                14201   \n",
       "\n",
       "   CHANGE (%)  \n",
       "3   -2.157761  \n",
       "4   -3.077745  \n",
       "5   -6.479442  \n",
       "6   -3.788327  \n",
       "7   -4.466901  \n",
       "8   -7.091920  "
      ]
     },
     "execution_count": 11,
     "metadata": {},
     "output_type": "execute_result"
    }
   ],
   "source": [
    "# Setting parameters\n",
    "par_employment = {\n",
    "    'table': 'RAS300',\n",
    "    'format': 'BULK',\n",
    "    'lang': 'en',\n",
    "    'variables': [\n",
    "        {'code': 'BRANCHE07', 'values': ['1','2','3','4','5','6','7','8','9','10']}, # Choosing all relevant industries\n",
    "        {'code': 'SOCIO', 'values': ['*']}, # Cannot leave empty so we choose all values with *\n",
    "        {'code': 'ALDER', 'values': ['*']}, # Cannot leave empty so we choose all values with *\n",
    "        {'code': 'KØN', 'values': ['TOT', 'M', 'K']}, # TOT = Total, M = Male, K = Female\n",
    "        {'code': 'Tid', 'values': ['2006<=2021']}\n",
    "    ]\n",
    "}\n",
    "\n",
    "# Fetching data based on parameters set\n",
    "employment = employment_dst.get_data(params=par_employment)\n",
    "\n",
    "# Grouping by industry, year, and gender, and summing the NUMBER OF EMPLOYEES column\n",
    "employment = employment.groupby(['BRANCHE07', 'TID', 'KØN'], as_index=False)['INDHOLD'].sum()\n",
    "\n",
    "# Remove the numbers at the beginning of the industry names\n",
    "employment['BRANCHE07'] = employment['BRANCHE07'].str.replace(r'^\\d+\\s+', '', regex=True)\n",
    "\n",
    "# Renaming the columns\n",
    "employment.rename(columns=\n",
    "                {'BRANCHE07':'INDUSTRY',\n",
    "                'TID':'YEAR',\n",
    "                'KØN':'GENDER',\n",
    "                'INDHOLD':'NUMBER OF EMPLOYEES'},\n",
    "                inplace=True\n",
    "            )\n",
    "\n",
    "# Sorting the DataFrame by industry, year, and gender\n",
    "employment.sort_values(['INDUSTRY', 'YEAR', 'GENDER'], inplace=True)\n",
    "\n",
    "# Adding a column with the percentage change in total employment from year to year\n",
    "employment['CHANGE (%)'] = employment.groupby(['INDUSTRY', 'GENDER'])['NUMBER OF EMPLOYEES'].pct_change() * 100\n",
    "\n",
    "# Drop rows where YEAR equals 2008\n",
    "employment = employment[employment['YEAR'] != 2008]\n",
    "\n",
    "# Displaying employment table\n",
    "employment.head(6)"
   ]
  },
  {
   "cell_type": "code",
   "execution_count": 12,
   "metadata": {},
   "outputs": [
    {
     "data": {
      "application/vnd.plotly.v1+json": {
       "config": {
        "plotlyServerURL": "https://plot.ly"
       },
       "data": [
        {
         "hovertemplate": "<b>%{hovertext}</b><br><br>Men=%{x}<br>GENDER GAP=%{y}<extra></extra>",
         "hovertext": [
          "Agriculture, forestry and fishing",
          "Arts, entertainment and recration activities",
          "Construction",
          "Financial and insurance",
          "Information and communication",
          "Manufacturing, mining and quarrying, and utility services",
          "Other business services",
          "Public administration, education and health",
          "Real estate",
          "Trade and transport etc."
         ],
         "legendgroup": "",
         "marker": {
          "color": "#636efa",
          "symbol": "circle"
         },
         "mode": "markers",
         "name": "",
         "orientation": "v",
         "showlegend": false,
         "type": "scatter",
         "x": [
          1.3899940305974297,
          1.8472508653869408,
          4.4823770947155195,
          1.9793841573103361,
          2.165131628138644,
          4.406242627527081,
          2.682530395625331,
          1.6454149028458251,
          2.27381454792076,
          2.720975692129945
         ],
         "xaxis": "x",
         "y": [
          1.9122133021071335,
          0.10590195222159116,
          0.37291596189571763,
          -0.03234680228559461,
          1.0813347379279028,
          0.10607136583070886,
          0.8066747861890717,
          -0.425470008809282,
          -0.012367762516992453,
          0.5792214258038868
         ],
         "yaxis": "y"
        }
       ],
       "layout": {
        "annotations": [
         {
          "showarrow": false,
          "text": "Source: Statistics Denmark RAS300",
          "x": 0,
          "xref": "paper",
          "y": 0,
          "yref": "paper"
         }
        ],
        "height": 500,
        "hovermode": "closest",
        "legend": {
         "tracegroupgap": 0
        },
        "margin": {
         "b": 50,
         "l": 50,
         "pad": 4,
         "r": 50,
         "t": 50
        },
        "template": {
         "data": {
          "bar": [
           {
            "error_x": {
             "color": "#2a3f5f"
            },
            "error_y": {
             "color": "#2a3f5f"
            },
            "marker": {
             "line": {
              "color": "#E5ECF6",
              "width": 0.5
             },
             "pattern": {
              "fillmode": "overlay",
              "size": 10,
              "solidity": 0.2
             }
            },
            "type": "bar"
           }
          ],
          "barpolar": [
           {
            "marker": {
             "line": {
              "color": "#E5ECF6",
              "width": 0.5
             },
             "pattern": {
              "fillmode": "overlay",
              "size": 10,
              "solidity": 0.2
             }
            },
            "type": "barpolar"
           }
          ],
          "carpet": [
           {
            "aaxis": {
             "endlinecolor": "#2a3f5f",
             "gridcolor": "white",
             "linecolor": "white",
             "minorgridcolor": "white",
             "startlinecolor": "#2a3f5f"
            },
            "baxis": {
             "endlinecolor": "#2a3f5f",
             "gridcolor": "white",
             "linecolor": "white",
             "minorgridcolor": "white",
             "startlinecolor": "#2a3f5f"
            },
            "type": "carpet"
           }
          ],
          "choropleth": [
           {
            "colorbar": {
             "outlinewidth": 0,
             "ticks": ""
            },
            "type": "choropleth"
           }
          ],
          "contour": [
           {
            "colorbar": {
             "outlinewidth": 0,
             "ticks": ""
            },
            "colorscale": [
             [
              0,
              "#0d0887"
             ],
             [
              0.1111111111111111,
              "#46039f"
             ],
             [
              0.2222222222222222,
              "#7201a8"
             ],
             [
              0.3333333333333333,
              "#9c179e"
             ],
             [
              0.4444444444444444,
              "#bd3786"
             ],
             [
              0.5555555555555556,
              "#d8576b"
             ],
             [
              0.6666666666666666,
              "#ed7953"
             ],
             [
              0.7777777777777778,
              "#fb9f3a"
             ],
             [
              0.8888888888888888,
              "#fdca26"
             ],
             [
              1,
              "#f0f921"
             ]
            ],
            "type": "contour"
           }
          ],
          "contourcarpet": [
           {
            "colorbar": {
             "outlinewidth": 0,
             "ticks": ""
            },
            "type": "contourcarpet"
           }
          ],
          "heatmap": [
           {
            "colorbar": {
             "outlinewidth": 0,
             "ticks": ""
            },
            "colorscale": [
             [
              0,
              "#0d0887"
             ],
             [
              0.1111111111111111,
              "#46039f"
             ],
             [
              0.2222222222222222,
              "#7201a8"
             ],
             [
              0.3333333333333333,
              "#9c179e"
             ],
             [
              0.4444444444444444,
              "#bd3786"
             ],
             [
              0.5555555555555556,
              "#d8576b"
             ],
             [
              0.6666666666666666,
              "#ed7953"
             ],
             [
              0.7777777777777778,
              "#fb9f3a"
             ],
             [
              0.8888888888888888,
              "#fdca26"
             ],
             [
              1,
              "#f0f921"
             ]
            ],
            "type": "heatmap"
           }
          ],
          "heatmapgl": [
           {
            "colorbar": {
             "outlinewidth": 0,
             "ticks": ""
            },
            "colorscale": [
             [
              0,
              "#0d0887"
             ],
             [
              0.1111111111111111,
              "#46039f"
             ],
             [
              0.2222222222222222,
              "#7201a8"
             ],
             [
              0.3333333333333333,
              "#9c179e"
             ],
             [
              0.4444444444444444,
              "#bd3786"
             ],
             [
              0.5555555555555556,
              "#d8576b"
             ],
             [
              0.6666666666666666,
              "#ed7953"
             ],
             [
              0.7777777777777778,
              "#fb9f3a"
             ],
             [
              0.8888888888888888,
              "#fdca26"
             ],
             [
              1,
              "#f0f921"
             ]
            ],
            "type": "heatmapgl"
           }
          ],
          "histogram": [
           {
            "marker": {
             "pattern": {
              "fillmode": "overlay",
              "size": 10,
              "solidity": 0.2
             }
            },
            "type": "histogram"
           }
          ],
          "histogram2d": [
           {
            "colorbar": {
             "outlinewidth": 0,
             "ticks": ""
            },
            "colorscale": [
             [
              0,
              "#0d0887"
             ],
             [
              0.1111111111111111,
              "#46039f"
             ],
             [
              0.2222222222222222,
              "#7201a8"
             ],
             [
              0.3333333333333333,
              "#9c179e"
             ],
             [
              0.4444444444444444,
              "#bd3786"
             ],
             [
              0.5555555555555556,
              "#d8576b"
             ],
             [
              0.6666666666666666,
              "#ed7953"
             ],
             [
              0.7777777777777778,
              "#fb9f3a"
             ],
             [
              0.8888888888888888,
              "#fdca26"
             ],
             [
              1,
              "#f0f921"
             ]
            ],
            "type": "histogram2d"
           }
          ],
          "histogram2dcontour": [
           {
            "colorbar": {
             "outlinewidth": 0,
             "ticks": ""
            },
            "colorscale": [
             [
              0,
              "#0d0887"
             ],
             [
              0.1111111111111111,
              "#46039f"
             ],
             [
              0.2222222222222222,
              "#7201a8"
             ],
             [
              0.3333333333333333,
              "#9c179e"
             ],
             [
              0.4444444444444444,
              "#bd3786"
             ],
             [
              0.5555555555555556,
              "#d8576b"
             ],
             [
              0.6666666666666666,
              "#ed7953"
             ],
             [
              0.7777777777777778,
              "#fb9f3a"
             ],
             [
              0.8888888888888888,
              "#fdca26"
             ],
             [
              1,
              "#f0f921"
             ]
            ],
            "type": "histogram2dcontour"
           }
          ],
          "mesh3d": [
           {
            "colorbar": {
             "outlinewidth": 0,
             "ticks": ""
            },
            "type": "mesh3d"
           }
          ],
          "parcoords": [
           {
            "line": {
             "colorbar": {
              "outlinewidth": 0,
              "ticks": ""
             }
            },
            "type": "parcoords"
           }
          ],
          "pie": [
           {
            "automargin": true,
            "type": "pie"
           }
          ],
          "scatter": [
           {
            "fillpattern": {
             "fillmode": "overlay",
             "size": 10,
             "solidity": 0.2
            },
            "type": "scatter"
           }
          ],
          "scatter3d": [
           {
            "line": {
             "colorbar": {
              "outlinewidth": 0,
              "ticks": ""
             }
            },
            "marker": {
             "colorbar": {
              "outlinewidth": 0,
              "ticks": ""
             }
            },
            "type": "scatter3d"
           }
          ],
          "scattercarpet": [
           {
            "marker": {
             "colorbar": {
              "outlinewidth": 0,
              "ticks": ""
             }
            },
            "type": "scattercarpet"
           }
          ],
          "scattergeo": [
           {
            "marker": {
             "colorbar": {
              "outlinewidth": 0,
              "ticks": ""
             }
            },
            "type": "scattergeo"
           }
          ],
          "scattergl": [
           {
            "marker": {
             "colorbar": {
              "outlinewidth": 0,
              "ticks": ""
             }
            },
            "type": "scattergl"
           }
          ],
          "scattermapbox": [
           {
            "marker": {
             "colorbar": {
              "outlinewidth": 0,
              "ticks": ""
             }
            },
            "type": "scattermapbox"
           }
          ],
          "scatterpolar": [
           {
            "marker": {
             "colorbar": {
              "outlinewidth": 0,
              "ticks": ""
             }
            },
            "type": "scatterpolar"
           }
          ],
          "scatterpolargl": [
           {
            "marker": {
             "colorbar": {
              "outlinewidth": 0,
              "ticks": ""
             }
            },
            "type": "scatterpolargl"
           }
          ],
          "scatterternary": [
           {
            "marker": {
             "colorbar": {
              "outlinewidth": 0,
              "ticks": ""
             }
            },
            "type": "scatterternary"
           }
          ],
          "surface": [
           {
            "colorbar": {
             "outlinewidth": 0,
             "ticks": ""
            },
            "colorscale": [
             [
              0,
              "#0d0887"
             ],
             [
              0.1111111111111111,
              "#46039f"
             ],
             [
              0.2222222222222222,
              "#7201a8"
             ],
             [
              0.3333333333333333,
              "#9c179e"
             ],
             [
              0.4444444444444444,
              "#bd3786"
             ],
             [
              0.5555555555555556,
              "#d8576b"
             ],
             [
              0.6666666666666666,
              "#ed7953"
             ],
             [
              0.7777777777777778,
              "#fb9f3a"
             ],
             [
              0.8888888888888888,
              "#fdca26"
             ],
             [
              1,
              "#f0f921"
             ]
            ],
            "type": "surface"
           }
          ],
          "table": [
           {
            "cells": {
             "fill": {
              "color": "#EBF0F8"
             },
             "line": {
              "color": "white"
             }
            },
            "header": {
             "fill": {
              "color": "#C8D4E3"
             },
             "line": {
              "color": "white"
             }
            },
            "type": "table"
           }
          ]
         },
         "layout": {
          "annotationdefaults": {
           "arrowcolor": "#2a3f5f",
           "arrowhead": 0,
           "arrowwidth": 1
          },
          "autotypenumbers": "strict",
          "coloraxis": {
           "colorbar": {
            "outlinewidth": 0,
            "ticks": ""
           }
          },
          "colorscale": {
           "diverging": [
            [
             0,
             "#8e0152"
            ],
            [
             0.1,
             "#c51b7d"
            ],
            [
             0.2,
             "#de77ae"
            ],
            [
             0.3,
             "#f1b6da"
            ],
            [
             0.4,
             "#fde0ef"
            ],
            [
             0.5,
             "#f7f7f7"
            ],
            [
             0.6,
             "#e6f5d0"
            ],
            [
             0.7,
             "#b8e186"
            ],
            [
             0.8,
             "#7fbc41"
            ],
            [
             0.9,
             "#4d9221"
            ],
            [
             1,
             "#276419"
            ]
           ],
           "sequential": [
            [
             0,
             "#0d0887"
            ],
            [
             0.1111111111111111,
             "#46039f"
            ],
            [
             0.2222222222222222,
             "#7201a8"
            ],
            [
             0.3333333333333333,
             "#9c179e"
            ],
            [
             0.4444444444444444,
             "#bd3786"
            ],
            [
             0.5555555555555556,
             "#d8576b"
            ],
            [
             0.6666666666666666,
             "#ed7953"
            ],
            [
             0.7777777777777778,
             "#fb9f3a"
            ],
            [
             0.8888888888888888,
             "#fdca26"
            ],
            [
             1,
             "#f0f921"
            ]
           ],
           "sequentialminus": [
            [
             0,
             "#0d0887"
            ],
            [
             0.1111111111111111,
             "#46039f"
            ],
            [
             0.2222222222222222,
             "#7201a8"
            ],
            [
             0.3333333333333333,
             "#9c179e"
            ],
            [
             0.4444444444444444,
             "#bd3786"
            ],
            [
             0.5555555555555556,
             "#d8576b"
            ],
            [
             0.6666666666666666,
             "#ed7953"
            ],
            [
             0.7777777777777778,
             "#fb9f3a"
            ],
            [
             0.8888888888888888,
             "#fdca26"
            ],
            [
             1,
             "#f0f921"
            ]
           ]
          },
          "colorway": [
           "#636efa",
           "#EF553B",
           "#00cc96",
           "#ab63fa",
           "#FFA15A",
           "#19d3f3",
           "#FF6692",
           "#B6E880",
           "#FF97FF",
           "#FECB52"
          ],
          "font": {
           "color": "#2a3f5f"
          },
          "geo": {
           "bgcolor": "white",
           "lakecolor": "white",
           "landcolor": "#E5ECF6",
           "showlakes": true,
           "showland": true,
           "subunitcolor": "white"
          },
          "hoverlabel": {
           "align": "left"
          },
          "hovermode": "closest",
          "mapbox": {
           "style": "light"
          },
          "paper_bgcolor": "white",
          "plot_bgcolor": "#E5ECF6",
          "polar": {
           "angularaxis": {
            "gridcolor": "white",
            "linecolor": "white",
            "ticks": ""
           },
           "bgcolor": "#E5ECF6",
           "radialaxis": {
            "gridcolor": "white",
            "linecolor": "white",
            "ticks": ""
           }
          },
          "scene": {
           "xaxis": {
            "backgroundcolor": "#E5ECF6",
            "gridcolor": "white",
            "gridwidth": 2,
            "linecolor": "white",
            "showbackground": true,
            "ticks": "",
            "zerolinecolor": "white"
           },
           "yaxis": {
            "backgroundcolor": "#E5ECF6",
            "gridcolor": "white",
            "gridwidth": 2,
            "linecolor": "white",
            "showbackground": true,
            "ticks": "",
            "zerolinecolor": "white"
           },
           "zaxis": {
            "backgroundcolor": "#E5ECF6",
            "gridcolor": "white",
            "gridwidth": 2,
            "linecolor": "white",
            "showbackground": true,
            "ticks": "",
            "zerolinecolor": "white"
           }
          },
          "shapedefaults": {
           "line": {
            "color": "#2a3f5f"
           }
          },
          "ternary": {
           "aaxis": {
            "gridcolor": "white",
            "linecolor": "white",
            "ticks": ""
           },
           "baxis": {
            "gridcolor": "white",
            "linecolor": "white",
            "ticks": ""
           },
           "bgcolor": "#E5ECF6",
           "caxis": {
            "gridcolor": "white",
            "linecolor": "white",
            "ticks": ""
           }
          },
          "title": {
           "x": 0.05
          },
          "xaxis": {
           "automargin": true,
           "gridcolor": "white",
           "linecolor": "white",
           "ticks": "",
           "title": {
            "standoff": 15
           },
           "zerolinecolor": "white",
           "zerolinewidth": 2
          },
          "yaxis": {
           "automargin": true,
           "gridcolor": "white",
           "linecolor": "white",
           "ticks": "",
           "title": {
            "standoff": 15
           },
           "zerolinecolor": "white",
           "zerolinewidth": 2
          }
         }
        },
        "title": {
         "font": {
          "size": 20
         },
         "text": "Figure 4: Overall Gender Gap vs. Employment Volatility for Each Industry",
         "x": 0.5
        },
        "width": 1000,
        "xaxis": {
         "anchor": "y",
         "domain": [
          0,
          1
         ],
         "title": {
          "text": "Volatility of Employment (%)"
         }
        },
        "yaxis": {
         "anchor": "x",
         "domain": [
          0,
          1
         ],
         "title": {
          "text": "Overall Gender Gap (%)"
         }
        }
       }
      }
     },
     "metadata": {},
     "output_type": "display_data"
    }
   ],
   "source": [
    "# Calculate the standard deviation of the 'CHANGE (%)' column for each industry and gender\n",
    "volatility = employment.groupby(['INDUSTRY', 'GENDER'])['CHANGE (%)'].std().reset_index()\n",
    "\n",
    "# Pivot the volatility table to have separate columns for male and female volatility\n",
    "volatility_pivot = volatility.pivot_table(values='CHANGE (%)', index=['INDUSTRY'], columns=['GENDER']).reset_index()\n",
    "\n",
    "# Calculate the overall gender gap in volatility\n",
    "volatility_pivot['GENDER GAP'] = volatility_pivot['Women'] - volatility_pivot['Men']\n",
    "\n",
    "# Create an interactive scatter plot using Plotly\n",
    "fig_4 = px.scatter(volatility_pivot, x='Men', y='GENDER GAP', hover_name='INDUSTRY', title='Figure 4: Overall Gender Gap vs. Employment Volatility for Each Industry')\n",
    "\n",
    "# Update the layout\n",
    "fig_4.update_layout(xaxis_title='Volatility of Employment (%)', yaxis_title='Overall Gender Gap (%)', title_font=dict(size=20), \n",
    "                    title_x=0.5, margin=dict(l=50, r=50, b=50, t=50, pad=4), hovermode='closest',\n",
    "                    height=500, width=1000,\n",
    "                    annotations=[dict(xref='paper', yref='paper', x=0, y=-0, showarrow=False, text='Source: Statistics Denmark RAS300')])\n",
    "\n",
    "# Show the interactive plot\n",
    "fig_4.show()"
   ]
  },
  {
   "cell_type": "code",
   "execution_count": 13,
   "metadata": {},
   "outputs": [
    {
     "name": "stdout",
     "output_type": "stream",
     "text": [
      "The correlation between overall Gender Gap and employment volatility for each industry is -0.1857816614027788\n"
     ]
    }
   ],
   "source": [
    "correlation_fig4 = volatility_pivot['Men'].corr(volatility_pivot['GENDER GAP'])\n",
    "\n",
    "# Print the correlation\n",
    "print('The correlation between overall Gender Gap and employment volatility for each industry is', correlation_fig4)"
   ]
  },
  {
   "attachments": {},
   "cell_type": "markdown",
   "metadata": {},
   "source": [
    "It can be seen that women are fundamentally overrepresented in the unemployment statistics for most industries, as the Overall Gender Gap for most industries is positive, with Public administration, education and health being the clearest exceptions, where men have a higher unemployment rate than women. This industry is also characterized as being a strongly female-dominated profession and high job security in particularly low economic times, as it is state-run, which could be the best explanatory factor for the industry's position on the figure. As for the other industries, a downward trend is seen with a calculated correlation of approximately -0.18, which means that there is a correlation between the more exposed an industry is to unemployment, the lower the overall Gender Gap is also seen to be. If we look at the types of occupations that are most at risk, it is seen to be primarily a male-dominated industry, such as Construction, Manufacturing, mining and quarrying, and utility services. They are also the ones with some of the lower Gender Gap rates. There is some indication that in periods of recession there could be a tendency for industries that are very exposed and affected by the economic cycle to also have a higher proportion of men, which could be a causal explanation for some of the difference in unemployment that is seen between men and women."
   ]
  },
  {
   "attachments": {},
   "cell_type": "markdown",
   "metadata": {},
   "source": [
    "---\n",
    "## Overall Conclusion\n",
    "\n",
    "In conclusion, we first found out that unemployment in Denmark has been exposed to two spikes in the current period from 2007-2022, which is due to the two crises - the financial crisis and COVID-19, which the economy has been exposed to during the period . In addition, a general inequality in unemployment was found far between men and women, with women seen to be overrepresented in the unemployment statistics for most of the period. However, the financial crisis is seen to be an exception, where the roles were reversed and men were the most exposed to unemployment. The reason for this shift was an interesting question to raise and was attempted to be answered by first looking at the economic situation and its connection with the Gender Unemployment Gap. Here a correlation was found, but was not enough to answer the question in detail. It therefore became interesting to look at the individual industries and see if there should be a correlation between how exposed they were to unemployment and how high a Gender Gap is seen for the individual industries. Here it was found that in the industries which are highly exposed and affected by the economic cycle, there is also a large over-representation of men, which could explain why we see the big change during the financial crisis. It is important to emphasize that this study cannot by any means conclude that as the only factors. Of other important explanatory factors for the development of inequality in unemployment between men and women. Alternatively, one could also examine differences within e.g. education, geography (countries), origin, age distribution and institutional explanatory factors. However, since this project tries to keep a simplicity for the big topic, these otherwise important factors are not explored."
   ]
  }
 ],
 "metadata": {
  "kernelspec": {
   "display_name": "base",
   "language": "python",
   "name": "python3"
  },
  "language_info": {
   "codemirror_mode": {
    "name": "ipython",
    "version": 3
   },
   "file_extension": ".py",
   "mimetype": "text/x-python",
   "name": "python",
   "nbconvert_exporter": "python",
   "pygments_lexer": "ipython3",
   "version": "3.9.13"
  },
  "toc-autonumbering": true,
  "vscode": {
   "interpreter": {
    "hash": "4543e2aa0819e4f60e86b01a02126c3618419736fe7742cba2614170705ea383"
   }
  }
 },
 "nbformat": 4,
 "nbformat_minor": 4
}
