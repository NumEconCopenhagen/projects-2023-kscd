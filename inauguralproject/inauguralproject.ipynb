{
 "cells": [
  {
   "attachments": {},
   "cell_type": "markdown",
   "metadata": {},
   "source": [
    "# Inaugural Project - Household model\n",
    "---\n",
    "**HouseholdSpecializationModel.py** is a code that defines a class called **HouseholdSpecializationModelClass** that represents an economic model of household specialization. The class is designed to estimate the parameters of the model and solve it for different wage levels. The model is based on utility maximization, subject to constraints on time allocation and production in the household.\n",
    "\n",
    "**HouseholdSpecializationModelClass** is built up, with different functions each describing different parts of the economy:\n",
    "\n",
    "**__init__**: Initializes the model parameters and creates namespaces for model parameters (par) and model solutions (sol).\n",
    "\n",
    "**calc_utility**: Calculates the utility based on consumption of market goods, home production, and disutility of work.\n",
    "\n",
    "**solve_discrete**: Solves the model discretely by considering all possible combinations of time allocations for work and home production.\n",
    "\n",
    "**solve_continuous**: Solves the model continuously by optimizing the utility function using the Nelder-Mead method, given initial guesses for time allocations.\n",
    "\n",
    "**solve_wF_vec**: Solves the model for a vector of female wages, using either the discrete or continuous solution method.\n",
    "\n",
    "**run_regression**: Runs a regression of the log ratio of female to male home production hours on the log of the female wage rate, estimating intercept and slope coefficients (beta0 and beta1).\n",
    "\n",
    "**estimate**: Estimates the parameters alpha and sigma by minimizing the sum of squared differences between the model's predicted $\\beta_0$ and $\\beta_1$ and their target values."
   ]
  },
  {
   "attachments": {},
   "cell_type": "markdown",
   "metadata": {},
   "source": [
    "# Necessities\n",
    "The following are all the necessary libraries and imports needed for calculations and data visualization."
   ]
  },
  {
   "cell_type": "code",
   "execution_count": 1,
   "metadata": {},
   "outputs": [],
   "source": [
    "# Importing relevant libraries for mathematical calculations and data visulization\n",
    "import numpy as np\n",
    "from matplotlib import pyplot as plt\n",
    "\n",
    "# Importing ipywidgets for creating an interactive model\n",
    "from ipywidgets import interact, fixed\n",
    "\n",
    "# Optimization\n",
    "from scipy import optimize\n",
    "\n",
    "# Importing code for economic model\n",
    "import HouseholdSpecializationModel as model\n",
    "\n",
    "# Defining model as 'HouseholdSpecializationModelClass'\n",
    "model = model.HouseholdSpecializationModelClass()"
   ]
  },
  {
   "attachments": {},
   "cell_type": "markdown",
   "metadata": {},
   "source": [
    "# Question 1"
   ]
  },
  {
   "attachments": {},
   "cell_type": "markdown",
   "metadata": {},
   "source": [
    "1. Define a list of possible $\\alpha$ and $\\sigma$ values\n",
    "2. Create empty lists to store the calculated $H_F$ values, $H_M$ values, and the $\\frac{H_F}{H_M}$ ratio.\n",
    "3. Iterate over each combination of $\\alpha$ and $\\sigma$ values:\n",
    "    - Assign the current $\\alpha$ and $\\sigma$ values to the model.\n",
    "    - Solve the model using the solve_discrete method.\n",
    "    - Append the resulting $H_F$ and $H_M$ values to their respective lists, and calculate and append the $\\frac{H_F}{H_M}$ ratio to its list.\n",
    "4. Reshape the list of $\\frac{H_F}{H_M}$ ratios into a matrix with rows corresponding to different $\\alpha$ values and columns to different $\\sigma$ values.\n",
    "5. Create a table showing the $\\frac{H_F}{H_M}$ ratios for each combination of $\\alpha$ and $\\sigma$.\n",
    "6. Create a line plot of the $\\frac{H_F}{H_M}$ ratio for each value of $\\alpha$ as a function of $\\sigma$. Make this interactive"
   ]
  },
  {
   "cell_type": "code",
   "execution_count": 2,
   "metadata": {},
   "outputs": [
    {
     "name": "stdout",
     "output_type": "stream",
     "text": [
      "Table 1: Relative labor in home production, HF/HM\n",
      "---------------------------------------------------\n",
      "| Alpha | Sigma = 0.5 | Sigma = 1.0 | Sigma = 1.5 |\n",
      "|-------|-------------|-------------|-------------|\n"
     ]
    },
    {
     "name": "stderr",
     "output_type": "stream",
     "text": [
      "c:\\Users\\ketsi\\OneDrive\\Dokumenter\\Introduction to Programming and Numerical Analysis\\projects-2023-kscd\\inauguralproject\\HouseholdSpecializationModel.py:63: RuntimeWarning: divide by zero encountered in reciprocal\n",
      "  H = ((1-par.alpha)*HM**((par.sigma-1)/par.sigma)+par.alpha*HF**((par.sigma-1)/par.sigma))**((par.sigma/(par.sigma-1)))\n"
     ]
    },
    {
     "name": "stdout",
     "output_type": "stream",
     "text": [
      "| 0.25  |    0.55     |    0.31     |    0.21     |\n",
      "| 0.50  |    1.00     |    1.00     |    1.00     |\n",
      "| 0.75  |    1.83     |    3.25     |    4.67     |\n",
      "---------------------------------------------------\n"
     ]
    }
   ],
   "source": [
    "# Defining values for alpha and sigma\n",
    "alpha_values = [0.25, 0.50, 0.75]\n",
    "sigma_values = [0.50, 1.00, 1.50]\n",
    "\n",
    "# Creating empty lists for HF/HM ratio\n",
    "HF_HM_ratio = []\n",
    "\n",
    "# Creating a table\n",
    "print('Table 1: Relative labor in home production, HF/HM')\n",
    "print('---------------------------------------------------')  # line separator\n",
    "\n",
    "# Print header\n",
    "print('| Alpha | Sigma = 0.5 | Sigma = 1.0 | Sigma = 1.5 |')\n",
    "print('|-------|-------------|-------------|-------------|')\n",
    "\n",
    "for alpha in alpha_values:\n",
    "    row = f'| {alpha:.2f}  |'\n",
    "\n",
    "    for sigma in sigma_values:\n",
    "        model.par.alpha = alpha\n",
    "        model.par.sigma = sigma\n",
    "\n",
    "        # Solving the model\n",
    "        result = model.solve_discrete()\n",
    "\n",
    "        # Appending HF/HM ratio to the list\n",
    "        HF_HM_ratio.append(result.HF/result.HM)\n",
    "\n",
    "        # Add output to string\n",
    "        row += f' {result.HF/result.HM:7.2f}     |'\n",
    "\n",
    "    print(row)\n",
    "\n",
    "# Print footer\n",
    "print('---------------------------------------------------')"
   ]
  },
  {
   "attachments": {},
   "cell_type": "markdown",
   "metadata": {},
   "source": [
    "As seen in the table, when $\\alpha$ is low, women tend to specialize more in home production, while men specialize more in the labor market. As $\\alpha$ increases, the difference between the relative labor of men and women decreases. The same pattern can be observed when sigma increases."
   ]
  },
  {
   "cell_type": "code",
   "execution_count": 3,
   "metadata": {},
   "outputs": [
    {
     "data": {
      "image/png": "[encoded data removed]",
      "text/plain": [
       "<Figure size 640x480 with 1 Axes>"
      ]
     },
     "metadata": {},
     "output_type": "display_data"
    }
   ],
   "source": [
    "# Reshaping the HF/HM ratio list into a matrix\n",
    "HF_HM_ratio = np.array(HF_HM_ratio).reshape((len(alpha_values), len(sigma_values)))\n",
    "\n",
    "# Line plot for each value of alpha\n",
    "for i, alpha in enumerate(alpha_values):\n",
    "    plt.plot(sigma_values, HF_HM_ratio[i, :], label=f'alpha = {alpha}')\n",
    "\n",
    "# Adding label names and graph title\n",
    "plt.xlabel('sigma')\n",
    "plt.ylabel('HF/HM')\n",
    "plt.title('Figure 1: HF/HM ratio, for each value of sigma and alpha')\n",
    "\n",
    "# Adding a legend\n",
    "plt.legend()\n",
    "\n",
    "# Adding gridlines\n",
    "plt.grid()\n",
    "\n",
    "# Show the plot\n",
    "plt.show()\n"
   ]
  },
  {
   "attachments": {},
   "cell_type": "markdown",
   "metadata": {},
   "source": [
    "The figure shows that as $\\alpha$ increases, the difference between the relative labor of men and women decreases, regardless of the value of $\\sigma$. Additionally, for a fixed value of $\\alpha$, increasing $\\sigma$ leads to a decrease in the relative amount of labor performed by women. This is consistent with the results from **Table 1**.\n",
    "\n",
    "Based on the results from the figure and Table 1, we can conclude that when $\\alpha$ is low, women tend to specialize more in home production while men specialize more in the labor market. However, as $\\alpha$ increases, this difference between the relative labor of men and women decreases. This means that for higher values of $\\alpha$, men and women tend to share more equally in the home and labor markets.\n",
    "\n",
    "Furthermore, the results indicate that increasing $\\sigma$ leads to a decrease in the relative amount of labor performed by women, regardless of the value of $\\alpha$. This suggests that as the degree of complementarity between home and market goods increases, women tend to specialize relatively more in home production, while men specialize more in the labor market."
   ]
  },
  {
   "attachments": {},
   "cell_type": "markdown",
   "metadata": {},
   "source": [
    "---\n",
    "# Question 2"
   ]
  },
  {
   "attachments": {},
   "cell_type": "markdown",
   "metadata": {},
   "source": [
    "We want to see what kind of relationship there is between the female and male ratio of wages and the ratio between them in homeproduction. Here male wages are held constant whilst female wages are varying. Calculating the relation between the two is easy enough, though the problem lies with visualizing it. Since both $\\alpha$ and $\\sigma$ can have 3 different values and therefore 9 different values for $\\log{\\frac{H_F}{H_M}}$, it would mean that we need to create 1 for each value of $\\log{\\frac{H_F}{H_M}}$, in code this can become quickly unmanageble. Instead of doing this, we can create an interactive model, where we choose the values different values for $\\alpha$ and $\\sigma$ that were defined en Question 1.\n",
    "\n",
    "To do this, we can do the following steps:\n",
    "\n",
    "1. Import interact from ipywidgets, since we want to create an interactive model.\n",
    "2. Define a list for all values of $w_F$ and a define the $w_M$.\n",
    "3. Define a new function, with  $\\alpha$ and $\\sigma$ as the input.\n",
    "4. Create 2 new empty lists for $\\log{\\frac{wF}{wM}}$ and $\\log{\\frac{H_F}{H_M}}$\n",
    "5. Create a for loop to calculate $\\log{\\frac{wF}{wM}}$ and $\\log{\\frac{H_F}{H_M}}$ and append them to their respective lists.\n",
    "6. Plot the graph as a line graph with dots, but not display it.\n",
    "7. Make it into an interactive model, where the interactive variables are $\\alpha$ and $\\sigma$"
   ]
  },
  {
   "cell_type": "code",
   "execution_count": 4,
   "metadata": {},
   "outputs": [
    {
     "data": {
      "application/vnd.jupyter.widget-view+json": {
       "model_id": "05ad4af4ce6641fba37e794f9292e27b",
       "version_major": 2,
       "version_minor": 0
      },
      "text/plain": [
       "interactive(children=(Dropdown(description='alpha', options=(0.25, 0.5, 0.75), value=0.25), Dropdown(descripti…"
      ]
     },
     "metadata": {},
     "output_type": "display_data"
    },
    {
     "data": {
      "text/plain": [
       "<function __main__.interactive_plot(alpha, sigma)>"
      ]
     },
     "execution_count": 4,
     "metadata": {},
     "output_type": "execute_result"
    }
   ],
   "source": [
    "# Defining given values for wF and wM\n",
    "wF_values = [0.8, 0.9, 1.0, 1.1, 1.2]\n",
    "wM = 1.0\n",
    "\n",
    "# Defining a function so the function can be plotted for any value of alpha and sigma, which has been defined\n",
    "def interactive_plot(alpha, sigma):\n",
    "\n",
    "    # Replacing previous values for alpha and sigma with the ones chosen in the interactive model\n",
    "    model.par.alpha = alpha\n",
    "    model.par.sigma = sigma\n",
    "    \n",
    "    # Use solve_wF_vec() instead of looping over wF_values\n",
    "    model.solve_wF_vec(discrete=True)\n",
    "\n",
    "    # Calculate log(wF/wM) and log(HF/HM) for each value of wF\n",
    "    log_wF_wM = np.log(np.array(wF_values) / wM)\n",
    "    log_HF_HM = np.log(model.sol.HF_vec / model.sol.HM_vec)\n",
    "\n",
    "    # Create a scatter plot with the given data\n",
    "    plt.plot(log_wF_wM, log_HF_HM, marker='s')\n",
    "\n",
    "    # Adding label names and graph title\n",
    "    plt.xlabel('log(wF/wM)')\n",
    "    plt.ylabel('log(HF/HM)')\n",
    "    plt.title('Figure 2: Log HF/HM vs Log wF/wM')\n",
    "\n",
    "    # Adding gridlines\n",
    "    plt.grid()\n",
    "\n",
    "    # Display the plot\n",
    "    plt.show()\n",
    "\n",
    "# Creating the interactive model\n",
    "interact(interactive_plot, alpha=alpha_values, sigma=sigma_values)"
   ]
  },
  {
   "attachments": {},
   "cell_type": "markdown",
   "metadata": {},
   "source": [
    "An interactive figure was created to investigate the relationship between the $\\frac{H_F}{H_M}$ ratio and the $\\frac{w_F}{w_M}$ ratio, both shown as a logarithm. The results show a negative downward trend, indicating that women tend to decrease their work at home relative to men when their market wages increase relative to men's. The interactive figure allowed us to adjust the values of $\\alpha$ and $\\sigma$ and see the impact on the slope and level of the curve. It was found that the values of $\\alpha$ and $\\sigma$ play a crucial role in determining the slope and level of the curve.\n",
    "\n",
    "When $\\alpha$ is high, meaning men and women's time in home production are highly complementary, the curve has a steeper downward slope, implying that an increase in women's market wages relative to men's leads to a larger decrease in women's work at home relative to men's. On the other hand, a lower $\\alpha$ value results in a flatter slope for the curve. When $\\sigma$ is high, meaning home production and market work are highly substitutable, the curve has a flatter slope, indicating that an increase in women's market wages relative to men's results in a smaller decrease in women's work at home relative to men's. Conversely, a lower $\\sigma$ value leads to a steeper slope for the curve.\n",
    "\n",
    "Overall, the findings suggest that there is an inequality between home production and women's income relative to men's. However, it is important to note that the time constraint $LM+HM \\leq 24$ and $LF+HF \\leq 24$ was not implemented in the code, which could be problematic since there are only 24 hours in a day. Meaning, time is relative in this model."
   ]
  },
  {
   "attachments": {},
   "cell_type": "markdown",
   "metadata": {},
   "source": [
    "# Question 3"
   ]
  },
  {
   "attachments": {},
   "cell_type": "markdown",
   "metadata": {},
   "source": [
    "Just as in question 2, we want to see the relation between the female and male ratio of wages and ratio of homeproduction. The difference here being, that we now are looking at a continuous model and not a discrete model. This would mean that we first need to code the continuous model before anything else. To start of we will be using the optimize.minimize function from SciPy library. \n",
    "\n",
    "While the brutforce method is a possible approach, it can be very computationally expensive for solving complex models. Therefore it can be impractical and even (as in this case) impossible to calculate. In our case the brutforce method is in too computatioanlly expensive ($84601^4 \\cdot 24$ bytes) and therfore opt to using the scipy.minimize method.\n",
    "\n",
    "To define out continuous model, we can do the follwoing steps:\n",
    "\n",
    "1. Define a new function for the continues model\n",
    "2. Create guesses for $LM, LF, HM$ and $HF$. This is because we need a starting point in the model, for the function to work. This is because we are working with an optimization model, where the pattern search (Nelder-Mead) needs a starting point.\n",
    "3. Define the negative value of the utility function as an objective, to be minimized later.\n",
    "4. Define the maximum and minimum bounds for the model.\n",
    "5. Crete a result through the scipy.optimize method using **the Neldor Mead** method.\n",
    "\n",
    "Now that we have our conitnuous model, we can begin to code an interactive model, which follows the exact same steps as desribed in question 2.\n",
    "\n",
    "Below is code for the continuous model:"
   ]
  },
  {
   "cell_type": "code",
   "execution_count": 5,
   "metadata": {},
   "outputs": [
    {
     "data": {
      "application/vnd.jupyter.widget-view+json": {
       "model_id": "2c436bb6c2cb4320bc3b4169b667c331",
       "version_major": 2,
       "version_minor": 0
      },
      "text/plain": [
       "interactive(children=(Dropdown(description='alpha', options=(0.25, 0.5, 0.75), value=0.25), Dropdown(descripti…"
      ]
     },
     "metadata": {},
     "output_type": "display_data"
    },
    {
     "data": {
      "text/plain": [
       "<function __main__.interactive_plot_2(alpha, sigma)>"
      ]
     },
     "execution_count": 5,
     "metadata": {},
     "output_type": "execute_result"
    }
   ],
   "source": [
    "# Defining a function so the function can be plotted for any value of alpha and sigma, which has been defined\n",
    "def interactive_plot_2(alpha, sigma):\n",
    "    \n",
    "    # Replacing previous values for alpha and sigma with the ones chosen in the interactive model\n",
    "    model.par.alpha = alpha\n",
    "    model.par.sigma = sigma\n",
    "    \n",
    "    # Create lists to store data for each value of wF\n",
    "    log_wF_wM = []\n",
    "    log_HF_HM = []\n",
    "\n",
    "    # Solve the model for the vector of female wages\n",
    "    model.solve_wF_vec()\n",
    "\n",
    "    # Calculate log(wF/wM) and log(HF/HM) for each value of wF\n",
    "    for i, wF in enumerate(model.par.wF_vec):\n",
    "        model.par.wF = wF\n",
    "        model.par.wM = model.par.wM\n",
    "\n",
    "        # We append log(wF/wM) and log(HF/HM) to their corresponding lists\n",
    "        HF_HM = model.sol.HF_vec[i] / model.sol.HM_vec[i]\n",
    "        log_wF_wM.append(np.log(wF / model.par.wM))\n",
    "        log_HF_HM.append(np.log(HF_HM))\n",
    "\n",
    "    # Create a scatter plot with the given data\n",
    "    plt.plot(log_wF_wM, log_HF_HM, marker='s')\n",
    "\n",
    "    # Adding label names and graph title\n",
    "    plt.xlabel('log(wF/wM)')\n",
    "    plt.ylabel('log(HF/HM)')\n",
    "    plt.title('Log HF/HM vs Log wF/wM')\n",
    "\n",
    "    # Adding gridlines\n",
    "    plt.grid()\n",
    "    plt.show()\n",
    "    plt.clf()\n",
    "\n",
    "# Creating the interactive model\n",
    "interact(interactive_plot_2, alpha=alpha_values, sigma=sigma_values)"
   ]
  },
  {
   "attachments": {},
   "cell_type": "markdown",
   "metadata": {},
   "source": [
    "As seen in the previous task, an interactive figure is shown above, where the values for $\\sigma$ and $\\alpha$ can be changed to the given values, of which you can see the effects. A downward trend is seen again, where the higher log $\\frac{w_F}{w_M}$, the lower log $\\frac{H_F}{H_M}$ become. However, a stronger correlation is seen than in the previous task, as the points are much closer to the correlation line when changing the variables of $\\sigma$ and $\\alpha$. Again, we can conclude that there is an inequality between home production and women's income relative to men seen in this model."
   ]
  },
  {
   "attachments": {},
   "cell_type": "markdown",
   "metadata": {},
   "source": [
    "# Question 4"
   ]
  },
  {
   "attachments": {},
   "cell_type": "markdown",
   "metadata": {},
   "source": [
    "In this task, we must find the values of $\\alpha$ and $\\sigma$ which minimize the above expression. To solve this, we use an estimate method which firstly, defines an objective function that takes a parameter vector q as input that is a parameter vector and represents alpha and sigma. Next, we use the solve_wF_vec() method to solve the model for the vector of female wage using the updated alpha and sigma values and perform a regression analysis and calculate the estimates beta0 and beta1 by using the run_regression() method. Then the objective function calculates the squared difference between the target values par.beta0_target and par.beta1_target and the estimated values sol.beta0 and sol.beta1. Because is time cosuming we narrow down the intevral for $\\alpha$ and $\\sigma$ by restrict the values. We then use the the optimize.minimize function to minimize the objective function using the Nelder-Mead method and finally print out the The estimated values of beta0, beta1, alpha and sigma"
   ]
  },
  {
   "cell_type": "code",
   "execution_count": 6,
   "metadata": {},
   "outputs": [
    {
     "name": "stdout",
     "output_type": "stream",
     "text": [
      "Hereby: \n",
      " Beta0_hat =0.40 \n",
      " Beta1_hat =-0.10\n",
      "Hereby: \n",
      " alpha = 0.98 \n",
      " sigma = 0.10\n"
     ]
    }
   ],
   "source": [
    "model.estimate()"
   ]
  },
  {
   "attachments": {},
   "cell_type": "markdown",
   "metadata": {},
   "source": [
    "We find that the Beta values should be respectively Beta0_hat = 0.40 and Beta1_hat = -0.10 which gives us the parameter values alpha = 0.98 sigma = 0.10. If we interpretate the result, we can see that there is a relatively low elasticity of substitution between male and female labor inputs implying that male and female labor inputs are less substitutable and therefore heavily specific on gender-based role. Other than that, the productivity in home production for females is estimated to be significantly higher than that of males, with females being approximately 49 times more productive in home production activities if we calculate the expression for productivity in home production. "
   ]
  },
  {
   "attachments": {},
   "cell_type": "markdown",
   "metadata": {},
   "source": [
    "## Question 5"
   ]
  },
  {
   "attachments": {},
   "cell_type": "markdown",
   "metadata": {},
   "source": [
    "The `calc_utility_extension` method extends the original `calc_utility` method by incorporating additional economic factors into the utility calculation. It introduces savings, investments, and individual market incomes to provide a more comprehensive analysis of the household specialization model.\n",
    "\n",
    "The saving and investment rates being used in this model is based on the latest (fourth quarter of 2022) household saving and investment rate in the euro area and can be find here: https://ec.europa.eu/eurostat/statistics-explained/index.php?title=Quarterly_sector_accounts_-_households\n",
    "\n",
    "The saving and investment rates we use are not equal and often isn't in real life contrary to general economic theory due to various factors such as government policies, economic conditions, international trading, and people's preferences. However, this assumption is often made for the sake of simplicity and analytical convenience as found in the loanable funds model where the supply of loanable funds (known as savings) equals the demand for loanable funds (known as investment).\n",
    "\n",
    "$$\\text{utility} = \\left(C^{\\omega} \\cdot H^{1-\\omega}\\right)^{\\frac{1-\\rho}{1}} - \\nu \\left(T_{M}^{\\epsilon'} + T_{F}^{\\epsilon'}\\right)$$\n",
    "\n",
    "where:\n",
    "- \\(C\\) represents the consumption of market goods,\n",
    "- \\(H\\) represents home production,\n",
    "- \\(\\omega\\) and \\(\\rho\\) are parameters for the utility function,\n",
    "- \\(\\nu\\) represents the disutility factor,\n",
    "- \\(T_{M}\\) and \\(T_{F}\\) are the total time spent on male and female work, respectively,\n",
    "- \\(\\epsilon'\\) is the disutility exponent.\n",
    "\n",
    "By considering savings, investments, and individual market incomes, the `calc_utility_extension` method provides a more comprehensive understanding of the utility in the household specialization model."
   ]
  },
  {
   "cell_type": "code",
   "execution_count": 18,
   "metadata": {},
   "outputs": [
    {
     "name": "stdout",
     "output_type": "stream",
     "text": [
      "Utility Comparison:\n",
      "Utility (Original): -0.3165\n",
      "Utility (New): -0.3018\n"
     ]
    }
   ],
   "source": [
    "# Define the input values\n",
    "LM = 10\n",
    "HM = 5\n",
    "LF = 3\n",
    "HF = 2\n",
    "\n",
    "# Calculate utility using the original method\n",
    "utility_old = model.calc_utility(LM, HM, LF, HF)\n",
    "\n",
    "# Calculate utility using the new method\n",
    "utility_new = model.calc_utility_extension(LM, HM, LF, HF)\n",
    "\n",
    "# Print out values\n",
    "print(\"Utility Comparison:\")\n",
    "print(f\"Utility (Original): {utility_old:.4f}\")\n",
    "print(f\"Utility (New): {utility_new:.4f}\")"
   ]
  },
  {
   "attachments": {},
   "cell_type": "markdown",
   "metadata": {},
   "source": [
    "We use the assumption that men and women are equally productive in home production (α = 0.5) and can now compare the utilities between the original model and the modified model with this assumption. Comparing the utilities, we observe that the utility in the modified model (α = 0.5) is slightly higher (-0.3018) compared to the utility in the original model (-0.3165). That means that the suggested extension of the model with the assumption of equal productivity in home production for men and women (α = 0.5) aligns slightly better with the empirical evidence. "
   ]
  }
 ],
 "metadata": {
  "kernelspec": {
   "display_name": "base",
   "language": "python",
   "name": "python3"
  },
  "language_info": {
   "codemirror_mode": {
    "name": "ipython",
    "version": 3
   },
   "file_extension": ".py",
   "mimetype": "text/x-python",
   "name": "python",
   "nbconvert_exporter": "python",
   "pygments_lexer": "ipython3",
   "version": "3.10.11"
  },
  "toc-autonumbering": true,
  "vscode": {
   "interpreter": {
    "hash": "4543e2aa0819e4f60e86b01a02126c3618419736fe7742cba2614170705ea383"
   }
  }
 },
 "nbformat": 4,
 "nbformat_minor": 4
}
