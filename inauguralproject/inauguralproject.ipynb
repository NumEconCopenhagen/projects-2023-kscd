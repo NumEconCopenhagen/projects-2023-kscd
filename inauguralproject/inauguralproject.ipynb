{
 "cells": [
  {
   "cell_type": "markdown",
   "metadata": {},
   "source": [
    "# Inaugural Project"
   ]
  },
  {
   "attachments": {},
   "cell_type": "markdown",
   "metadata": {},
   "source": [
    "To start of we will import all libraries needed for the project. Furthermore we will import the economic model given from the lectures, though with one change. The change being that model defining $H$ has been defined as an if statement containing all functions for home productions compared to the orginal file where it was only defined for when $\\sigma = 1$. (The change is on line 55)\n",
    "\n",
    "Code below is nonexecutable code that shows what the code from line 55 in **HouseholdSpecializationModel.py**' has been changed from and to:\n",
    "\n",
    ">**Before**\n",
    "``` python\n",
    "# b. home production\n",
    "if par.sigma == 1:\n",
    "    H = HM**(1-par.alpha)*HF**par.alpha\n",
    "```\n",
    "\n",
    "> **After**\n",
    "\n",
    "```python\n",
    "# b. home production\n",
    "if par.sigma == 1:\n",
    "    H = HM**(1-par.alpha)*HF**par.alpha\n",
    "elif par.sigma == 0:\n",
    "    H = np.minimum(HM,HF)\n",
    "# We check if we divide by zero\n",
    "elif HM == 0 or HF == 0:\n",
    "    H = 0\n",
    "else:\n",
    "    H = (\n",
    "        (1-par.alpha)*HM**((par.sigma-1)/par.sigma)\n",
    "        +par.alpha*HF**((par.sigma-1)/par.sigma))\n",
    "        **((par.sigma/(par.sigma-1))\n",
    "          )\n",
    "```"
   ]
  },
  {
   "cell_type": "code",
   "execution_count": null,
   "metadata": {},
   "outputs": [],
   "source": [
    "# To clear all Variables already defined\n",
    "%reset -f\n",
    "\n",
    "# Importing relevant libraries for mathematical calculations and data visulization\n",
    "import numpy as np\n",
    "from matplotlib import pyplot as plt\n",
    "\n",
    "# Importing code for economic model\n",
    "import HouseholdSpecializationModel as model\n",
    "\n",
    "# Defining model as 'HouseholdSpecializationModelClass'\n",
    "model = model.HouseholdSpecializationModelClass()"
   ]
  },
  {
   "attachments": {},
   "cell_type": "markdown",
   "metadata": {},
   "source": [
    "## Question 1"
   ]
  },
  {
   "attachments": {},
   "cell_type": "markdown",
   "metadata": {},
   "source": [
    "We want to see how different values for $\\alpha$ and $\\sigma$ effect the home production ratio between male and female, therefore it would make sense to graph this, so we have a visual image of how the ratio changes based on changes to $\\alpha$ and/or $\\sigma$. There are two ways to display this, one way would be to display this as a graph with 3 axes and another would be to display this as a line graph with 2 axes, where different lines represent different values of $\\alpha$. In this case we choose to do the latter.\n",
    "\n",
    "To do this, we can do the following steps:\n",
    "\n",
    "1. Define 2 lists for each value of $\\alpha$ and $\\sigma$, and also define 2 empty lists for $H_M$ and $H_M$. \n",
    "2. Creating a for loop to solve the function for each value of $\\alpha$ and $\\sigma$, and storing it into the before mentioned empty lists.\n",
    "3. Define a function to calculate the ratio of $\\frac{H_F}{H_M}$.\n",
    "4. Reshape the results into a matrix for $\\frac{H_F}{H_M}$.\n",
    "5. Create a for loop to calculate for each comination of $\\alpha$ and $\\sigma$.\n",
    "6. Plot everything as line graph, where each line represents a value for $\\alpha$. Here the x-axis will be $\\sigma$ and the y-axis the $\\frac{H_F}{H_M}$ ratio."
   ]
  },
  {
   "cell_type": "code",
   "execution_count": null,
   "metadata": {},
   "outputs": [],
   "source": [
    "# Defining values for alpha and sigma\n",
    "alpha_values = [0.25, 0.5, 0.75]\n",
    "sigma_values = [0.5, 1.0, 1.5]\n",
    "\n",
    "# Creating empty lists for HF values and HM values\n",
    "HF_values = []\n",
    "HM_values = []\n",
    "\n",
    "# Creating empty lists for HF/HM ratio\n",
    "HF_HM_ratio = []\n",
    "\n",
    "# Prining values \n",
    "for alpha in alpha_values:\n",
    "    for sigma in sigma_values:\n",
    "        model.par.alpha = alpha\n",
    "        model.par.sigma = sigma\n",
    "\n",
    "        # Solving the model\n",
    "        result = model.solve_discrete()\n",
    "\n",
    "        # Appending values to list for HF and HM\n",
    "        HF_values.append(result.HF)\n",
    "        HM_values.append(result.HM)\n",
    "        \n",
    "        # Appending HF/HM ratio to the list\n",
    "        HF_HM_ratio.append(result.HF/result.HM)\n",
    "\n",
    "# Reshaping the HF/HM ratio list into a matrix\n",
    "HF_HM_ratio = np.array(HF_HM_ratio).reshape((len(alpha_values), len(sigma_values)))\n",
    "\n",
    "# Printing tuples (We have the code here, incase we need to see the values)\n",
    "#print(\"HF values:\", tuple(HF_values))\n",
    "#print(\"HM values:\", tuple(HM_values))\n",
    "\n",
    "# Line plot for each value of alpha\n",
    "for i, alpha in enumerate(alpha_values):\n",
    "    plt.plot(sigma_values, HF_HM_ratio[i,:], label=f'alpha = {alpha}')\n",
    "    \n",
    "# Adding label names and graph titel\n",
    "plt.xlabel('sigma')\n",
    "plt.ylabel('HF/HM')\n",
    "plt.title('HF/HM ratio, for each value of sigma and alpha')\n",
    "\n",
    "# Adding a legends\n",
    "plt.legend()\n",
    "\n",
    "# Adding gridlines\n",
    "plt.grid()\n",
    "\n",
    "# Show the plot\n",
    "plt.show()\n",
    "\n",
    "# Printing HF/HM ratio (We have the code here, incase we need to see the values)\n",
    "#print(HF_HM_ratio)"
   ]
  },
  {
   "attachments": {},
   "cell_type": "markdown",
   "metadata": {},
   "source": [
    "## Question 2"
   ]
  },
  {
   "attachments": {},
   "cell_type": "markdown",
   "metadata": {},
   "source": [
    "We want to see what kind of correlation there is between the female and male ratio of wages and the ratio between them in homeproduction. Here male wages are helt constant and female wages are varying. "
   ]
  },
  {
   "cell_type": "code",
   "execution_count": null,
   "metadata": {},
   "outputs": [],
   "source": [
    "# Importing ipywidgets for creating an interactive model\n",
    "from ipywidgets import interact, fixed\n",
    "\n",
    "# Defining given values for wF and wM\n",
    "wF_values = [0.8, 0.9, 1.0, 1.1, 1.2]\n",
    "wM = 1.0\n",
    "\n",
    "# Defining a function so the function can be plottet for any value of alpha and sigma, which has been defined\n",
    "def interactive_plot(alpha, sigma):\n",
    "\n",
    "    # Replacing previous values for alpha and sigma with the ones chosen in the interactive model\n",
    "    model.par.alpha = alpha\n",
    "    model.par.sigma = sigma\n",
    "    \n",
    "    # Creating empty lists for log(wF/wM) and log(HF/HM)\n",
    "    log_wF_wM = []\n",
    "    log_HF_HM = []\n",
    "\n",
    "    # Calculate log(wF/wM) and log(HF/HM) for each value of wF\n",
    "    for wF in wF_values:\n",
    "        model.par.wF = wF\n",
    "        model.par.wM = wM\n",
    "\n",
    "        # Solving the model\n",
    "        result = model.solve_discrete()\n",
    "\n",
    "        # We append log(wF/wM) and log(HF/HM) to their corresponding lists\n",
    "        log_wF_wM.append(np.log(wF/wM))\n",
    "        log_HF_HM.append(np.log(result.HF/result.HM))\n",
    "\n",
    "    # Plot log(HF/HM) against log(wF/wM) with square dots and a line that goes through the dots\n",
    "    plt.plot(log_wF_wM, log_HF_HM, 's-')\n",
    "\n",
    "    # Adding label names and graph titel\n",
    "    plt.xlabel('log(wF/wM)')\n",
    "    plt.ylabel('log(HF/HM)')\n",
    "    plt.title('Log HF/HM vs Log wF/wM')\n",
    "\n",
    "    # Adding gridlines\n",
    "    plt.grid()\n",
    "\n",
    "    # Displaying the plot\n",
    "    plt.show()\n",
    "\n",
    "# Creating the interactive model\n",
    "interact(interactive_plot, alpha=alpha_values, sigma=sigma_values)"
   ]
  },
  {
   "cell_type": "markdown",
   "metadata": {},
   "source": [
    "# Question 3"
   ]
  },
  {
   "cell_type": "markdown",
   "metadata": {},
   "source": [
    "Explain your code and procedure"
   ]
  },
  {
   "cell_type": "markdown",
   "metadata": {},
   "source": [
    "ADD CONCISE CONLUSION."
   ]
  }
 ],
 "metadata": {
  "kernelspec": {
   "display_name": "base",
   "language": "python",
   "name": "python3"
  },
  "language_info": {
   "codemirror_mode": {
    "name": "ipython",
    "version": 3
   },
   "file_extension": ".py",
   "mimetype": "text/x-python",
   "name": "python",
   "nbconvert_exporter": "python",
   "pygments_lexer": "ipython3",
   "version": "3.9.16"
  },
  "toc-autonumbering": true,
  "vscode": {
   "interpreter": {
    "hash": "47ef90cdf3004d3f859f1fb202523c65c07ba7c22eefd261b181f4744e2d0403"
   }
  }
 },
 "nbformat": 4,
 "nbformat_minor": 4
}
