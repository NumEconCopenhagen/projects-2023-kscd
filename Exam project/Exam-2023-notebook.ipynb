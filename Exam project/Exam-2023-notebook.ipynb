{
 "cells": [
  {
   "attachments": {},
   "cell_type": "markdown",
   "metadata": {},
   "source": [
    "# Exam Project 2023\n",
    "---"
   ]
  },
  {
   "attachments": {},
   "cell_type": "markdown",
   "metadata": {},
   "source": [
    "In this project, we will explore three distinct problems related to economics and optimization. Each problem presents a unique challenge and requires analytical thinking, problem-solving skills, and a deep understanding of the underlying concepts."
   ]
  },
  {
   "attachments": {},
   "cell_type": "markdown",
   "metadata": {},
   "source": [
    "**Table of contents**<a id='toc0_'></a>    \n",
    "- 1. [Problem 1: Optimal taxation with government consumption](#toc1_)    \n",
    "- 2. [Problem 2: Labor adjustment costs](#toc2_)    \n",
    "- 3. [Problem 3: Global optimizer with refined multi-start](#toc3_)    \n",
    "\n",
    "<!-- vscode-jupyter-toc-config\n",
    "\tnumbering=true\n",
    "\tanchor=true\n",
    "\tflat=false\n",
    "\tminLevel=2\n",
    "\tmaxLevel=6\n",
    "\t/vscode-jupyter-toc-config -->\n",
    "<!-- THIS CELL WILL BE REPLACED ON TOC UPDATE. DO NOT WRITE YOUR TEXT IN THIS CELL -->"
   ]
  },
  {
   "attachments": {},
   "cell_type": "markdown",
   "metadata": {},
   "source": [
    "## Necessities\n",
    "The following are all the necessary libraries and imports needed for calculations and data visualization."
   ]
  },
  {
   "cell_type": "code",
   "execution_count": null,
   "metadata": {},
   "outputs": [],
   "source": [
    "# Mathematical computation and symbol calculations\n",
    "import sympy as sp\n",
    "import numpy as np\n",
    "\n",
    "# Plotting figures and graphs\n",
    "import matplotlib.pyplot as plt\n",
    "\n",
    "# Optimization\n",
    "from scipy.optimize import minimize_scalar, fsolve\n",
    "from scipy.optimize import minimize"
   ]
  },
  {
   "attachments": {},
   "cell_type": "markdown",
   "metadata": {},
   "source": [
    "## <a id='toc1_'></a>[Problem 1: Optimal taxation with government consumption](#toc0_)"
   ]
  },
  {
   "attachments": {},
   "cell_type": "markdown",
   "metadata": {},
   "source": [
    "\n",
    "Consider a worker choosing hours of labor, $L\\in[0,24]$, to maximize utility: \n",
    "\n",
    "$$\n",
    "\\begin{align*}\n",
    "V(w,\\tau,G)&=\\max_{L\\in[0,24]}\\ln\\left(C^{\\alpha}G^{1-\\alpha}\\right)-\\nu\\frac{L^{2}}{2}\\\\&\\text{s.t.}\\\\&C=\\kappa+(1-\\tau)wL\n",
    "\\end{align*}\n",
    "$$\n",
    "\n",
    "where \n",
    "\n",
    "* $C$ is *private* consumption with weight $\\alpha\\in(0,1)$.\n",
    "* $\\kappa > 0$ is the *free private* consumption component.\n",
    "* $C = (1-\\tau)wL$ is the *costly private* consumption component.\n",
    "* $w > 0 $ is the real wage.\n",
    "* $\\tau \\in (0,1)$ is the labor-income tax rate.\n",
    "* $G > 0 $ is *government* consumption with weight $1-\\alpha$.\n",
    "* $\\nu > 0$ is the disutility of labor scaling factor"
   ]
  },
  {
   "attachments": {},
   "cell_type": "markdown",
   "metadata": {},
   "source": [
    "\n",
    "The baseline parameters are:\n",
    "\n",
    "$$\n",
    "\\begin{align*}\n",
    "\\alpha &= 0.5\\\\\n",
    "\\kappa &= 1.0\\\\\n",
    "\\nu &= \\frac{1}{2\\cdot16^2} \\\\\n",
    "w &= 1.0 \\\\ \n",
    "\\tau &= 0.30 \\\\\n",
    "\\end{align*}\n",
    "$$"
   ]
  },
  {
   "attachments": {},
   "cell_type": "markdown",
   "metadata": {},
   "source": [
    "**Question 1:** Verify that the optimal labor supply choice is $L^{\\star}(\\tilde{w}) =\\frac{-\\kappa+\\sqrt{\\kappa^{2}+4\\frac{\\alpha}{\\nu}\\tilde{w}^2}}{2\\tilde{w}}$, where $\\tilde{w} = (1-\\tau)w$, for $G\\in\\left\\{1.0 , 2.0\\right\\}$."
   ]
  },
  {
   "attachments": {},
   "cell_type": "markdown",
   "metadata": {},
   "source": [
    "We would like to verify that the optimal labor supply choice is as given, which we do by first defining our baseline parameters and utility function. We then find the derivative of the utility function and set it equal to zero by using $sympy$ which has been imported. Finally, $L$ is being isolated, and the expression is simplified."
   ]
  },
  {
   "cell_type": "code",
   "execution_count": null,
   "metadata": {},
   "outputs": [],
   "source": [
    "# Define the symbols\n",
    "L, alpha, kappa, nu, w, tau, G = sp.symbols('L alpha kappa nu w tau G')\n",
    "\n",
    "# Define the utility function\n",
    "C = kappa + (1 - tau) * w * L\n",
    "utility = sp.log(C**alpha * G**(1-alpha)) - nu * L**2 / 2\n",
    "\n",
    "# Calculate the derivative of the utility function with respect to L\n",
    "d_utility = sp.diff(utility, L)\n",
    "\n",
    "# Solve for L that makes the derivative equal to zero\n",
    "optimal_L = sp.solve(d_utility, L)\n",
    "\n",
    "# Simplify the expression for the optimal labor supply choice\n",
    "optimal_L = sp.simplify(optimal_L[0])\n",
    "\n",
    "# Display the optimal labor supply choice\n",
    "print('The optimal labor supply choice is defined as follows:')\n",
    "optimal_L"
   ]
  },
  {
   "attachments": {},
   "cell_type": "markdown",
   "metadata": {},
   "source": [
    "---"
   ]
  },
  {
   "attachments": {},
   "cell_type": "markdown",
   "metadata": {},
   "source": [
    "**Question 2:** Illustrate how $L^{\\star}(\\tilde{w})$ depends on $w$."
   ]
  },
  {
   "attachments": {},
   "cell_type": "markdown",
   "metadata": {},
   "source": [
    "We want to illustrate how $L^{\\star}(\\tilde{w})$ depends on $w$, which we can do by first defining our baseline parameters and the range for w values. Next, we can calculate the labor supply for each value of $w$ where we make a list called “optimal_L_values” by iterating over the elements in the “w_values” list and applying substitutions to the symbol “optimal_L” using the given baseline parameters. $L^{\\star}$ and $w$ can be plotted into a figure so that the relationship between them can be illustrated."
   ]
  },
  {
   "cell_type": "code",
   "execution_count": null,
   "metadata": {},
   "outputs": [],
   "source": [
    "# Define our baseline parameter values\n",
    "alpha_val = 0.5\n",
    "kappa_val = 1.0\n",
    "nu_val = 1 / (2 * 16**2)\n",
    "tau_val = 0.30\n",
    "G_val = 1.0\n",
    "\n",
    "# Define the range for w values\n",
    "w_values = np.linspace(0.1, 2.0, 100)\n",
    "\n",
    "# Calculate the labor supply for each value of w\n",
    "optimal_L_values = [optimal_L.subs([\n",
    "    (alpha, alpha_val),\n",
    "    (kappa, kappa_val),\n",
    "    (nu, nu_val),\n",
    "    (tau, tau_val),\n",
    "    (G, G_val),\n",
    "    (w, w_val)]) \n",
    "    \n",
    "    for w_val in w_values]\n",
    "\n",
    "# Plot the relationship between L* and w\n",
    "plt.plot(w_values, optimal_L_values)\n",
    "plt.xlabel('w')\n",
    "plt.ylabel('L*')\n",
    "plt.title('Optimal Labor Supply as a Function of w')\n",
    "plt.grid(True)\n",
    "plt.show()"
   ]
  },
  {
   "attachments": {},
   "cell_type": "markdown",
   "metadata": {},
   "source": [
    "The above figure shows the relationship between optimal labor supply choice $L^{\\star}$ and the real wage $w$, where we can see that a small increase in the real wage gives a large increase in $L^{\\star}$, but that this increase flattens out around $w≈0.4$. In other words, this means that in the beginning where there was a low real wage, there is a greater incentive to work more with small increases in the real wage, but that this increased utility later gradually diminishes due to the law of diminishing marginal utility. We can also see this from the slope of the curve, which is initially very high, but later flattens out and becomes lower.\n",
    "\n",
    "---"
   ]
  },
  {
   "attachments": {},
   "cell_type": "markdown",
   "metadata": {},
   "source": [
    "\n",
    "We now consider a government, who chooses $\\tau$ and spend all of the taxes on government consumption so:\n",
    "\n",
    "$$\n",
    "G = \\tau w L^{\\star}((1-\\tau)w)\n",
    "$$\n",
    "\n",
    "**Question 3:** Plot the implied $L$, $G$ and worker utility for a grid of $\\tau$-values.\n"
   ]
  },
  {
   "attachments": {},
   "cell_type": "markdown",
   "metadata": {},
   "source": [
    "We now want to visualize the optimal labor supply, government consumption, and worker utility for different values of tau using our given baseline parameters and expressions. Firstly we will define a range of values for tau using the “np.linspace” function. The tau_values list will contain 100 equally spaced values between 0.1 and 0.9. Then we initialize three empty lists to store the implied values and set the baseline value of $w=1.0$. Next, we iterate over each tau_val in the tau_values list and the optimal labor supply is being calculated for each tau_val. Government consumption and worker utility is being calculated based on the given parameters. After the loop, the values of L_values, G_values, and utility_values is being plot against the tau_values on three separate subplots. "
   ]
  },
  {
   "cell_type": "code",
   "execution_count": null,
   "metadata": {},
   "outputs": [],
   "source": [
    "# Define the range for tau values\n",
    "tau_values = np.linspace(0.1, 0.9, 100)\n",
    "\n",
    "# Initialize arrays to store the implied values\n",
    "L_values = []\n",
    "G_values = []\n",
    "utility_values = []\n",
    "\n",
    "# Set the baseline value of w\n",
    "w_val = 1.0\n",
    "\n",
    "# Calculate the implied values for each tau value\n",
    "for tau_val in tau_values:\n",
    "    # Calculate optimal labor supply (L)\n",
    "    L_val = optimal_L.subs([\n",
    "        (alpha, alpha_val),\n",
    "        (kappa, kappa_val),\n",
    "        (nu, nu_val),\n",
    "        (tau, tau_val),\n",
    "        (G, G_val),\n",
    "        (w, (1 - tau_val) * w_val)])\n",
    "        \n",
    "    L_values.append(float(L_val))\n",
    "\n",
    "    # Calculate government consumption (G)\n",
    "    G_val = tau_val * w_val * L_val.subs(w, (1 - tau_val) * w_val)\n",
    "    G_values.append(float(G_val))\n",
    "\n",
    "    # Calculate worker utility\n",
    "    utility_val = utility.subs([\n",
    "        (alpha, alpha_val),\n",
    "        (kappa, kappa_val),\n",
    "        (nu, nu_val),\n",
    "        (tau, tau_val),\n",
    "        (G, G_val),\n",
    "        (w, (1 - tau_val) * w_val),\n",
    "        (L, L_val)])\n",
    "    \n",
    "    utility_values.append(float(utility_val))\n",
    "\n",
    "# Plot the implied values of L, G, and utility for the grid of tau values\n",
    "plt.figure(figsize=(12, 4))\n",
    "\n",
    "# Plot optimal labor supply (L)\n",
    "plt.subplot(1, 3, 1)\n",
    "plt.plot(tau_values, L_values)\n",
    "plt.xlabel('tau')\n",
    "plt.ylabel('L')\n",
    "plt.grid(True)\n",
    "plt.title('Optimal Labor Supply')\n",
    "\n",
    "# Plot government consumption (G)\n",
    "plt.subplot(1, 3, 2)\n",
    "plt.plot(tau_values, G_values)\n",
    "plt.xlabel('tau')\n",
    "plt.ylabel('G')\n",
    "plt.grid(True)\n",
    "plt.title('Government Consumption')\n",
    "\n",
    "# Plot worker utility\n",
    "plt.subplot(1, 3, 3)\n",
    "plt.plot(tau_values, utility_values)\n",
    "plt.xlabel('tau')\n",
    "plt.ylabel('Utility')\n",
    "plt.grid(True)\n",
    "plt.title('Worker Utility')\n",
    "\n",
    "plt.tight_layout()\n",
    "plt.show()"
   ]
  },
  {
   "attachments": {},
   "cell_type": "markdown",
   "metadata": {},
   "source": [
    "On the figure \"Optimal Labor Supply\" we can see that a higher tax causes the number of hours worked to fall. This decline happens more slowly at first, where the curve is slightly declining, but gradually becomes steeper the higher the tax starts to rise. This decline is due to two mechanisms - namely the income and substitution effects. The income effect says that when taxes increase, one's disposable income will decrease, which can lower the incentive to work more since the workers will have less financial gain from additional labor. In addition, the substitution effect is also seen, where the lower disposable income causes the opportunity cost of leisure time to flatten relative to the wage earned from work.  \n",
    "\n",
    "On the \"Government Consumption\" figure, we first see consumption increase when the tax increases, as more money comes in for consumption through the tax, but that this then at some point begins to fall sharply, as the effect of the number of hours worked then decreases quickly dominate, that the government consumption continues to fall even if the tax increases, due to the income and substitution effects of a higher tax.\n",
    "\n",
    "Finally, we have the last figure \"Worker utility\", where it can be seen that the utility initially increases when the tax increases due to the positive effects of higher tax dominating such as funding public goods and services, but then you reach a point, where the negative effects of higher taxes on utility start to dominate, which is seen when utility then starts to fall that can be seen to be around $\\tau=0.3$. \n",
    "\n",
    "---"
   ]
  },
  {
   "attachments": {},
   "cell_type": "markdown",
   "metadata": {},
   "source": [
    "**Question 4:** Find the socially optimal tax rate $\\tau^{\\star}\\in(0,1)$ maximizing worker utility. Illustrate your result."
   ]
  },
  {
   "attachments": {},
   "cell_type": "markdown",
   "metadata": {},
   "source": [
    "We now want to find the socially optimal tax rate that maximizes the worker utility. We can do that by first defining an objective function called objective(tau) that calculates the negative of utility. In this objective function we calculate tilde_w, the optimal labor supply choice L_star, consumption C, government consumption G, and utility. Then we use the \"minimize_scalar\" function to find the tax rate that maximizes utility. Then we print the socially optimal tax rate and the corresponding utility value and finally plots the utility as a function of the tax rate."
   ]
  },
  {
   "cell_type": "code",
   "execution_count": null,
   "metadata": {},
   "outputs": [],
   "source": [
    "# Define the objective function to maximize (negative of utility)\n",
    "def objective(tau):\n",
    "    # Calculate tilde_w\n",
    "    tilde_w = (1 - tau) * w_val\n",
    "\n",
    "    # Calculate the corresponding optimal labor supply choice\n",
    "    L_star = (-kappa_val + np.sqrt(kappa_val**2 + 4 * alpha_val / nu_val * tilde_w**2)) / (2 * tilde_w)\n",
    "\n",
    "    # Calculate C\n",
    "    C = kappa_val + (1 - tau) * w_val * L_star\n",
    "\n",
    "    # Calculate G\n",
    "    G = tau * w_val * L_star\n",
    "\n",
    "    # Calculate utility (negative of utility to maximize)\n",
    "    utility = np.log(C**alpha_val * G**(1 - alpha_val)) - nu_val * L_star**2 / 2\n",
    "\n",
    "    return -utility\n",
    "\n",
    "# Find the optimal tax rate that maximizes utility\n",
    "result = minimize_scalar(objective, bounds=(0.0, 1.0), method='bounded')\n",
    "tau_star = result.x\n",
    "utility_star = -result.fun\n",
    "\n",
    "# Print the socially optimal tax rate and the corresponding utility\n",
    "print(f\"Socially optimal tax rate (tau_star): {tau_star:.3f}\")\n",
    "print(f\"Corresponding utility (utility_star): {utility_star:.3f}\")\n",
    "\n",
    "# Plot the utility as a function of tau\n",
    "tau_values = np.linspace(0.0, 1.0, 100)\n",
    "utility_values = [-objective(tau) for tau in tau_values]\n",
    "\n",
    "plt.plot(tau_values, utility_values)\n",
    "plt.xlabel('tau')\n",
    "plt.ylabel('Utility')\n",
    "plt.title('Worker Utility')\n",
    "plt.grid(True)\n",
    "plt.show()"
   ]
  },
  {
   "attachments": {},
   "cell_type": "markdown",
   "metadata": {},
   "source": [
    "It can be seen that the utility gradually increases as the tax increases, where it falls again when the tax becomes too high. We find that the top point is when the tax rate is 0.515, which gives a utility of 1.859.\n",
    "\n",
    "---"
   ]
  },
  {
   "attachments": {},
   "cell_type": "markdown",
   "metadata": {},
   "source": [
    "A more general preference formulation for the worker is:\n",
    "\n",
    "$$\n",
    "\\begin{align*}\n",
    "\\mathcal{V}(w,\\tau,G)&=\\max_{L\\in[0,24]}\\frac{\\left[ \\left( \\alpha C^{\\frac{\\sigma-1}{\\sigma}}+(1-\\alpha) G^{\\frac{\\sigma-1}{\\sigma}} \\right)^{\\frac{\\sigma}{1-\\sigma} }\\right]^{1-\\rho}-1}{1-\\rho}- \\nu\\frac{L^{1+\\varepsilon}}{1+\\varepsilon},\\,\\,\\,\\varepsilon,\\rho,\\sigma>0,\\,\\,\\,\\rho,\\sigma\\neq1\\\\&\\text{s.t.}\\\\&C=\\kappa+(1-\\tau)wL\n",
    "\\end{align*}    \n",
    "$$\n",
    "\n",
    "Optimal labor supply is now $L^{\\star}(\\tilde{w},G)$."
   ]
  },
  {
   "attachments": {},
   "cell_type": "markdown",
   "metadata": {},
   "source": [
    "Questions 5 and 6 must be answered with the general formulation, and for 2 different set of parameters:\n",
    "\n",
    "- Set 1:  $\\sigma = 1.001$, $\\rho = 1.001$ and $\\varepsilon = 1.0$.\n",
    "- Set 2:  $\\sigma = 1.5$, $\\rho = 1.5$ and $\\varepsilon = 1.0 $."
   ]
  },
  {
   "attachments": {},
   "cell_type": "markdown",
   "metadata": {},
   "source": [
    "**Question 5:** Find the $G$ that solves $G = \\tau w L^{\\star}((1-\\tau)w,G)$ using the $\\tau$ found in question 4.\n",
    "\n",
    "*Hint: First write code that solves the worker problem for given values of $G$ and $\\tau$. Then find the correct G based on this.*"
   ]
  },
  {
   "attachments": {},
   "cell_type": "markdown",
   "metadata": {},
   "source": [
    "We want to find the G which solves the given expression by using the optimal tax rate we found in the previous task. We start by defining a function called worker_problem where we also define the utility function, the equation to solve for optimal labor supply and the derivative of the utility function. We then use the fsolve function to solve for the optimal labor supply. Here we calculate the left-hand side (lhs) and the right-hand side (rhs) of an equation that relates government consumption and tax rate. Then define the parameters for Set 1 and 2 respectively and then redefine the baseline parameters. Finally, the fsolve function is being used to solve for the value of government consumption using the parameters from Set 1 and Set 2, respectively."
   ]
  },
  {
   "cell_type": "code",
   "execution_count": null,
   "metadata": {},
   "outputs": [],
   "source": [
    "# Define the worker problem function\n",
    "def worker_problem(G, tau, w, kappa, alpha, nu, sigma, rho, epsilon):\n",
    "    # Calculate the effective wage\n",
    "    w_tilde = (1 - tau) * w\n",
    "    \n",
    "    # Define the utility function\n",
    "    def utility(L):\n",
    "        C = kappa + (1 - tau) * w * L\n",
    "        return (((alpha * C**((sigma-1)/sigma) + (1-alpha) * G**((sigma-1)/sigma))**(sigma/(1-sigma)))**(1-rho) - 1) / (1 - rho) - nu * L**(1 + epsilon) / (1 + epsilon)\n",
    "    \n",
    "    # Define the equation to solve for optimal labor supply\n",
    "    def equation(L):\n",
    "        return utility(L) - utility_derivative(L)\n",
    "    \n",
    "    # Define the derivative of the utility function\n",
    "    def utility_derivative(L):\n",
    "        C = kappa + (1 - tau) * w * L\n",
    "        return (1 - alpha) * G**((sigma-1)/sigma) * (alpha * C**((sigma-1)/sigma) + (1-alpha) * G**((sigma-1)/sigma))**(sigma/(1-sigma) - 1) * (sigma/(1-sigma)) * (C**((sigma-1)/sigma - 1)) * (1 - tau) * w\n",
    "    \n",
    "    # Solve for optimal labor supply\n",
    "    L_opt = fsolve(equation, 1)[0]\n",
    "    \n",
    "    # Calculate the left-hand side of the equation\n",
    "    lhs = G\n",
    "    \n",
    "    # Calculate the right-hand side of the equation\n",
    "    rhs = tau * w_tilde * L_opt\n",
    "    \n",
    "    return lhs - rhs\n",
    "\n",
    "# Set the parameters for Set 1\n",
    "sigma1 = 1.001\n",
    "rho1 = 1.001\n",
    "epsilon1 = 1.0\n",
    "\n",
    "# Set the parameters for Set 2\n",
    "sigma2 = 1.5\n",
    "rho2 = 1.5\n",
    "epsilon2 = 1.0\n",
    "\n",
    "# Redefine baseline parameters\n",
    "alpha = 0.5\n",
    "kappa = 1.0\n",
    "nu = 1 / (2 * 16**2)\n",
    "w = 1.0\n",
    "tau = tau_star\n",
    "\n",
    "# Solve for G using Set 1 parameters\n",
    "G_solution_set1 = fsolve(worker_problem, 1.0, args=(tau, w, kappa, alpha, nu, sigma1, rho1, epsilon1))[0]\n",
    "\n",
    "# Solve for G using Set 2 parameters\n",
    "G_solution_set2 = fsolve(worker_problem, 1.0, args=(tau, w, kappa, alpha, nu, sigma2, rho2, epsilon2))[0]\n",
    "\n",
    "# Print out the values\n",
    "print(f\"Solution for Set 1: G = {G_solution_set1:.3f}\")\n",
    "print(f\"Solution for Set 2: G = {G_solution_set2:.3f}\")"
   ]
  },
  {
   "attachments": {},
   "cell_type": "markdown",
   "metadata": {},
   "source": [
    "---"
   ]
  },
  {
   "attachments": {},
   "cell_type": "markdown",
   "metadata": {},
   "source": [
    "**Question 6:** Find the socially optimal tax rate, $\\tau^{\\star}$, maximizing worker utility, while keeping $G = \\tau w L^{\\star}((1-\\tau)w,G)$."
   ]
  },
  {
   "attachments": {},
   "cell_type": "markdown",
   "metadata": {},
   "source": [
    "In order to find the socially optimal tax rate that maximizes worker utility while keeping the given expression we can firstly define an objective function called objective to maximize utility. Within the objective function, we calculate the effective wage, the optimal labor supply choice, the corresponding optimal government consumption and the utility. Then the difference between the given government consumption and the optimal government consumption is being found were\n",
    "the objective value is the sum of utility and the squared difference between the given and optimal government consumption. Next, the minimize_scalar function is used to solve for the socially optimal tax rate for Set 1 and Set 2 by minimizing the objective function with the corresponding parameters.\n"
   ]
  },
  {
   "cell_type": "code",
   "execution_count": null,
   "metadata": {},
   "outputs": [],
   "source": [
    "# Define the objective function to maximize utility (negative of utility)\n",
    "def objective(tau, G, w, kappa, alpha, nu, sigma, rho, epsilon):\n",
    "    # Calculate the effective wage\n",
    "    w_tilde = (1 - tau) * w\n",
    "    \n",
    "    # Calculate the corresponding optimal labor supply choice\n",
    "    L_star = (-kappa + np.sqrt(kappa**2 + 4 * alpha / nu * w_tilde**2)) / (2 * w_tilde)\n",
    "    \n",
    "    # Calculate G_star\n",
    "    G_star = tau * w * L_star\n",
    "    \n",
    "    # Calculate utility (negative of utility to maximize)\n",
    "    utility = -(((alpha * (kappa + (1 - tau) * w * L_star)**((sigma - 1) / sigma) + (1 - alpha) * G**((sigma - 1) / sigma))**(sigma / (1 - sigma)))**(1 - rho) - 1) / (1 - rho) - nu * L_star**(1 + epsilon) / (1 + epsilon)\n",
    "    \n",
    "    # Calculate the difference between G and G_star\n",
    "    G_diff = G - G_star\n",
    "    \n",
    "    # Calculate the objective value\n",
    "    objective_value = utility + G_diff**2\n",
    "    \n",
    "    return objective_value\n",
    "\n",
    "# Define the bounds for tau\n",
    "tau_bounds = (0, 1)\n",
    "\n",
    "# Solve for the socially optimal tax rate for Set 1\n",
    "result_set1 = minimize_scalar(lambda tau: objective(tau, G_solution_set1, w, kappa, alpha, nu, sigma1, rho1, epsilon1), bounds=tau_bounds, method='bounded')\n",
    "tau_star_set1 = result_set1.x\n",
    "\n",
    "# Solve for the socially optimal tax rate for Set 2\n",
    "result_set2 = minimize_scalar(lambda tau: objective(tau, G_solution_set2, w, kappa, alpha, nu, sigma2, rho2, epsilon2), bounds=tau_bounds, method='bounded')\n",
    "tau_star_set2 = result_set2.x\n",
    "\n",
    "# Print out the values\n",
    "print(f\"Set 1: Socially optimal tax rate (tau_star) = {tau_star_set1:.3f}\")\n",
    "print(f\"Set 2: Socially optimal tax rate (tau_star) = {tau_star_set2:.3f}\")"
   ]
  },
  {
   "attachments": {},
   "cell_type": "markdown",
   "metadata": {},
   "source": [
    "---"
   ]
  },
  {
   "attachments": {},
   "cell_type": "markdown",
   "metadata": {},
   "source": [
    "## <a id='toc2_'></a>[Problem 2: Labor adjustment costs](#toc0_)"
   ]
  },
  {
   "attachments": {},
   "cell_type": "markdown",
   "metadata": {},
   "source": [
    "You own a hair salon. You employ hairdressers, $\\ell_t$, to produce haircuts, $y_t = \\ell_t$.\n",
    "\n",
    "The wage for each haridresser is $w$.\n",
    "\n",
    "The demand for haircuts implies that the price of haircuts you can charge is $p_t = \\kappa_t y_t^{-\\eta}$, where $\\kappa_t$ is a demand-shock and $\\eta \\in (0,1)$ measures the elasticity of demand.\n",
    "\n",
    "Profits are:\n",
    "\n",
    "$$\n",
    "\\Pi_t = p_t y_t - w \\ell_t = \\kappa_t \\ell_t^{1-\\eta} - w \\ell_t\n",
    "$$"
   ]
  },
  {
   "attachments": {},
   "cell_type": "markdown",
   "metadata": {},
   "source": [
    "Baseline parameters are:\n",
    "- $\\eta = 0.5$\n",
    "- $w = 1.0$"
   ]
  },
  {
   "attachments": {},
   "cell_type": "markdown",
   "metadata": {},
   "source": [
    "**Question 1:** Verify numerically that $\\ell_{t}=\\left(\\frac{(1-\\eta)\\kappa_{t}}{w}\\right)^{\\frac{1}{\\eta}}$ maximises profits, for $\\kappa\\in\\left\\{1.0 , 2.0\\right\\}$."
   ]
  },
  {
   "attachments": {},
   "cell_type": "markdown",
   "metadata": {},
   "source": [
    "In this task we are asked to verify that $\\ell_{t}=\\left(\\frac{(1\\eta)\\kappa_{t}}{w}\\right)^{\\frac{1}{\\eta}}$ maximises profits for the given values of $k$. We therefor start by define our symbols and profit function. Next, we calculate the derivative f the profit function with respect to 1 using the diff function from sympy and solves for the value of 1 that makes the derivative equal to zero using the solve function from the same package sympy. Lastly the expression for the optimal labor input choice is being simplified. "
   ]
  },
  {
   "cell_type": "code",
   "execution_count": null,
   "metadata": {},
   "outputs": [],
   "source": [
    "# Define the symbols\n",
    "l, kappa, eta, w = sp.symbols('l kappa eta w')\n",
    "\n",
    "# Define the profit function\n",
    "profit = kappa * l**(1 - eta) - w * l\n",
    "\n",
    "# Calculate the derivative of the profit function with respect to l\n",
    "d_profit = sp.diff(profit, l)\n",
    "\n",
    "# Solve for l that makes the derivative equal to zero\n",
    "optimal_l = sp.solve(d_profit, l)\n",
    "\n",
    "# Simplify the expression for the optimal labor input choice\n",
    "optimal_l = sp.simplify(optimal_l[0])\n",
    "\n",
    "# Display the optimal labor input choice\n",
    "print('The optimal labor input choice is as follows:')\n",
    "optimal_l"
   ]
  },
  {
   "attachments": {},
   "cell_type": "markdown",
   "metadata": {},
   "source": [
    "---"
   ]
  },
  {
   "attachments": {},
   "cell_type": "markdown",
   "metadata": {},
   "source": [
    "We now consider a *dynamic* version of the model.\n",
    "\n",
    "* The demand-shock is a so-called AR(1) in logs, \n",
    "\n",
    "$$\n",
    "\\log \\kappa_{t} = \\rho \\log \\kappa_{t-1} + \\epsilon_{t},\\,\\,\\, \\epsilon_{t+1} \\sim \\mathcal{N}(-0.5\\sigma_{\\epsilon}^2,\\sigma_{\\epsilon})\n",
    "$$\n",
    "\n",
    "* Any hiring or firing implies a fixed adjustment cost, $\\iota > 0 $.\n",
    "* Future profits are discounted with a monthly factor of $R \\in (0,1)$.\n",
    "\n",
    "The initial demand shock is $\\kappa_{-1} = 1$ and the planning horizon is 10 years, i.e. 120 months so $t \\in \\{0,1,2,\\dots,119\\}$. Initially you don't have any employees, $\\ell_{-1}=0$"
   ]
  },
  {
   "attachments": {},
   "cell_type": "markdown",
   "metadata": {},
   "source": [
    "\n",
    "The *ex post* value of the salon is *conditional* on the shock series is:\n",
    "\n",
    "$$\n",
    "h(\\epsilon_0,\\epsilon_1,\\dots,\\epsilon_{119}) = \\left[\\sum_{t=0}^{119}R^{-t}\\left[\\kappa_{t}\\ell_{t}^{1-\\eta}-w\\ell_{t}-\\boldsymbol{1}_{\\ell_{t}\\neq\\ell_{t-1}}\\iota\\right]\\right]\n",
    "$$\n",
    "\n",
    "The *ex ante* expected value of the salon can be approximated by\n",
    "\n",
    "$$\n",
    "H = \\mathbb{E}[h(\\epsilon_0,\\epsilon_1,\\dots,\\epsilon_{119})] \\approx \\frac{1}{K}\\sum_{k=0}^{K} h(\\epsilon_0^k,\\epsilon_1^k,\\dots,\\epsilon_{119}^k)\n",
    "$$\n",
    "\n",
    "where each $k\\in\\{0,1,\\dots,K-1\\}$ is a random shock series. Maximizing profitability means maximizing $H$.\n"
   ]
  },
  {
   "attachments": {},
   "cell_type": "markdown",
   "metadata": {},
   "source": [
    "Baseline parameters are: \n",
    "\n",
    "- $\\rho = 0.90$\n",
    "- $\\iota = 0.01$\n",
    "- $\\sigma_{\\epsilon} = 0.10$\n",
    "- $R = \\left(1+0.01\\right)^{1/12}$"
   ]
  },
  {
   "attachments": {},
   "cell_type": "markdown",
   "metadata": {},
   "source": [
    "**Question 2:** Calculate $H$ if the policy  $\\ell_{t}=\\left(\\frac{(1-\\eta)\\kappa_{t}}{w}\\right)^{\\frac{1}{\\eta}}$ from question 1 is followed. Choose $K$ so the approximation is good enough to not affect your results substantially."
   ]
  },
  {
   "attachments": {},
   "cell_type": "markdown",
   "metadata": {},
   "source": [
    "We now consider this new dynamic version of the model, where we now are asked to calculate $H$. Therefore we start of by set the baseline paramerters and define the function named generate_shock_series(). The function generates a series of demand shocks using random numbers. The shocks are calculated based on a normal distribution and the given standard deviation (sigma_epsilon). The function also applies a specific formula to transform the shocks into a series of values (kappas). Next, another function named calculate_ex_post_value(shock_series) is being defined and calculates the ex-post value of the salon based on the given shock series. It iterates over each time period and calculates the optimal labor input, profits, adjustment costs, and overall ex-post value. The ex-post value is discounted over time using a discount factor (R) and accumulated. Then we define the function named approximate_expected_value(K) which approximates the ex-ante expected value of the salon by repeatedly generating shock series (K times) and calculating their ex-post values using the calculate_ex_post_value() function. The mean value of the ex-post values is then returned as the approximate expected value.\n",
    "Lastly, we use the approximate_expected_value() function to give an approximated expected value of the salon. \n",
    "\n"
   ]
  },
  {
   "cell_type": "code",
   "execution_count": null,
   "metadata": {},
   "outputs": [],
   "source": [
    "# Set the baseline parameters and policy parameters from Q1\n",
    "rho = 0.90\n",
    "iota = 0.01\n",
    "sigma_epsilon = 0.10\n",
    "R = (1 + 0.01)**(1/12)\n",
    "eta = 0.5\n",
    "w = 1.0\n",
    "\n",
    "# Function to calculate the demand shock series\n",
    "def generate_shock_series():\n",
    "    np.random.seed(0)  # For reproducibility\n",
    "    shocks = np.random.normal(loc=-0.5 * sigma_epsilon**2, scale=sigma_epsilon, size=120)\n",
    "    logs_kappa = np.zeros(120)\n",
    "    logs_kappa[0] = 0  # Initial shock\n",
    "    for t in range(1, 120):\n",
    "        logs_kappa[t] = rho * logs_kappa[t-1] + shocks[t]\n",
    "    kappas = np.exp(logs_kappa)\n",
    "    return kappas\n",
    "\n",
    "# Function to calculate the ex-post value of the salon for a shock series\n",
    "def calculate_ex_post_value(shock_series):\n",
    "    l_previous = 0\n",
    "    ex_post_value = 0\n",
    "    for t in range(120):\n",
    "        kappa = shock_series[t]\n",
    "        l = ((1 - eta) * kappa / w) ** (1 / eta)\n",
    "        profits = kappa * l**(1 - eta) - w * l\n",
    "        adjustment_cost = (l != l_previous) * iota\n",
    "        ex_post_value += R**(-t) * (profits - adjustment_cost)\n",
    "        l_previous = l\n",
    "    return ex_post_value\n",
    "\n",
    "# Function to approximate the ex-ante expected value of the salon\n",
    "def approximate_expected_value(K):\n",
    "    ex_post_values = np.zeros(K)\n",
    "    for k in range(K):\n",
    "        shock_series = generate_shock_series()\n",
    "        ex_post_values[k] = calculate_ex_post_value(shock_series)\n",
    "    return np.mean(ex_post_values)\n",
    "\n",
    "# Approximate the expected value of the salon\n",
    "K = 10000\n",
    "expected_value = approximate_expected_value(K)\n",
    "\n",
    "print(f\"The approximated expected value of the salon (H) is: {expected_value:.3f}\")"
   ]
  },
  {
   "attachments": {},
   "cell_type": "markdown",
   "metadata": {},
   "source": [
    "---"
   ]
  },
  {
   "attachments": {},
   "cell_type": "markdown",
   "metadata": {},
   "source": [
    "Next, we consider policies on the form:\n",
    "\n",
    "$$\n",
    "\n",
    "\\ell_{t}=\\begin{cases}\n",
    "\\ell_t^{\\ast}  & \\text{if }\\left|\\ell_{t-1}-\\ell_t^{\\ast} \\right|>\\Delta\\\\\n",
    "\\ell_{t-1} & \\text{else }\n",
    "\\end{cases}\n",
    "\\\\\n",
    "\\text{where}\\,\\,\\ell_t^{\\ast} = \\left(\\frac{(1-\\eta)\\kappa_{t}}{w}\\right)^{\\frac{1}{\\eta}} \\\\\n",
    "\n",
    "$$\n",
    "With $\\Delta \\geq 0$ and $\\Delta = 0$ being the previous policy.\n"
   ]
  },
  {
   "attachments": {},
   "cell_type": "markdown",
   "metadata": {},
   "source": [
    "\n",
    "**Question 3:** Calculate $H$ if the policy above was followed with $\\Delta = 0.05$. Does it improve profitability?"
   ]
  },
  {
   "cell_type": "code",
   "execution_count": null,
   "metadata": {},
   "outputs": [],
   "source": [
    "# Function to calculate the ex-post value of the salon for a shock series with the new policy\n",
    "def calculate_ex_post_value_new_policy(shock_series, delta):\n",
    "    l_previous = 0\n",
    "    ex_post_value = 0\n",
    "    for t in range(120):\n",
    "        kappa = shock_series[t]\n",
    "        l_star = ((1 - eta) * kappa / w) ** (1 / eta)\n",
    "        diff = abs(l_previous - l_star)\n",
    "        if diff > delta:\n",
    "            l = l_star\n",
    "        else:\n",
    "            l = l_previous\n",
    "        profits = kappa * l**(1 - eta) - w * l\n",
    "        adjustment_cost = (l != l_previous) * iota\n",
    "        ex_post_value += R**(-t) * (profits - adjustment_cost)\n",
    "        l_previous = l\n",
    "    return ex_post_value\n",
    "\n",
    "# Function to approximate the ex-ante expected value of the salon with the new policy\n",
    "def approximate_expected_value_new_policy(K, delta):\n",
    "    ex_post_values = np.zeros(K)\n",
    "    for k in range(K):\n",
    "        shock_series = generate_shock_series()\n",
    "        ex_post_values[k] = calculate_ex_post_value_new_policy(shock_series, delta)\n",
    "    return np.mean(ex_post_values)\n",
    "\n",
    "# Approximate the expected value of the salon with the new policy\n",
    "delta = 0.05\n",
    "expected_value_new_policy = approximate_expected_value_new_policy(K, delta)\n",
    "\n",
    "print(f\"The approximated expected value of the salon with the new policy (H) is: {expected_value_new_policy:.3f}\")"
   ]
  },
  {
   "attachments": {},
   "cell_type": "markdown",
   "metadata": {},
   "source": [
    "**Question 4:** Find the optimal $\\Delta$ maximizing $H$. Illustrate your result."
   ]
  },
  {
   "cell_type": "code",
   "execution_count": 17,
   "metadata": {},
   "outputs": [
    {
     "name": "stdout",
     "output_type": "stream",
     "text": [
      "Optimal Delta: 0.31048735265919347\n",
      "Maximum H: 58.351558307636544\n"
     ]
    },
    {
     "data": {
      "image/png": "[encoded data removed]",
      "text/plain": [
       "<Figure size 640x480 with 1 Axes>"
      ]
     },
     "metadata": {},
     "output_type": "display_data"
    }
   ],
   "source": [
    "import numpy as np\n",
    "import matplotlib.pyplot as plt\n",
    "from scipy.optimize import minimize_scalar\n",
    "\n",
    "# Define the employment policy\n",
    "def employment_policy(kappa, w, eta, delta, ell_previous):\n",
    "    ell_star = ((1 - eta) * kappa / w) ** (1 / eta)\n",
    "    diff = np.abs(ell_previous - ell_star)\n",
    "    return np.where(diff > delta, ell_star, ell_previous)\n",
    "\n",
    "# Define the function h\n",
    "def h(kappa, ell, w, eta, delta):\n",
    "    T = len(kappa)\n",
    "    ell_previous = np.roll(ell, 1)\n",
    "    ell_previous[0] = 0\n",
    "    adjustment_cost = iota * (ell != ell_previous)\n",
    "    values = R ** (-np.arange(T)) * (kappa * ell ** (1 - eta) - w * ell - adjustment_cost)\n",
    "    return np.sum(values)\n",
    "\n",
    "# Define the objective function for optimization\n",
    "def objective(delta):\n",
    "    H_sum = 0\n",
    "    for _ in range(K):\n",
    "        epsilon = np.random.normal(loc=-0.5 * sigma_epsilon ** 2, scale=sigma_epsilon, size=120)\n",
    "        log_kappa = np.insert(rho * np.cumsum(epsilon[:-1]) + epsilon[0], 0, 0)\n",
    "        kappa = np.exp(log_kappa)\n",
    "        kappa[kappa < 0] = 0\n",
    "\n",
    "        ell = np.zeros(120)\n",
    "        ell_previous = 0\n",
    "        for t in range(120):\n",
    "            ell[t] = employment_policy(kappa[t], w, eta, delta, ell_previous)\n",
    "            ell_previous = ell[t]\n",
    "\n",
    "        H_sum += h(kappa, ell, w, eta, delta)\n",
    "\n",
    "    H = H_sum / K\n",
    "    return -H\n",
    "\n",
    "# Set the parameters\n",
    "np.random.seed(0)\n",
    "K = 100\n",
    "eta = 0.5\n",
    "w = 1.0\n",
    "\n",
    "# Perform the optimization\n",
    "result = minimize_scalar(objective, bounds=(0, 0.5), method='bounded')\n",
    "optimal_delta = result.x\n",
    "max_H = -result.fun\n",
    "\n",
    "# Print the results\n",
    "print(\"Optimal Delta:\", optimal_delta)\n",
    "print(\"Maximum H:\", max_H)\n",
    "\n",
    "# Plot the results\n",
    "delta_values = np.linspace(0, 0.5, 100)\n",
    "H_values = [-objective(delta) for delta in delta_values]\n",
    "plt.plot(delta_values, H_values)\n",
    "plt.xlabel('Delta')\n",
    "plt.ylabel('Expected Value of the Salon (H)')\n",
    "plt.title('Optimal Delta for Maximizing H')\n",
    "plt.grid(True)\n",
    "plt.axvline(x=optimal_delta, color='r', linestyle='--')\n",
    "plt.show()"
   ]
  },
  {
   "attachments": {},
   "cell_type": "markdown",
   "metadata": {},
   "source": [
    "**Question 5:** Suggest an alternative policy you believe might improve profitability. Implement and test your policy."
   ]
  },
  {
   "attachments": {},
   "cell_type": "markdown",
   "metadata": {},
   "source": [
    "The alternative policy considers a cost-based threshold that takes into account the adjustment cost and the potential increase in profits. This approach aims to balance the costs of adjusting the labor input with the potential gains in profitability. \n",
    "\n",
    "The alternative employment policy can be defined as follows:\n",
    "\n",
    "$$\\ell_t = \\begin{cases}\n",
    "\\ell_t^* & \\text{if } |\\ell_{t-1} - \\ell_t^*| > \\text{cost\\_threshold} \\\\\n",
    "\\ell_{t-1} & \\text{else}\n",
    "\\end{cases}$$\n",
    "\n",
    "where $\\ell_t^*$ is the optimal labor input at time $t$ calculated using the previous formula, and $\\text{cost\\_threshold}$ is the threshold based on the adjustment cost and the potential increase in profits."
   ]
  },
  {
   "cell_type": "code",
   "execution_count": 18,
   "metadata": {},
   "outputs": [
    {
     "name": "stdout",
     "output_type": "stream",
     "text": [
      "Optimal Delta (Alternative Policy): 0.2603094640873799\n",
      "Maximum H (Alternative Policy): 67.38756756439948\n"
     ]
    },
    {
     "data": {
      "image/png": "[encoded data removed]",
      "text/plain": [
       "<Figure size 640x480 with 1 Axes>"
      ]
     },
     "metadata": {},
     "output_type": "display_data"
    }
   ],
   "source": [
    "# Define the employment policy with cost-based threshold\n",
    "def employment_policy_alt(kappa, w, eta, delta, ell_previous):\n",
    "    ell_star = ((1 - eta) * kappa / w) ** (1 / eta)\n",
    "    diff = np.abs(ell_previous - ell_star)\n",
    "    cost_threshold = (1 - eta) * w * ell_star ** (-eta) * delta\n",
    "    return np.where(diff > cost_threshold, ell_star, ell_previous)\n",
    "\n",
    "# Define the objective function for optimization\n",
    "def objective_alt(delta):\n",
    "    H_sum = 0\n",
    "    for _ in range(K):\n",
    "        epsilon = np.random.normal(loc=-0.5 * sigma_epsilon ** 2, scale=sigma_epsilon, size=120)\n",
    "        log_kappa = np.insert(rho * np.cumsum(epsilon[:-1]) + epsilon[0], 0, 0)\n",
    "        kappa = np.exp(log_kappa)\n",
    "        kappa[kappa < 0] = 0\n",
    "\n",
    "        ell = np.zeros(120)\n",
    "        ell_previous = 0\n",
    "        for t in range(120):\n",
    "            ell[t] = employment_policy_alt(kappa[t], w, eta, delta, ell_previous)\n",
    "            ell_previous = ell[t]\n",
    "\n",
    "        H_sum += h(kappa, ell, w, eta, delta)\n",
    "\n",
    "    H = H_sum / K\n",
    "    return -H\n",
    "\n",
    "# Perform the optimization for the alternative policy\n",
    "result_alt = minimize_scalar(objective_alt, bounds=(0, 0.5), method='bounded')\n",
    "optimal_delta_alt = result_alt.x\n",
    "max_H_alt = -result_alt.fun\n",
    "\n",
    "# Print the results for the alternative policy\n",
    "print(\"Optimal Delta (Alternative Policy):\", optimal_delta_alt)\n",
    "print(\"Maximum H (Alternative Policy):\", max_H_alt)\n",
    "\n",
    "# Plot the results for the alternative policy\n",
    "delta_values = np.linspace(0, 0.5, 100)\n",
    "H_values_alt = [-objective_alt(delta) for delta in delta_values]\n",
    "plt.plot(delta_values, H_values_alt)\n",
    "plt.xlabel('Delta')\n",
    "plt.ylabel('Expected Value of the Salon (H)')\n",
    "plt.title('Optimal Delta for Maximizing H (Alternative Policy)')\n",
    "plt.grid(True)\n",
    "plt.axvline(x=optimal_delta_alt, color='r', linestyle='--')\n",
    "plt.show()\n"
   ]
  },
  {
   "attachments": {},
   "cell_type": "markdown",
   "metadata": {},
   "source": [
    "## <a id='toc3_'></a>[Problem 3: Global optimizer with refined multi-start](#toc0_)"
   ]
  },
  {
   "attachments": {},
   "cell_type": "markdown",
   "metadata": {},
   "source": [
    "We consider the Griewank function:\n",
    "\n",
    "$$ f(\\boldsymbol{x}) = \\sum^n_{i=1} \\frac{x^2_i}{4000}-\\prod^n_{i=1}\\cos\\left(\\frac{x_i}{\\sqrt{i}}\\right)+1$$\n",
    "\n",
    "The **global minimum** of this function is $f(0,0) = 0$ (remember: $\\cos(0)=1$).<br>\n",
    "But the function also have a lot of **local minima**."
   ]
  },
  {
   "cell_type": "code",
   "execution_count": null,
   "metadata": {},
   "outputs": [],
   "source": [
    "def griewank(x):\n",
    "    return griewank_(x[0],x[1])\n",
    "    \n",
    "def griewank_(x1,x2):\n",
    "    A = x1**2/4000 + x2**2/4000\n",
    "    B = np.cos(x1/np.sqrt(1))*np.cos(x2/np.sqrt(2))\n",
    "    return A-B+1"
   ]
  },
  {
   "attachments": {},
   "cell_type": "markdown",
   "metadata": {},
   "source": [
    "A **refined global optimizer with multi-start** is:\n",
    "\n",
    "1. Choose *bounds* for $\\mathbf{x}$ and *tolerance* $\\tau > 0$.\n",
    "2. Choose number of *warm-up iterations*, $\\underline{K} > 0$ and *maximum number of iterations*, $K > \\underline{K}$.\n",
    "3. In each iteration for $k \\in \\{0,1,\\dots,K-1\\}$:\n",
    "\n",
    "    A. Draw random $\\mathbf{x}^k$ uniformly within chosen bounds.\n",
    "\n",
    "    B. If $k < \\underline{K}$ go to step E.\n",
    "\n",
    "    C. Calculate $\\chi^k = 0.50\\cdot\\frac{2}{1+\\exp((k-\\underline{K})/100)}$  \n",
    "\n",
    "    D. Set $\\mathbf{x}^{k0} = \\chi^k \\mathbf{x}^k + (1-\\chi^k)\\mathbf{x}^{\\ast} $\n",
    "\n",
    "    E. Run optimizer with $\\mathbf{x}^{k0}$ as initial guess and $\\mathbf{x}^{k\\ast}$ as result.\n",
    "\n",
    "    F. Set $\\mathbf{x}^{\\ast} = \\mathbf{x}^{k\\ast}$ if $k = 0$ or $f(\\mathbf{x}^{k\\ast}) < f(\\mathbf{x}^{\\ast})$\n",
    "\n",
    "    G. If $f(\\mathbf{x}^{\\ast}) < \\tau$ go to step 4.\n",
    "\n",
    "4. Return the result $\\mathbf{x}^{\\ast}$."
   ]
  },
  {
   "attachments": {},
   "cell_type": "markdown",
   "metadata": {},
   "source": [
    "As settings we choose:\n",
    "\n",
    "* $x_1,x_2 \\in  [-600,600]$\n",
    "* $\\tau = 10^{-8}$\n",
    "* $\\underline{K}=10$\n",
    "* $K=1000$\n",
    "\n",
    "The optimizer in Step 3.E is `BFGS` with a tolerance of $\\tau$."
   ]
  },
  {
   "attachments": {},
   "cell_type": "markdown",
   "metadata": {},
   "source": [
    "**Question 1:** Implement the refined global optimizer with multi-start. Illustrate how the effective initial guesses $\\mathbf{x}^{k0}$ vary with the iteration counter $k$."
   ]
  },
  {
   "cell_type": "code",
   "execution_count": null,
   "metadata": {},
   "outputs": [],
   "source": [
    "def refined_global_optimizer(bounds, tolerance, K_warmup, K_max):\n",
    "    x_best = None\n",
    "    f_best = np.inf\n",
    "\n",
    "    x_effective_list = []\n",
    "\n",
    "    for k in range(K_max):\n",
    "        x = np.random.uniform(bounds[0], bounds[1], size=2)\n",
    "\n",
    "        if k >= K_warmup:\n",
    "            chi = 0.5 * 2 / (1 + np.exp((k - K_warmup) / 100))\n",
    "            x_effective = chi * x + (1 - chi) * x_best\n",
    "            x_effective_list.append(x_effective)\n",
    "\n",
    "        result = minimize(griewank, x, method='BFGS', tol=tolerance)\n",
    "        x_opt = result.x\n",
    "        f_opt = result.fun\n",
    "\n",
    "        if k == 0 or f_opt < f_best:\n",
    "            x_best = x_opt\n",
    "            f_best = f_opt\n",
    "\n",
    "        if f_best < tolerance:\n",
    "            break\n",
    "\n",
    "    return x_best, x_effective_list\n",
    "\n",
    "# Set the parameters for Question 1\n",
    "bounds_q1 = [-600, 600]\n",
    "tolerance_q1 = 1e-8\n",
    "K_warmup_q1 = 10\n",
    "K_max_q1 = 1000\n",
    "\n",
    "# Run the refined global optimizer for Question 1\n",
    "x_optimal_q1, x_effective_list_q1 = refined_global_optimizer(bounds_q1, tolerance_q1, K_warmup_q1, K_max_q1)\n",
    "\n",
    "# Print the final result for Question 1\n",
    "print(\"Optimization Result for Question 1:\")\n",
    "print(f\"x_optimal_q1 = {x_optimal_q1}, f(x_optimal_q1) = {griewank(x_optimal_q1)}\")\n",
    "print(\"Number of iterations for Question 1:\", K_max_q1)\n",
    "\n",
    "# Plot the variation of effective initial guesses for Question 1\n",
    "iterations_q1 = range(K_warmup_q1, K_max_q1)\n",
    "x_effective_array_q1 = np.array(x_effective_list_q1)\n",
    "x1_effective_q1 = x_effective_array_q1[:, 0]\n",
    "x2_effective_q1 = x_effective_array_q1[:, 1]\n",
    "\n",
    "plt.scatter(x1_effective_q1, x2_effective_q1, c=iterations_q1, cmap='viridis')\n",
    "plt.colorbar(label='Iteration')\n",
    "plt.xlabel('x1')\n",
    "plt.ylabel('x2')\n",
    "plt.title('Variation of Effective Initial Guesses for Question 1')\n",
    "\n",
    "plt.show()\n"
   ]
  },
  {
   "attachments": {},
   "cell_type": "markdown",
   "metadata": {},
   "source": [
    "**Question 2:** Is it a better idea to set $\\underline{K} = 100$? Is the convergence faster?"
   ]
  },
  {
   "cell_type": "code",
   "execution_count": null,
   "metadata": {},
   "outputs": [],
   "source": [
    "# Set the parameters for Question 2\n",
    "bounds_q2 = [-600, 600]\n",
    "tolerance_q2 = 1e-8\n",
    "K_warmup_q2 = 100\n",
    "K_max_q2 = 1000\n",
    "\n",
    "# Run the refined global optimizer for Question 2\n",
    "x_optimal_q2, x_effective_list_q2 = refined_global_optimizer(bounds_q2, tolerance_q2, K_warmup_q2, K_max_q2)\n",
    "\n",
    "# Print the final result for Question 2\n",
    "print(\"Optimization Result for Question 2:\")\n",
    "print(f\"x_optimal_q2 = {x_optimal_q2}, f(x_optimal_q2) = {griewank(x_optimal_q2)}\")\n",
    "print(\"Number of iterations for Question 2:\", K_max_q2)\n",
    "\n",
    "# Plot the variation of effective initial guesses for Question 2\n",
    "iterations_q2 = range(K_warmup_q2, K_max_q2)\n",
    "x_effective_array_q2 = np.array(x_effective_list_q2)\n",
    "x1_effective_q2 = x_effective_array_q2[:, 0]\n",
    "x2_effective_q2 = x_effective_array_q2[:, 1]\n",
    "\n",
    "plt.scatter(x1_effective_q2, x2_effective_q2, c=iterations_q2, cmap='viridis')\n",
    "plt.colorbar(label='Iteration')\n",
    "plt.xlabel('x1')\n",
    "plt.ylabel('x2')\n",
    "plt.title('Variation of Effective Initial Guesses for Question 2')\n",
    "\n",
    "plt.show()"
   ]
  },
  {
   "attachments": {},
   "cell_type": "markdown",
   "metadata": {},
   "source": []
  }
 ],
 "metadata": {
  "kernelspec": {
   "display_name": "base",
   "language": "python",
   "name": "python3"
  },
  "language_info": {
   "codemirror_mode": {
    "name": "ipython",
    "version": 3
   },
   "file_extension": ".py",
   "mimetype": "text/x-python",
   "name": "python",
   "nbconvert_exporter": "python",
   "pygments_lexer": "ipython3",
   "version": "3.10.11"
  },
  "orig_nbformat": 4,
  "vscode": {
   "interpreter": {
    "hash": "4543e2aa0819e4f60e86b01a02126c3618419736fe7742cba2614170705ea383"
   }
  }
 },
 "nbformat": 4,
 "nbformat_minor": 2
}
